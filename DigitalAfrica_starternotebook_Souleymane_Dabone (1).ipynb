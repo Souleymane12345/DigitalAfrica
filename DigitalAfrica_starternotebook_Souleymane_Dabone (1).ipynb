{
  "cells": [
    {
      "cell_type": "markdown",
      "metadata": {
        "id": "Gu1EwTSDtQYq"
      },
      "source": [
        "\n",
        "\n",
        "# Drive\n",
        "\n"
      ]
    },
    {
      "cell_type": "code",
      "execution_count": null,
      "metadata": {
        "colab": {
          "base_uri": "https://localhost:8080/"
        },
        "id": "8gHyljv5xDiR",
        "outputId": "64160ace-7c16-4051-966c-30c62347fe76"
      },
      "outputs": [
        {
          "name": "stdout",
          "output_type": "stream",
          "text": [
            "Sat Apr  8 14:31:44 2023       \n",
            "+-----------------------------------------------------------------------------+\n",
            "| NVIDIA-SMI 525.85.12    Driver Version: 525.85.12    CUDA Version: 12.0     |\n",
            "|-------------------------------+----------------------+----------------------+\n",
            "| GPU  Name        Persistence-M| Bus-Id        Disp.A | Volatile Uncorr. ECC |\n",
            "| Fan  Temp  Perf  Pwr:Usage/Cap|         Memory-Usage | GPU-Util  Compute M. |\n",
            "|                               |                      |               MIG M. |\n",
            "|===============================+======================+======================|\n",
            "|   0  NVIDIA A100-SXM...  Off  | 00000000:00:04.0 Off |                    0 |\n",
            "| N/A   33C    P0    47W / 400W |      0MiB / 40960MiB |      0%      Default |\n",
            "|                               |                      |             Disabled |\n",
            "+-------------------------------+----------------------+----------------------+\n",
            "                                                                               \n",
            "+-----------------------------------------------------------------------------+\n",
            "| Processes:                                                                  |\n",
            "|  GPU   GI   CI        PID   Type   Process name                  GPU Memory |\n",
            "|        ID   ID                                                   Usage      |\n",
            "|=============================================================================|\n",
            "|  No running processes found                                                 |\n",
            "+-----------------------------------------------------------------------------+\n"
          ]
        }
      ],
      "source": [
        "gpu_info = !nvidia-smi\n",
        "gpu_info = '\\n'.join(gpu_info)\n",
        "if gpu_info.find('failed') >= 0:\n",
        "  print('Not connected to a GPU')\n",
        "else:\n",
        "  print(gpu_info)"
      ]
    },
    {
      "cell_type": "code",
      "execution_count": null,
      "metadata": {
        "colab": {
          "base_uri": "https://localhost:8080/"
        },
        "id": "bGMh0UUAtOv_",
        "outputId": "8c46984b-f9a1-4516-9277-42c2a3f5c435"
      },
      "outputs": [
        {
          "output_type": "stream",
          "name": "stdout",
          "text": [
            "Mounted at /content/drive\n"
          ]
        }
      ],
      "source": [
        "from google.colab import drive\n",
        "drive.mount('/content/drive')"
      ]
    },
    {
      "cell_type": "markdown",
      "metadata": {
        "id": "bSgtG62hMga4"
      },
      "source": [
        "# Import"
      ]
    },
    {
      "cell_type": "code",
      "execution_count": null,
      "metadata": {
        "colab": {
          "base_uri": "https://localhost:8080/"
        },
        "id": "Mr3R_DgKMiej",
        "outputId": "cd4b0683-87f4-4130-9adf-2acf6003a1e1"
      },
      "outputs": [
        {
          "output_type": "stream",
          "name": "stdout",
          "text": [
            "Looking in indexes: https://pypi.org/simple, https://us-python.pkg.dev/colab-wheels/public/simple/\n",
            "Collecting timm\n",
            "  Downloading timm-0.6.13-py3-none-any.whl (549 kB)\n",
            "\u001b[2K     \u001b[90m━━━━━━━━━━━━━━━━━━━━━━━━━━━━━━━━━━━━━━\u001b[0m \u001b[32m549.1/549.1 KB\u001b[0m \u001b[31m28.1 MB/s\u001b[0m eta \u001b[36m0:00:00\u001b[0m\n",
            "\u001b[?25hRequirement already satisfied: torch>=1.7 in /usr/local/lib/python3.9/dist-packages (from timm) (2.0.0+cu118)\n",
            "Requirement already satisfied: pyyaml in /usr/local/lib/python3.9/dist-packages (from timm) (6.0)\n",
            "Collecting huggingface-hub\n",
            "  Downloading huggingface_hub-0.13.4-py3-none-any.whl (200 kB)\n",
            "\u001b[2K     \u001b[90m━━━━━━━━━━━━━━━━━━━━━━━━━━━━━━━━━━━━━━\u001b[0m \u001b[32m200.1/200.1 KB\u001b[0m \u001b[31m22.2 MB/s\u001b[0m eta \u001b[36m0:00:00\u001b[0m\n",
            "\u001b[?25hRequirement already satisfied: torchvision in /usr/local/lib/python3.9/dist-packages (from timm) (0.15.1+cu118)\n",
            "Requirement already satisfied: jinja2 in /usr/local/lib/python3.9/dist-packages (from torch>=1.7->timm) (3.1.2)\n",
            "Requirement already satisfied: triton==2.0.0 in /usr/local/lib/python3.9/dist-packages (from torch>=1.7->timm) (2.0.0)\n",
            "Requirement already satisfied: filelock in /usr/local/lib/python3.9/dist-packages (from torch>=1.7->timm) (3.10.7)\n",
            "Requirement already satisfied: sympy in /usr/local/lib/python3.9/dist-packages (from torch>=1.7->timm) (1.11.1)\n",
            "Requirement already satisfied: typing-extensions in /usr/local/lib/python3.9/dist-packages (from torch>=1.7->timm) (4.5.0)\n",
            "Requirement already satisfied: networkx in /usr/local/lib/python3.9/dist-packages (from torch>=1.7->timm) (3.0)\n",
            "Requirement already satisfied: cmake in /usr/local/lib/python3.9/dist-packages (from triton==2.0.0->torch>=1.7->timm) (3.25.2)\n",
            "Requirement already satisfied: lit in /usr/local/lib/python3.9/dist-packages (from triton==2.0.0->torch>=1.7->timm) (16.0.0)\n",
            "Requirement already satisfied: packaging>=20.9 in /usr/local/lib/python3.9/dist-packages (from huggingface-hub->timm) (23.0)\n",
            "Requirement already satisfied: tqdm>=4.42.1 in /usr/local/lib/python3.9/dist-packages (from huggingface-hub->timm) (4.65.0)\n",
            "Requirement already satisfied: requests in /usr/local/lib/python3.9/dist-packages (from huggingface-hub->timm) (2.27.1)\n",
            "Requirement already satisfied: pillow!=8.3.*,>=5.3.0 in /usr/local/lib/python3.9/dist-packages (from torchvision->timm) (8.4.0)\n",
            "Requirement already satisfied: numpy in /usr/local/lib/python3.9/dist-packages (from torchvision->timm) (1.22.4)\n",
            "Requirement already satisfied: MarkupSafe>=2.0 in /usr/local/lib/python3.9/dist-packages (from jinja2->torch>=1.7->timm) (2.1.2)\n",
            "Requirement already satisfied: charset-normalizer~=2.0.0 in /usr/local/lib/python3.9/dist-packages (from requests->huggingface-hub->timm) (2.0.12)\n",
            "Requirement already satisfied: idna<4,>=2.5 in /usr/local/lib/python3.9/dist-packages (from requests->huggingface-hub->timm) (3.4)\n",
            "Requirement already satisfied: certifi>=2017.4.17 in /usr/local/lib/python3.9/dist-packages (from requests->huggingface-hub->timm) (2022.12.7)\n",
            "Requirement already satisfied: urllib3<1.27,>=1.21.1 in /usr/local/lib/python3.9/dist-packages (from requests->huggingface-hub->timm) (1.26.15)\n",
            "Requirement already satisfied: mpmath>=0.19 in /usr/local/lib/python3.9/dist-packages (from sympy->torch>=1.7->timm) (1.3.0)\n",
            "Installing collected packages: huggingface-hub, timm\n",
            "Successfully installed huggingface-hub-0.13.4 timm-0.6.13\n"
          ]
        }
      ],
      "source": [
        "!pip install timm"
      ]
    },
    {
      "cell_type": "code",
      "execution_count": null,
      "metadata": {
        "colab": {
          "base_uri": "https://localhost:8080/"
        },
        "id": "zRtgxHjq33zU",
        "outputId": "042b1a86-dffb-4349-b2b2-7212fc9227c3"
      },
      "outputs": [
        {
          "output_type": "stream",
          "name": "stdout",
          "text": [
            "Looking in indexes: https://pypi.org/simple, https://us-python.pkg.dev/colab-wheels/public/simple/\n",
            "Collecting kornia\n",
            "  Downloading kornia-0.6.11-py2.py3-none-any.whl (628 kB)\n",
            "\u001b[2K     \u001b[90m━━━━━━━━━━━━━━━━━━━━━━━━━━━━━━━━━━━━━━\u001b[0m \u001b[32m628.1/628.1 KB\u001b[0m \u001b[31m32.4 MB/s\u001b[0m eta \u001b[36m0:00:00\u001b[0m\n",
            "\u001b[?25hRequirement already satisfied: packaging in /usr/local/lib/python3.9/dist-packages (from kornia) (23.0)\n",
            "Requirement already satisfied: torch>=1.9.1 in /usr/local/lib/python3.9/dist-packages (from kornia) (2.0.0+cu118)\n",
            "Requirement already satisfied: filelock in /usr/local/lib/python3.9/dist-packages (from torch>=1.9.1->kornia) (3.10.7)\n",
            "Requirement already satisfied: sympy in /usr/local/lib/python3.9/dist-packages (from torch>=1.9.1->kornia) (1.11.1)\n",
            "Requirement already satisfied: networkx in /usr/local/lib/python3.9/dist-packages (from torch>=1.9.1->kornia) (3.0)\n",
            "Requirement already satisfied: jinja2 in /usr/local/lib/python3.9/dist-packages (from torch>=1.9.1->kornia) (3.1.2)\n",
            "Requirement already satisfied: typing-extensions in /usr/local/lib/python3.9/dist-packages (from torch>=1.9.1->kornia) (4.5.0)\n",
            "Requirement already satisfied: triton==2.0.0 in /usr/local/lib/python3.9/dist-packages (from torch>=1.9.1->kornia) (2.0.0)\n",
            "Requirement already satisfied: cmake in /usr/local/lib/python3.9/dist-packages (from triton==2.0.0->torch>=1.9.1->kornia) (3.25.2)\n",
            "Requirement already satisfied: lit in /usr/local/lib/python3.9/dist-packages (from triton==2.0.0->torch>=1.9.1->kornia) (16.0.0)\n",
            "Requirement already satisfied: MarkupSafe>=2.0 in /usr/local/lib/python3.9/dist-packages (from jinja2->torch>=1.9.1->kornia) (2.1.2)\n",
            "Requirement already satisfied: mpmath>=0.19 in /usr/local/lib/python3.9/dist-packages (from sympy->torch>=1.9.1->kornia) (1.3.0)\n",
            "Installing collected packages: kornia\n",
            "Successfully installed kornia-0.6.11\n"
          ]
        }
      ],
      "source": [
        "!pip install kornia"
      ]
    },
    {
      "cell_type": "code",
      "execution_count": null,
      "metadata": {
        "colab": {
          "base_uri": "https://localhost:8080/"
        },
        "id": "YiPCJdn13_l-",
        "outputId": "3aa32831-8cc3-4c15-ee9e-750bb6091344"
      },
      "outputs": [
        {
          "output_type": "stream",
          "name": "stdout",
          "text": [
            "Looking in indexes: https://pypi.org/simple, https://us-python.pkg.dev/colab-wheels/public/simple/\n",
            "Collecting pytorch_lightning\n",
            "  Downloading pytorch_lightning-2.0.1-py3-none-any.whl (716 kB)\n",
            "\u001b[2K     \u001b[90m━━━━━━━━━━━━━━━━━━━━━━━━━━━━━━━━━━━━━━\u001b[0m \u001b[32m716.4/716.4 KB\u001b[0m \u001b[31m32.9 MB/s\u001b[0m eta \u001b[36m0:00:00\u001b[0m\n",
            "\u001b[?25hRequirement already satisfied: fsspec[http]>2021.06.0 in /usr/local/lib/python3.9/dist-packages (from pytorch_lightning) (2023.3.0)\n",
            "Requirement already satisfied: numpy>=1.17.2 in /usr/local/lib/python3.9/dist-packages (from pytorch_lightning) (1.22.4)\n",
            "Requirement already satisfied: torch>=1.11.0 in /usr/local/lib/python3.9/dist-packages (from pytorch_lightning) (2.0.0+cu118)\n",
            "Requirement already satisfied: PyYAML>=5.4 in /usr/local/lib/python3.9/dist-packages (from pytorch_lightning) (6.0)\n",
            "Requirement already satisfied: typing-extensions>=4.0.0 in /usr/local/lib/python3.9/dist-packages (from pytorch_lightning) (4.5.0)\n",
            "Collecting torchmetrics>=0.7.0\n",
            "  Downloading torchmetrics-0.11.4-py3-none-any.whl (519 kB)\n",
            "\u001b[2K     \u001b[90m━━━━━━━━━━━━━━━━━━━━━━━━━━━━━━━━━━━━━━\u001b[0m \u001b[32m519.2/519.2 KB\u001b[0m \u001b[31m42.9 MB/s\u001b[0m eta \u001b[36m0:00:00\u001b[0m\n",
            "\u001b[?25hCollecting lightning-utilities>=0.7.0\n",
            "  Downloading lightning_utilities-0.8.0-py3-none-any.whl (20 kB)\n",
            "Requirement already satisfied: packaging>=17.1 in /usr/local/lib/python3.9/dist-packages (from pytorch_lightning) (23.0)\n",
            "Requirement already satisfied: tqdm>=4.57.0 in /usr/local/lib/python3.9/dist-packages (from pytorch_lightning) (4.65.0)\n",
            "Collecting aiohttp!=4.0.0a0,!=4.0.0a1\n",
            "  Downloading aiohttp-3.8.4-cp39-cp39-manylinux_2_17_x86_64.manylinux2014_x86_64.whl (1.0 MB)\n",
            "\u001b[2K     \u001b[90m━━━━━━━━━━━━━━━━━━━━━━━━━━━━━━━━━━━━━━━━\u001b[0m \u001b[32m1.0/1.0 MB\u001b[0m \u001b[31m60.4 MB/s\u001b[0m eta \u001b[36m0:00:00\u001b[0m\n",
            "\u001b[?25hRequirement already satisfied: requests in /usr/local/lib/python3.9/dist-packages (from fsspec[http]>2021.06.0->pytorch_lightning) (2.27.1)\n",
            "Requirement already satisfied: filelock in /usr/local/lib/python3.9/dist-packages (from torch>=1.11.0->pytorch_lightning) (3.10.7)\n",
            "Requirement already satisfied: networkx in /usr/local/lib/python3.9/dist-packages (from torch>=1.11.0->pytorch_lightning) (3.0)\n",
            "Requirement already satisfied: sympy in /usr/local/lib/python3.9/dist-packages (from torch>=1.11.0->pytorch_lightning) (1.11.1)\n",
            "Requirement already satisfied: jinja2 in /usr/local/lib/python3.9/dist-packages (from torch>=1.11.0->pytorch_lightning) (3.1.2)\n",
            "Requirement already satisfied: triton==2.0.0 in /usr/local/lib/python3.9/dist-packages (from torch>=1.11.0->pytorch_lightning) (2.0.0)\n",
            "Requirement already satisfied: cmake in /usr/local/lib/python3.9/dist-packages (from triton==2.0.0->torch>=1.11.0->pytorch_lightning) (3.25.2)\n",
            "Requirement already satisfied: lit in /usr/local/lib/python3.9/dist-packages (from triton==2.0.0->torch>=1.11.0->pytorch_lightning) (16.0.0)\n",
            "Collecting multidict<7.0,>=4.5\n",
            "  Downloading multidict-6.0.4-cp39-cp39-manylinux_2_17_x86_64.manylinux2014_x86_64.whl (114 kB)\n",
            "\u001b[2K     \u001b[90m━━━━━━━━━━━━━━━━━━━━━━━━━━━━━━━━━━━━━━\u001b[0m \u001b[32m114.2/114.2 KB\u001b[0m \u001b[31m13.7 MB/s\u001b[0m eta \u001b[36m0:00:00\u001b[0m\n",
            "\u001b[?25hCollecting yarl<2.0,>=1.0\n",
            "  Downloading yarl-1.8.2-cp39-cp39-manylinux_2_17_x86_64.manylinux2014_x86_64.whl (264 kB)\n",
            "\u001b[2K     \u001b[90m━━━━━━━━━━━━━━━━━━━━━━━━━━━━━━━━━━━━━━\u001b[0m \u001b[32m264.6/264.6 KB\u001b[0m \u001b[31m27.9 MB/s\u001b[0m eta \u001b[36m0:00:00\u001b[0m\n",
            "\u001b[?25hRequirement already satisfied: attrs>=17.3.0 in /usr/local/lib/python3.9/dist-packages (from aiohttp!=4.0.0a0,!=4.0.0a1->fsspec[http]>2021.06.0->pytorch_lightning) (22.2.0)\n",
            "Collecting aiosignal>=1.1.2\n",
            "  Downloading aiosignal-1.3.1-py3-none-any.whl (7.6 kB)\n",
            "Collecting frozenlist>=1.1.1\n",
            "  Downloading frozenlist-1.3.3-cp39-cp39-manylinux_2_5_x86_64.manylinux1_x86_64.manylinux_2_17_x86_64.manylinux2014_x86_64.whl (158 kB)\n",
            "\u001b[2K     \u001b[90m━━━━━━━━━━━━━━━━━━━━━━━━━━━━━━━━━━━━━━\u001b[0m \u001b[32m158.8/158.8 KB\u001b[0m \u001b[31m18.2 MB/s\u001b[0m eta \u001b[36m0:00:00\u001b[0m\n",
            "\u001b[?25hRequirement already satisfied: charset-normalizer<4.0,>=2.0 in /usr/local/lib/python3.9/dist-packages (from aiohttp!=4.0.0a0,!=4.0.0a1->fsspec[http]>2021.06.0->pytorch_lightning) (2.0.12)\n",
            "Collecting async-timeout<5.0,>=4.0.0a3\n",
            "  Downloading async_timeout-4.0.2-py3-none-any.whl (5.8 kB)\n",
            "Requirement already satisfied: MarkupSafe>=2.0 in /usr/local/lib/python3.9/dist-packages (from jinja2->torch>=1.11.0->pytorch_lightning) (2.1.2)\n",
            "Requirement already satisfied: urllib3<1.27,>=1.21.1 in /usr/local/lib/python3.9/dist-packages (from requests->fsspec[http]>2021.06.0->pytorch_lightning) (1.26.15)\n",
            "Requirement already satisfied: idna<4,>=2.5 in /usr/local/lib/python3.9/dist-packages (from requests->fsspec[http]>2021.06.0->pytorch_lightning) (3.4)\n",
            "Requirement already satisfied: certifi>=2017.4.17 in /usr/local/lib/python3.9/dist-packages (from requests->fsspec[http]>2021.06.0->pytorch_lightning) (2022.12.7)\n",
            "Requirement already satisfied: mpmath>=0.19 in /usr/local/lib/python3.9/dist-packages (from sympy->torch>=1.11.0->pytorch_lightning) (1.3.0)\n",
            "Installing collected packages: multidict, lightning-utilities, frozenlist, async-timeout, yarl, aiosignal, aiohttp, torchmetrics, pytorch_lightning\n",
            "Successfully installed aiohttp-3.8.4 aiosignal-1.3.1 async-timeout-4.0.2 frozenlist-1.3.3 lightning-utilities-0.8.0 multidict-6.0.4 pytorch_lightning-2.0.1 torchmetrics-0.11.4 yarl-1.8.2\n"
          ]
        }
      ],
      "source": [
        "!pip install pytorch_lightning"
      ]
    },
    {
      "cell_type": "code",
      "execution_count": null,
      "metadata": {
        "id": "2Jap1Tx8T95v"
      },
      "outputs": [],
      "source": [
        "# Import libraries\n",
        "import matplotlib.pyplot as plt\n",
        "import pandas as pd\n",
        "import numpy as np\n",
        "import os\n",
        "import random\n",
        "import torch\n",
        "from torch.utils.data import Dataset, DataLoader\n",
        "from torchvision import utils\n",
        "import torch.optim as optim\n",
        "import torch.nn as nn\n",
        "import torch.nn.functional as F\n",
        "import torchvision.models as models\n",
        "from torch.optim import lr_scheduler\n",
        "import cv2\n",
        "import shutil\n",
        "import glob\n",
        "import time\n",
        "import timm\n",
        "import warnings\n",
        "import copy\n",
        "import torch.nn.init as init\n",
        "import gc\n",
        "import PIL\n",
        "import torchvision.transforms as transforms\n",
        "import kornia.augmentation as K\n",
        "import pytorch_lightning as pl\n",
        "import albumentations as A\n",
        "import torchmetrics\n",
        "\n",
        "from pytorch_lightning.callbacks.early_stopping import EarlyStopping\n",
        "from pytorch_lightning import Trainer\n",
        "from timm.data import resolve_data_config\n",
        "from PIL import Image\n",
        "from sklearn.model_selection import StratifiedKFold\n",
        "from timm.data.transforms_factory import create_transform\n",
        "from sklearn.model_selection import train_test_split\n",
        "\n",
        "\n",
        "warnings.filterwarnings('ignore')"
      ]
    },
    {
      "cell_type": "markdown",
      "metadata": {
        "id": "qGuYB-rvCXW6"
      },
      "source": [
        "# From scratch"
      ]
    },
    {
      "cell_type": "markdown",
      "metadata": {
        "id": "IYRc1EU2EkmR"
      },
      "source": [
        "## Library"
      ]
    },
    {
      "cell_type": "code",
      "execution_count": null,
      "metadata": {
        "colab": {
          "base_uri": "https://localhost:8080/"
        },
        "id": "8MzZi-M037tL",
        "outputId": "0d603219-f70a-4a0e-a0db-c8ed1f740b83"
      },
      "outputs": [
        {
          "output_type": "stream",
          "name": "stdout",
          "text": [
            "Looking in indexes: https://pypi.org/simple, https://us-python.pkg.dev/colab-wheels/public/simple/\n",
            "Requirement already satisfied: timm in /usr/local/lib/python3.9/dist-packages (0.6.13)\n",
            "Requirement already satisfied: torch>=1.7 in /usr/local/lib/python3.9/dist-packages (from timm) (2.0.0+cu118)\n",
            "Requirement already satisfied: torchvision in /usr/local/lib/python3.9/dist-packages (from timm) (0.15.1+cu118)\n",
            "Requirement already satisfied: huggingface-hub in /usr/local/lib/python3.9/dist-packages (from timm) (0.13.4)\n",
            "Requirement already satisfied: pyyaml in /usr/local/lib/python3.9/dist-packages (from timm) (6.0)\n",
            "Requirement already satisfied: networkx in /usr/local/lib/python3.9/dist-packages (from torch>=1.7->timm) (3.0)\n",
            "Requirement already satisfied: filelock in /usr/local/lib/python3.9/dist-packages (from torch>=1.7->timm) (3.10.7)\n",
            "Requirement already satisfied: typing-extensions in /usr/local/lib/python3.9/dist-packages (from torch>=1.7->timm) (4.5.0)\n",
            "Requirement already satisfied: jinja2 in /usr/local/lib/python3.9/dist-packages (from torch>=1.7->timm) (3.1.2)\n",
            "Requirement already satisfied: triton==2.0.0 in /usr/local/lib/python3.9/dist-packages (from torch>=1.7->timm) (2.0.0)\n",
            "Requirement already satisfied: sympy in /usr/local/lib/python3.9/dist-packages (from torch>=1.7->timm) (1.11.1)\n",
            "Requirement already satisfied: cmake in /usr/local/lib/python3.9/dist-packages (from triton==2.0.0->torch>=1.7->timm) (3.25.2)\n",
            "Requirement already satisfied: lit in /usr/local/lib/python3.9/dist-packages (from triton==2.0.0->torch>=1.7->timm) (16.0.0)\n",
            "Requirement already satisfied: packaging>=20.9 in /usr/local/lib/python3.9/dist-packages (from huggingface-hub->timm) (23.0)\n",
            "Requirement already satisfied: requests in /usr/local/lib/python3.9/dist-packages (from huggingface-hub->timm) (2.27.1)\n",
            "Requirement already satisfied: tqdm>=4.42.1 in /usr/local/lib/python3.9/dist-packages (from huggingface-hub->timm) (4.65.0)\n",
            "Requirement already satisfied: pillow!=8.3.*,>=5.3.0 in /usr/local/lib/python3.9/dist-packages (from torchvision->timm) (8.4.0)\n",
            "Requirement already satisfied: numpy in /usr/local/lib/python3.9/dist-packages (from torchvision->timm) (1.22.4)\n",
            "Requirement already satisfied: MarkupSafe>=2.0 in /usr/local/lib/python3.9/dist-packages (from jinja2->torch>=1.7->timm) (2.1.2)\n",
            "Requirement already satisfied: certifi>=2017.4.17 in /usr/local/lib/python3.9/dist-packages (from requests->huggingface-hub->timm) (2022.12.7)\n",
            "Requirement already satisfied: charset-normalizer~=2.0.0 in /usr/local/lib/python3.9/dist-packages (from requests->huggingface-hub->timm) (2.0.12)\n",
            "Requirement already satisfied: urllib3<1.27,>=1.21.1 in /usr/local/lib/python3.9/dist-packages (from requests->huggingface-hub->timm) (1.26.15)\n",
            "Requirement already satisfied: idna<4,>=2.5 in /usr/local/lib/python3.9/dist-packages (from requests->huggingface-hub->timm) (3.4)\n",
            "Requirement already satisfied: mpmath>=0.19 in /usr/local/lib/python3.9/dist-packages (from sympy->torch>=1.7->timm) (1.3.0)\n"
          ]
        }
      ],
      "source": [
        "!pip install timm"
      ]
    },
    {
      "cell_type": "code",
      "execution_count": null,
      "metadata": {
        "id": "W3bFinECGPZa"
      },
      "outputs": [],
      "source": [
        "# ====================================================\n",
        "# Library\n",
        "# ====================================================\n",
        "import sys\n",
        "#sys.path.append('../input/pytorch-image-models/pytorch-image-models-master')\n",
        "\n",
        "import os\n",
        "import math\n",
        "import time\n",
        "import random\n",
        "import shutil\n",
        "from pathlib import Path\n",
        "from contextlib import contextmanager\n",
        "from collections import defaultdict, Counter\n",
        "\n",
        "import scipy as sp\n",
        "import numpy as np\n",
        "import pandas as pd\n",
        "import matplotlib.pyplot as plt\n",
        "\n",
        "\n",
        "from sklearn import preprocessing\n",
        "from sklearn.metrics import roc_auc_score\n",
        "from sklearn.model_selection import StratifiedKFold, GroupKFold, KFold\n",
        "\n",
        "from tqdm.auto import tqdm\n",
        "from functools import partial\n",
        "\n",
        "import cv2\n",
        "from PIL import Image\n",
        "import albumentations as A\n",
        "\n",
        "\n",
        "import torch\n",
        "import torch.nn as nn\n",
        "import torch.nn.functional as F\n",
        "from torch.optim import Adam, SGD, AdamW\n",
        "import torchvision.models as models\n",
        "from torch.nn.parameter import Parameter\n",
        "from torch.utils.data import DataLoader, Dataset\n",
        "from torch.optim.lr_scheduler import CosineAnnealingWarmRestarts, CosineAnnealingLR, ReduceLROnPlateau\n",
        "\n",
        "'''\n",
        "from albumentations import (\n",
        "    Compose, OneOf, Normalize, Resize, RandomResizedCrop, RandomCrop, HorizontalFlip, VerticalFlip,\n",
        "    RandomBrightness, RandomContrast, RandomBrightnessContrast, Rotate, ShiftScaleRotate, Cutout,\n",
        "    IAAAdditiveGaussianNoise, Transpose\n",
        "    )\n",
        "'''\n",
        "from albumentations.pytorch import ToTensorV2\n",
        "from albumentations import ImageOnlyTransform\n",
        "\n",
        "import timm\n",
        "\n",
        "from sklearn.metrics import mean_squared_error\n",
        "from torch.cuda.amp import autocast, GradScaler\n",
        "\n",
        "import warnings\n",
        "warnings.filterwarnings('ignore')\n",
        "\n",
        "device = torch.device('cuda' if torch.cuda.is_available() else 'cpu')"
      ]
    },
    {
      "cell_type": "markdown",
      "metadata": {
        "id": "bbA16zndERDK"
      },
      "source": [
        "## Data Loading¶\n"
      ]
    },
    {
      "cell_type": "code",
      "execution_count": null,
      "metadata": {
        "id": "Ulguwd6-EP5c"
      },
      "outputs": [],
      "source": [
        "# Set seed for reproducability\n",
        "SEED = 42"
      ]
    },
    {
      "cell_type": "code",
      "execution_count": null,
      "metadata": {
        "colab": {
          "base_uri": "https://localhost:8080/",
          "height": 264
        },
        "id": "RNNVsJyPEP5e",
        "outputId": "f2c75359-e67d-42f3-ca04-578c46b286a0"
      },
      "outputs": [
        {
          "output_type": "execute_result",
          "data": {
            "text/plain": [
              "             ImageId  Target\n",
              "0  Id_jdqw9hlv6j.png    14.0\n",
              "1  Id_6xtrolmuvc.png    18.0\n",
              "2  Id_2m49sj3xd9.png     0.0\n",
              "3  Id_9jwg5pcnn4.png    28.0\n",
              "4  Id_vnm6e8n0p3.png    21.0"
            ],
            "text/html": [
              "\n",
              "  <div id=\"df-ef9e018e-ad76-4711-b04e-a8d1bd52f197\">\n",
              "    <div class=\"colab-df-container\">\n",
              "      <div>\n",
              "<style scoped>\n",
              "    .dataframe tbody tr th:only-of-type {\n",
              "        vertical-align: middle;\n",
              "    }\n",
              "\n",
              "    .dataframe tbody tr th {\n",
              "        vertical-align: top;\n",
              "    }\n",
              "\n",
              "    .dataframe thead th {\n",
              "        text-align: right;\n",
              "    }\n",
              "</style>\n",
              "<table border=\"1\" class=\"dataframe\">\n",
              "  <thead>\n",
              "    <tr style=\"text-align: right;\">\n",
              "      <th></th>\n",
              "      <th>ImageId</th>\n",
              "      <th>Target</th>\n",
              "    </tr>\n",
              "  </thead>\n",
              "  <tbody>\n",
              "    <tr>\n",
              "      <th>0</th>\n",
              "      <td>Id_jdqw9hlv6j.png</td>\n",
              "      <td>14.0</td>\n",
              "    </tr>\n",
              "    <tr>\n",
              "      <th>1</th>\n",
              "      <td>Id_6xtrolmuvc.png</td>\n",
              "      <td>18.0</td>\n",
              "    </tr>\n",
              "    <tr>\n",
              "      <th>2</th>\n",
              "      <td>Id_2m49sj3xd9.png</td>\n",
              "      <td>0.0</td>\n",
              "    </tr>\n",
              "    <tr>\n",
              "      <th>3</th>\n",
              "      <td>Id_9jwg5pcnn4.png</td>\n",
              "      <td>28.0</td>\n",
              "    </tr>\n",
              "    <tr>\n",
              "      <th>4</th>\n",
              "      <td>Id_vnm6e8n0p3.png</td>\n",
              "      <td>21.0</td>\n",
              "    </tr>\n",
              "  </tbody>\n",
              "</table>\n",
              "</div>\n",
              "      <button class=\"colab-df-convert\" onclick=\"convertToInteractive('df-ef9e018e-ad76-4711-b04e-a8d1bd52f197')\"\n",
              "              title=\"Convert this dataframe to an interactive table.\"\n",
              "              style=\"display:none;\">\n",
              "        \n",
              "  <svg xmlns=\"http://www.w3.org/2000/svg\" height=\"24px\"viewBox=\"0 0 24 24\"\n",
              "       width=\"24px\">\n",
              "    <path d=\"M0 0h24v24H0V0z\" fill=\"none\"/>\n",
              "    <path d=\"M18.56 5.44l.94 2.06.94-2.06 2.06-.94-2.06-.94-.94-2.06-.94 2.06-2.06.94zm-11 1L8.5 8.5l.94-2.06 2.06-.94-2.06-.94L8.5 2.5l-.94 2.06-2.06.94zm10 10l.94 2.06.94-2.06 2.06-.94-2.06-.94-.94-2.06-.94 2.06-2.06.94z\"/><path d=\"M17.41 7.96l-1.37-1.37c-.4-.4-.92-.59-1.43-.59-.52 0-1.04.2-1.43.59L10.3 9.45l-7.72 7.72c-.78.78-.78 2.05 0 2.83L4 21.41c.39.39.9.59 1.41.59.51 0 1.02-.2 1.41-.59l7.78-7.78 2.81-2.81c.8-.78.8-2.07 0-2.86zM5.41 20L4 18.59l7.72-7.72 1.47 1.35L5.41 20z\"/>\n",
              "  </svg>\n",
              "      </button>\n",
              "      \n",
              "  <style>\n",
              "    .colab-df-container {\n",
              "      display:flex;\n",
              "      flex-wrap:wrap;\n",
              "      gap: 12px;\n",
              "    }\n",
              "\n",
              "    .colab-df-convert {\n",
              "      background-color: #E8F0FE;\n",
              "      border: none;\n",
              "      border-radius: 50%;\n",
              "      cursor: pointer;\n",
              "      display: none;\n",
              "      fill: #1967D2;\n",
              "      height: 32px;\n",
              "      padding: 0 0 0 0;\n",
              "      width: 32px;\n",
              "    }\n",
              "\n",
              "    .colab-df-convert:hover {\n",
              "      background-color: #E2EBFA;\n",
              "      box-shadow: 0px 1px 2px rgba(60, 64, 67, 0.3), 0px 1px 3px 1px rgba(60, 64, 67, 0.15);\n",
              "      fill: #174EA6;\n",
              "    }\n",
              "\n",
              "    [theme=dark] .colab-df-convert {\n",
              "      background-color: #3B4455;\n",
              "      fill: #D2E3FC;\n",
              "    }\n",
              "\n",
              "    [theme=dark] .colab-df-convert:hover {\n",
              "      background-color: #434B5C;\n",
              "      box-shadow: 0px 1px 3px 1px rgba(0, 0, 0, 0.15);\n",
              "      filter: drop-shadow(0px 1px 2px rgba(0, 0, 0, 0.3));\n",
              "      fill: #FFFFFF;\n",
              "    }\n",
              "  </style>\n",
              "\n",
              "      <script>\n",
              "        const buttonEl =\n",
              "          document.querySelector('#df-ef9e018e-ad76-4711-b04e-a8d1bd52f197 button.colab-df-convert');\n",
              "        buttonEl.style.display =\n",
              "          google.colab.kernel.accessAllowed ? 'block' : 'none';\n",
              "\n",
              "        async function convertToInteractive(key) {\n",
              "          const element = document.querySelector('#df-ef9e018e-ad76-4711-b04e-a8d1bd52f197');\n",
              "          const dataTable =\n",
              "            await google.colab.kernel.invokeFunction('convertToInteractive',\n",
              "                                                     [key], {});\n",
              "          if (!dataTable) return;\n",
              "\n",
              "          const docLinkHtml = 'Like what you see? Visit the ' +\n",
              "            '<a target=\"_blank\" href=https://colab.research.google.com/notebooks/data_table.ipynb>data table notebook</a>'\n",
              "            + ' to learn more about interactive tables.';\n",
              "          element.innerHTML = '';\n",
              "          dataTable['output_type'] = 'display_data';\n",
              "          await google.colab.output.renderOutput(dataTable, element);\n",
              "          const docLink = document.createElement('div');\n",
              "          docLink.innerHTML = docLinkHtml;\n",
              "          element.appendChild(docLink);\n",
              "        }\n",
              "      </script>\n",
              "    </div>\n",
              "  </div>\n",
              "  "
            ]
          },
          "metadata": {},
          "execution_count": 9
        }
      ],
      "source": [
        "# load files\n",
        "data_path = '/content/drive/MyDrive/Digital-Africa-Plantation-Counting-Challenge/'\n",
        "\n",
        "train = pd.read_csv(data_path + 'Train.csv')\n",
        "test = pd.read_csv(data_path + 'Test.csv')\n",
        "sample_submission = pd.read_csv(data_path + 'SampleSubmission.csv')\n",
        "\n",
        "# Make sure that the output directory exists and is empty\n",
        "'''\n",
        "output_dir = os.path.join(data_path, 'TreeImages')\n",
        "if os.path.exists(output_dir):\n",
        "    shutil.rmtree(output_dir)\n",
        "os.makedirs(output_dir)\n",
        "\n",
        "# Unzip images\n",
        "shutil.unpack_archive(data_path + 'TreeImages.zip', output_dir)\n",
        "'''\n",
        "# Preview train\n",
        "train.head()"
      ]
    },
    {
      "cell_type": "markdown",
      "metadata": {
        "id": "0eUGxA2V5YlB"
      },
      "source": [
        "## Directory settings"
      ]
    },
    {
      "cell_type": "code",
      "execution_count": null,
      "metadata": {
        "id": "cgzb5czN5aLZ"
      },
      "outputs": [],
      "source": [
        "# ====================================================\n",
        "# Directory settings\n",
        "# ====================================================\n",
        "import os\n",
        "\n",
        "OUTPUT_DIR = '/content/drive/MyDrive/Digital-Africa-Plantation-Counting-Challenge/Models/'\n",
        "if not os.path.exists(OUTPUT_DIR):\n",
        "    os.makedirs(OUTPUT_DIR)\n",
        "\n",
        "TRAIN_PATH = '/content/drive/MyDrive/Digital-Africa-Plantation-Counting-Challenge/TreeImages'"
      ]
    },
    {
      "cell_type": "markdown",
      "metadata": {
        "id": "aRDl8kRsEiQx"
      },
      "source": [
        "## CFG"
      ]
    },
    {
      "cell_type": "code",
      "execution_count": null,
      "metadata": {
        "id": "RsM9I6upF9S_"
      },
      "outputs": [],
      "source": [
        "# ====================================================\n",
        "# CFG\n",
        "# ====================================================\n",
        "class CFG:\n",
        "    debug=False\n",
        "    print_freq=100\n",
        "    num_workers=2\n",
        "    model_name= 'tf_efficientnetv2_s_in21k' #tf_efficientnetv2_xl_in21k\n",
        "    size=640\n",
        "    scheduler='CosineAnnealingLR' # ['ReduceLROnPlateau', 'CosineAnnealingLR', 'CosineAnnealingWarmRestarts']\n",
        "    epochs=25\n",
        "\n",
        "    #factor=0.2 # ReduceLROnPlateau\n",
        "    #patience=4 # ReduceLROnPlateau\n",
        "    #eps=1e-6 # ReduceLROnPlateau\n",
        "    T_max=8 # CosineAnnealingLR\n",
        "    #T_0=6 # CosineAnnealingWarmRestarts\n",
        "    lr=1e-4\n",
        "    min_lr=1e-6\n",
        "    batch_size=8\n",
        "    weight_decay=1e-6\n",
        "    gradient_accumulation_steps=1\n",
        "    max_grad_norm=1000\n",
        "    seed=42\n",
        "\n",
        "    target_size=1\n",
        "    target_cols=['Target']\n",
        "    n_fold=6\n",
        "    trn_fold=[0, 1, 2, 3, 4, 5]\n",
        "    train=True\n",
        "\n",
        "if CFG.debug:\n",
        "    CFG.epochs = 1\n",
        "    train = train.sample(n=100, random_state=CFG.seed).reset_index(drop=True)"
      ]
    },
    {
      "cell_type": "markdown",
      "metadata": {
        "id": "37FZQmQpEqPA"
      },
      "source": [
        "## Utils"
      ]
    },
    {
      "cell_type": "code",
      "execution_count": null,
      "metadata": {
        "id": "t8__IE79Gdcy"
      },
      "outputs": [],
      "source": [
        "# ====================================================\n",
        "# Utils\n",
        "# ====================================================\n",
        "def get_score(y_true, y_pred):\n",
        "    scores = []\n",
        "    for i in range(y_true.shape[1]):\n",
        "        score = mean_squared_error(y_true[:,i], y_pred[:,i], squared=False)\n",
        "        scores.append(score)\n",
        "    avg_score = np.mean(scores)\n",
        "    return avg_score, scores\n",
        "\n",
        "\n",
        "@contextmanager\n",
        "def timer(name):\n",
        "    t0 = time.time()\n",
        "    LOGGER.info(f'[{name}] start')\n",
        "    yield\n",
        "    LOGGER.info(f'[{name}] done in {time.time() - t0:.0f} s.')\n",
        "\n",
        "\n",
        "def init_logger(log_file=OUTPUT_DIR+'train.log'):\n",
        "    from logging import getLogger, INFO, FileHandler,  Formatter,  StreamHandler\n",
        "    logger = getLogger(__name__)\n",
        "    logger.setLevel(INFO)\n",
        "    handler1 = StreamHandler()\n",
        "    handler1.setFormatter(Formatter(\"%(message)s\"))\n",
        "    handler2 = FileHandler(filename=log_file)\n",
        "    handler2.setFormatter(Formatter(\"%(message)s\"))\n",
        "    logger.addHandler(handler1)\n",
        "    logger.addHandler(handler2)\n",
        "    return logger\n",
        "\n",
        "LOGGER = init_logger()\n",
        "\n",
        "\n",
        "def seed_torch(seed=42):\n",
        "    random.seed(seed)\n",
        "    os.environ['PYTHONHASHSEED'] = str(seed)\n",
        "    np.random.seed(seed)\n",
        "    torch.manual_seed(seed)\n",
        "    torch.cuda.manual_seed(seed)\n",
        "    torch.backends.cudnn.deterministic = True\n",
        "\n",
        "seed_torch(seed=CFG.seed)"
      ]
    },
    {
      "cell_type": "markdown",
      "metadata": {
        "id": "Pkylccd0Evqy"
      },
      "source": [
        "## CV split\n"
      ]
    },
    {
      "cell_type": "code",
      "execution_count": null,
      "metadata": {
        "id": "8wC5PFzEsROz"
      },
      "outputs": [],
      "source": [
        "\n",
        "def kfold (data):\n",
        "  data['Bins'] = (data['Target']//CFG.n_fold).round()\n",
        "  data['fold'] = -1\n",
        "  skf = StratifiedKFold(n_splits = CFG.n_fold, shuffle=True, random_state = CFG.seed)\n",
        "  for i, (_, test_index) in enumerate(skf.split(data.index, data['Bins'])):\n",
        "      data.iloc[test_index, -1] = i\n",
        "\n",
        "  data['fold'] = data['fold'].astype('int')\n",
        "  data_group = data.groupby(['fold'])['Target'].agg(['mean','std','count'])\n",
        "\n",
        "  gc.collect()\n",
        "  return data,data_group\n",
        "folds = train.copy()\n",
        "folds, folds_group = kfold(train)"
      ]
    },
    {
      "cell_type": "code",
      "execution_count": null,
      "metadata": {
        "colab": {
          "base_uri": "https://localhost:8080/",
          "height": 234
        },
        "id": "B7Y2nQul0xOy",
        "outputId": "3b40d082-fc79-4198-e868-40e8e25cd1fa"
      },
      "outputs": [
        {
          "output_type": "execute_result",
          "data": {
            "text/plain": [
              "           mean        std  count\n",
              "fold                             \n",
              "0     10.309880  13.627451    668\n",
              "1     10.230885  13.618705    667\n",
              "2     10.260870  13.614855    667"
            ],
            "text/html": [
              "\n",
              "  <div id=\"df-f711e765-07cb-4ba6-bd80-462ab9111514\">\n",
              "    <div class=\"colab-df-container\">\n",
              "      <div>\n",
              "<style scoped>\n",
              "    .dataframe tbody tr th:only-of-type {\n",
              "        vertical-align: middle;\n",
              "    }\n",
              "\n",
              "    .dataframe tbody tr th {\n",
              "        vertical-align: top;\n",
              "    }\n",
              "\n",
              "    .dataframe thead th {\n",
              "        text-align: right;\n",
              "    }\n",
              "</style>\n",
              "<table border=\"1\" class=\"dataframe\">\n",
              "  <thead>\n",
              "    <tr style=\"text-align: right;\">\n",
              "      <th></th>\n",
              "      <th>mean</th>\n",
              "      <th>std</th>\n",
              "      <th>count</th>\n",
              "    </tr>\n",
              "    <tr>\n",
              "      <th>fold</th>\n",
              "      <th></th>\n",
              "      <th></th>\n",
              "      <th></th>\n",
              "    </tr>\n",
              "  </thead>\n",
              "  <tbody>\n",
              "    <tr>\n",
              "      <th>0</th>\n",
              "      <td>10.309880</td>\n",
              "      <td>13.627451</td>\n",
              "      <td>668</td>\n",
              "    </tr>\n",
              "    <tr>\n",
              "      <th>1</th>\n",
              "      <td>10.230885</td>\n",
              "      <td>13.618705</td>\n",
              "      <td>667</td>\n",
              "    </tr>\n",
              "    <tr>\n",
              "      <th>2</th>\n",
              "      <td>10.260870</td>\n",
              "      <td>13.614855</td>\n",
              "      <td>667</td>\n",
              "    </tr>\n",
              "  </tbody>\n",
              "</table>\n",
              "</div>\n",
              "      <button class=\"colab-df-convert\" onclick=\"convertToInteractive('df-f711e765-07cb-4ba6-bd80-462ab9111514')\"\n",
              "              title=\"Convert this dataframe to an interactive table.\"\n",
              "              style=\"display:none;\">\n",
              "        \n",
              "  <svg xmlns=\"http://www.w3.org/2000/svg\" height=\"24px\"viewBox=\"0 0 24 24\"\n",
              "       width=\"24px\">\n",
              "    <path d=\"M0 0h24v24H0V0z\" fill=\"none\"/>\n",
              "    <path d=\"M18.56 5.44l.94 2.06.94-2.06 2.06-.94-2.06-.94-.94-2.06-.94 2.06-2.06.94zm-11 1L8.5 8.5l.94-2.06 2.06-.94-2.06-.94L8.5 2.5l-.94 2.06-2.06.94zm10 10l.94 2.06.94-2.06 2.06-.94-2.06-.94-.94-2.06-.94 2.06-2.06.94z\"/><path d=\"M17.41 7.96l-1.37-1.37c-.4-.4-.92-.59-1.43-.59-.52 0-1.04.2-1.43.59L10.3 9.45l-7.72 7.72c-.78.78-.78 2.05 0 2.83L4 21.41c.39.39.9.59 1.41.59.51 0 1.02-.2 1.41-.59l7.78-7.78 2.81-2.81c.8-.78.8-2.07 0-2.86zM5.41 20L4 18.59l7.72-7.72 1.47 1.35L5.41 20z\"/>\n",
              "  </svg>\n",
              "      </button>\n",
              "      \n",
              "  <style>\n",
              "    .colab-df-container {\n",
              "      display:flex;\n",
              "      flex-wrap:wrap;\n",
              "      gap: 12px;\n",
              "    }\n",
              "\n",
              "    .colab-df-convert {\n",
              "      background-color: #E8F0FE;\n",
              "      border: none;\n",
              "      border-radius: 50%;\n",
              "      cursor: pointer;\n",
              "      display: none;\n",
              "      fill: #1967D2;\n",
              "      height: 32px;\n",
              "      padding: 0 0 0 0;\n",
              "      width: 32px;\n",
              "    }\n",
              "\n",
              "    .colab-df-convert:hover {\n",
              "      background-color: #E2EBFA;\n",
              "      box-shadow: 0px 1px 2px rgba(60, 64, 67, 0.3), 0px 1px 3px 1px rgba(60, 64, 67, 0.15);\n",
              "      fill: #174EA6;\n",
              "    }\n",
              "\n",
              "    [theme=dark] .colab-df-convert {\n",
              "      background-color: #3B4455;\n",
              "      fill: #D2E3FC;\n",
              "    }\n",
              "\n",
              "    [theme=dark] .colab-df-convert:hover {\n",
              "      background-color: #434B5C;\n",
              "      box-shadow: 0px 1px 3px 1px rgba(0, 0, 0, 0.15);\n",
              "      filter: drop-shadow(0px 1px 2px rgba(0, 0, 0, 0.3));\n",
              "      fill: #FFFFFF;\n",
              "    }\n",
              "  </style>\n",
              "\n",
              "      <script>\n",
              "        const buttonEl =\n",
              "          document.querySelector('#df-f711e765-07cb-4ba6-bd80-462ab9111514 button.colab-df-convert');\n",
              "        buttonEl.style.display =\n",
              "          google.colab.kernel.accessAllowed ? 'block' : 'none';\n",
              "\n",
              "        async function convertToInteractive(key) {\n",
              "          const element = document.querySelector('#df-f711e765-07cb-4ba6-bd80-462ab9111514');\n",
              "          const dataTable =\n",
              "            await google.colab.kernel.invokeFunction('convertToInteractive',\n",
              "                                                     [key], {});\n",
              "          if (!dataTable) return;\n",
              "\n",
              "          const docLinkHtml = 'Like what you see? Visit the ' +\n",
              "            '<a target=\"_blank\" href=https://colab.research.google.com/notebooks/data_table.ipynb>data table notebook</a>'\n",
              "            + ' to learn more about interactive tables.';\n",
              "          element.innerHTML = '';\n",
              "          dataTable['output_type'] = 'display_data';\n",
              "          await google.colab.output.renderOutput(dataTable, element);\n",
              "          const docLink = document.createElement('div');\n",
              "          docLink.innerHTML = docLinkHtml;\n",
              "          element.appendChild(docLink);\n",
              "        }\n",
              "      </script>\n",
              "    </div>\n",
              "  </div>\n",
              "  "
            ]
          },
          "metadata": {},
          "execution_count": 15
        }
      ],
      "source": [
        "folds_group"
      ]
    },
    {
      "cell_type": "markdown",
      "metadata": {
        "id": "KAsomnh8Ez3o"
      },
      "source": [
        "## Dataset"
      ]
    },
    {
      "cell_type": "code",
      "execution_count": null,
      "metadata": {
        "id": "9jJtv7N5HEFP"
      },
      "outputs": [],
      "source": [
        "# ====================================================\n",
        "# Dataset\n",
        "# ====================================================\n",
        "class TrainDataset(Dataset):\n",
        "    def __init__(self, df, transform=None):\n",
        "        self.df = df\n",
        "        self.file_names = df['ImageId'].values\n",
        "        self.labels = df[CFG.target_cols].values\n",
        "        self.transform = transform\n",
        "\n",
        "    def __len__(self):\n",
        "        return len(self.df)\n",
        "\n",
        "    def __getitem__(self, idx):\n",
        "        file_name = self.file_names[idx]\n",
        "        file_path = f'{TRAIN_PATH}/{file_name}'\n",
        "        #print(file_path)\n",
        "        image = cv2.imread(file_path)\n",
        "        image = cv2.cvtColor(image, cv2.COLOR_BGR2RGB)\n",
        "        if self.transform:\n",
        "            augmented = self.transform(image=image)\n",
        "            image = augmented['image']\n",
        "\n",
        "\n",
        "        #image = np.transpose(image, (2, 0, 1)).astype(np.float32)\n",
        "        #label = torch.tensor(self.labels[idx]).float(32)\n",
        "\n",
        "        #features = self.dense_features[item, :]\n",
        "        label = self.labels[idx]\n",
        "        image = torch.tensor(image, dtype=torch.float32)\n",
        "        label = torch.tensor(label, dtype=torch.float32)\n",
        "\n",
        "\n",
        "\n",
        "        return image, label"
      ]
    },
    {
      "cell_type": "markdown",
      "metadata": {
        "id": "9fmwYzslE4L6"
      },
      "source": [
        "## Transforms"
      ]
    },
    {
      "cell_type": "code",
      "execution_count": null,
      "metadata": {
        "id": "zD1WSukRHKK3"
      },
      "outputs": [],
      "source": [
        "# ====================================================\n",
        "# Transforms\n",
        "# ====================================================\n",
        "\n",
        "\n",
        "def get_transforms(*, data):\n",
        "\n",
        "    if data == 'train':\n",
        "        return A.Compose([\n",
        "                #A.Blur(p=0.5),\n",
        "                A.CLAHE(p=0.8),\n",
        "                #A.HueSaturationValue(p=0.5),\n",
        "                #A.RandomBrightnessContrast(p=0.5),\n",
        "                A.Sharpen(p=0.8),\n",
        "                A.GaussianBlur(p=0.2),\n",
        "                A.MedianBlur(p=0.2),\n",
        "                A.Resize(CFG.size, CFG.size),\n",
        "                #A.RandomResizedCrop(CFG.size, CFG.size, scale=(0.9, 1.0)),\n",
        "                A.HorizontalFlip(p=0.5),\n",
        "                A.Normalize(\n",
        "                        mean=[0.03993845, 0.03993845, 0.03993845],\n",
        "                        std=[0.17816752, 0.20023753, 0.14269611],\n",
        "                ),\n",
        "                ToTensorV2(),\n",
        "            ])\n",
        "\n",
        "    elif data == 'valid':\n",
        "        return A.Compose([\n",
        "            A.Resize(CFG.size, CFG.size),\n",
        "            A.Normalize(\n",
        "                    mean=[0.03993845, 0.03993845, 0.03993845],\n",
        "                    std=[0.17816752, 0.20023753, 0.14269611],\n",
        "            ),\n",
        "            ToTensorV2(),\n",
        "        ])\n",
        "\n",
        "\n"
      ]
    },
    {
      "cell_type": "code",
      "execution_count": null,
      "metadata": {
        "id": "ERAt8BNVHQRd"
      },
      "outputs": [],
      "source": [
        "train_dataset = TrainDataset(train, transform=get_transforms(data='train'))\n",
        "\n",
        "for i in range(7):\n",
        "    image, label = train_dataset[i]\n",
        "    plt.imshow(image[0])\n",
        "    plt.title(f'label: {label}')\n",
        "    plt.show()"
      ]
    },
    {
      "cell_type": "markdown",
      "metadata": {
        "id": "1qM0yA1XE8IO"
      },
      "source": [
        "## MODEL"
      ]
    },
    {
      "cell_type": "code",
      "execution_count": null,
      "metadata": {
        "id": "ta48ZpqiHVDo"
      },
      "outputs": [],
      "source": [
        "\n",
        "class CustomModel(nn.Module):\n",
        "    def __init__(self, model_name='tf_efficientnetv2_xl_in21k', pretrained=False):\n",
        "        super().__init__()\n",
        "        self.model = timm.create_model(model_name, pretrained=pretrained)\n",
        "        n_features = self.model.classifier.in_features\n",
        "        self.model.classifier = nn.Linear(n_features, CFG.target_size)\n",
        "\n",
        "    def forward(self, x):\n",
        "        x = self.model(x)\n",
        "        return x"
      ]
    },
    {
      "cell_type": "markdown",
      "metadata": {
        "id": "1D90ZKO4E_Kf"
      },
      "source": [
        "## Helper functions"
      ]
    },
    {
      "cell_type": "code",
      "execution_count": null,
      "metadata": {
        "id": "gt_-fjCJHYVk"
      },
      "outputs": [],
      "source": [
        "# ====================================================\n",
        "# Helper functions\n",
        "# ====================================================\n",
        "class AverageMeter(object):\n",
        "    \"\"\"Computes and stores the average and current value\"\"\"\n",
        "    def __init__(self):\n",
        "        self.reset()\n",
        "\n",
        "    def reset(self):\n",
        "        self.val = 0\n",
        "        self.avg = 0\n",
        "        self.sum = 0\n",
        "        self.count = 0\n",
        "\n",
        "    def update(self, val, n=1):\n",
        "        self.val = val\n",
        "        self.sum += val * n\n",
        "        self.count += n\n",
        "        self.avg = self.sum / self.count\n",
        "\n",
        "\n",
        "def asMinutes(s):\n",
        "    m = math.floor(s / 60)\n",
        "    s -= m * 60\n",
        "    return '%dm %ds' % (m, s)\n",
        "\n",
        "\n",
        "def timeSince(since, percent):\n",
        "    now = time.time()\n",
        "    s = now - since\n",
        "    es = s / (percent)\n",
        "    rs = es - s\n",
        "    return '%s (remain %s)' % (asMinutes(s), asMinutes(rs))\n",
        "\n",
        "\n",
        "def train_fn(train_loader, model, criterion, optimizer, epoch, scheduler, device):\n",
        "    scaler = GradScaler()\n",
        "    batch_time = AverageMeter()\n",
        "    data_time = AverageMeter()\n",
        "    losses = AverageMeter()\n",
        "    scores = AverageMeter()\n",
        "    # switch to train mode\n",
        "    model.train()\n",
        "    start = end = time.time()\n",
        "    global_step = 0\n",
        "    for step, (images, labels) in enumerate(train_loader):\n",
        "        # measure data loading time\n",
        "        data_time.update(time.time() - end)\n",
        "        images = images.to(device)\n",
        "        labels = labels.to(device)\n",
        "        batch_size = labels.size(0)\n",
        "\n",
        "        y_preds = model(images)\n",
        "        loss = criterion(y_preds, labels)\n",
        "        # record loss\n",
        "        losses.update(loss.item(), batch_size)\n",
        "        if CFG.gradient_accumulation_steps > 1:\n",
        "            loss = loss / CFG.gradient_accumulation_steps\n",
        "        scaler.scale(loss).backward()\n",
        "        grad_norm = torch.nn.utils.clip_grad_norm_(model.parameters(), CFG.max_grad_norm)\n",
        "        if (step + 1) % CFG.gradient_accumulation_steps == 0:\n",
        "            scaler.step(optimizer)\n",
        "            scaler.update()\n",
        "            optimizer.zero_grad()\n",
        "            global_step += 1\n",
        "        # measure elapsed time\n",
        "        batch_time.update(time.time() - end)\n",
        "        end = time.time()\n",
        "        if step % CFG.print_freq == 0 or step == (len(train_loader)-1):\n",
        "            print('Epoch: [{0}][{1}/{2}] '\n",
        "                  'Data {data_time.val:.3f} ({data_time.avg:.3f}) '\n",
        "                  'Elapsed {remain:s} '\n",
        "                  'Loss: {loss.val:.4f}({loss.avg:.4f}) '\n",
        "                  'Grad: {grad_norm:.4f}  '\n",
        "                  #'LR: {lr:.6f}  '\n",
        "                  .format(\n",
        "                   epoch+1, step, len(train_loader), batch_time=batch_time,\n",
        "                   data_time=data_time, loss=losses,\n",
        "                   remain=timeSince(start, float(step+1)/len(train_loader)),\n",
        "                   grad_norm=grad_norm,\n",
        "                   #lr=scheduler.get_lr()[0],\n",
        "                   ))\n",
        "    return losses.avg\n",
        "\n",
        "\n",
        "def valid_fn(valid_loader, model, criterion, device):\n",
        "    batch_time = AverageMeter()\n",
        "    data_time = AverageMeter()\n",
        "    losses = AverageMeter()\n",
        "    scores = AverageMeter()\n",
        "    # switch to evaluation mode\n",
        "    model.eval()\n",
        "    preds = []\n",
        "    start = end = time.time()\n",
        "    for step, (images, labels) in enumerate(valid_loader):\n",
        "        # measure data loading time\n",
        "        data_time.update(time.time() - end)\n",
        "        images = images.to(device)\n",
        "        labels = labels.to(device)\n",
        "        batch_size = labels.size(0)\n",
        "        # compute loss\n",
        "\n",
        "        y_preds = model(images)\n",
        "        loss = criterion(y_preds, labels)\n",
        "        losses.update(loss.item(), batch_size)\n",
        "        # record accuracy\n",
        "        #preds.append(y_preds.sigmoid().to('cpu').numpy())\n",
        "        preds.append(y_preds.to('cpu').detach().numpy())\n",
        "        if CFG.gradient_accumulation_steps > 1:\n",
        "            loss = loss / CFG.gradient_accumulation_steps\n",
        "        # measure elapsed time\n",
        "        batch_time.update(time.time() - end)\n",
        "        end = time.time()\n",
        "        if step % CFG.print_freq == 0 or step == (len(valid_loader)-1):\n",
        "            print('EVAL: [{0}/{1}] '\n",
        "                  'Data {data_time.val:.3f} ({data_time.avg:.3f}) '\n",
        "                  'Elapsed {remain:s} '\n",
        "                  'Loss: {loss.val:.4f}({loss.avg:.4f}) '\n",
        "                  .format(\n",
        "                   step, len(valid_loader), batch_time=batch_time,\n",
        "                   data_time=data_time, loss=losses,\n",
        "                   remain=timeSince(start, float(step+1)/len(valid_loader)),\n",
        "                   ))\n",
        "    predictions = np.concatenate(preds)\n",
        "    return losses.avg, predictions"
      ]
    },
    {
      "cell_type": "markdown",
      "metadata": {
        "id": "nFxYOBFUFDyI"
      },
      "source": [
        "## Train loop\n"
      ]
    },
    {
      "cell_type": "code",
      "execution_count": null,
      "metadata": {
        "id": "5ASweJePCe4N"
      },
      "outputs": [],
      "source": [
        "class RMSELoss(nn.Module):\n",
        "    def __init__(self):\n",
        "        super(RMSELoss, self).__init__()\n",
        "        self.mse = nn.MSELoss()\n",
        "\n",
        "    def forward(self, yhat, y):\n",
        "        return torch.sqrt(self.mse(yhat, y))\n"
      ]
    },
    {
      "cell_type": "code",
      "execution_count": null,
      "metadata": {
        "id": "VsVyZ_T9HeaK"
      },
      "outputs": [],
      "source": [
        "# ====================================================\n",
        "# Train loop\n",
        "# ====================================================\n",
        "def train_loop(folds, fold):\n",
        "\n",
        "    LOGGER.info(f\"========== fold: {fold} training ==========\")\n",
        "\n",
        "    # ====================================================\n",
        "    # loader\n",
        "    # ====================================================\n",
        "    trn_idx = folds[folds['fold'] != fold].index\n",
        "    val_idx = folds[folds['fold'] == fold].index\n",
        "\n",
        "    train_folds = folds.loc[trn_idx].reset_index(drop=True)\n",
        "    valid_folds = folds.loc[val_idx].reset_index(drop=True)\n",
        "    valid_labels = valid_folds[CFG.target_cols].values\n",
        "\n",
        "    train_dataset = TrainDataset(train_folds,\n",
        "                                 transform=get_transforms(data='train'))\n",
        "    valid_dataset = TrainDataset(valid_folds,\n",
        "                                 transform=get_transforms(data='valid'))\n",
        "\n",
        "    train_loader = DataLoader(train_dataset,\n",
        "                              batch_size=CFG.batch_size,\n",
        "                              shuffle=True,\n",
        "                              num_workers=CFG.num_workers, pin_memory=True, drop_last=True)\n",
        "    valid_loader = DataLoader(valid_dataset,\n",
        "                              batch_size=CFG.batch_size,\n",
        "                              shuffle=False,\n",
        "                              num_workers=CFG.num_workers, pin_memory=True, drop_last=False)\n",
        "\n",
        "    # ====================================================\n",
        "    # scheduler\n",
        "    # ====================================================\n",
        "    def get_scheduler(optimizer):\n",
        "        if CFG.scheduler=='ReduceLROnPlateau':\n",
        "            scheduler = ReduceLROnPlateau(optimizer, mode='min', factor=CFG.factor, patience=CFG.patience, verbose=True, eps=CFG.eps)\n",
        "        elif CFG.scheduler=='CosineAnnealingLR':\n",
        "            scheduler = CosineAnnealingLR(optimizer, T_max=CFG.T_max, eta_min=CFG.min_lr, last_epoch=-1)\n",
        "        elif CFG.scheduler=='CosineAnnealingWarmRestarts':\n",
        "            scheduler = CosineAnnealingWarmRestarts(optimizer, T_0=CFG.T_0, T_mult=1, eta_min=CFG.min_lr, last_epoch=-1)\n",
        "        return scheduler\n",
        "\n",
        "    # ====================================================\n",
        "    # model & optimizer\n",
        "    # ====================================================\n",
        "    model = CustomModel(CFG.model_name, pretrained=True)\n",
        "    model.to(device)\n",
        "\n",
        "    ## replace AdamW with Adafactor\n",
        "\n",
        "\n",
        "\n",
        "\n",
        "    #optimizer = torch.optim.NAdam(model.parameters(), lr=CFG.lr, weight_decay=CFG.weight_decay)\n",
        "    #optimizer = Adam(model.parameters(), lr=CFG.lr, weight_decay=CFG.weight_decay, amsgrad=False)\n",
        "    #optimizer = torch.optim.RAdam(model.parameters(), lr=CFG.lr, weight_decay=CFG.weight_decay)\n",
        "\n",
        "    optimizer = torch.optim.AdamW(model.parameters(), lr=CFG.lr, weight_decay=CFG.weight_decay)\n",
        "    #optimizer = torch.optim.SGD(model.parameters(), lr=CFG.lr, weight_decay=CFG.weight_decay, momentum=0.9)\n",
        "\n",
        "    scheduler = get_scheduler(optimizer)\n",
        "\n",
        "    # ====================================================\n",
        "    # loop\n",
        "    # ====================================================\n",
        "    criterion = RMSELoss()\n",
        "\n",
        "    best_score = 0.\n",
        "    best_loss = np.inf\n",
        "\n",
        "    for epoch in range(CFG.epochs):\n",
        "\n",
        "        start_time = time.time()\n",
        "\n",
        "        # train\n",
        "        avg_loss = train_fn(train_loader, model, criterion, optimizer, epoch, scheduler, device)\n",
        "\n",
        "        # eval\n",
        "        avg_val_loss, preds = valid_fn(valid_loader, model, criterion, device)\n",
        "\n",
        "        if isinstance(scheduler, ReduceLROnPlateau):\n",
        "            scheduler.step(avg_val_loss)\n",
        "        elif isinstance(scheduler, CosineAnnealingLR):\n",
        "            scheduler.step()\n",
        "        elif isinstance(scheduler, CosineAnnealingWarmRestarts):\n",
        "            scheduler.step()\n",
        "\n",
        "        # scoring\n",
        "        score, scores = get_score(valid_labels, preds)\n",
        "\n",
        "        elapsed = time.time() - start_time\n",
        "\n",
        "        LOGGER.info(f'Epoch {epoch+1} - avg_train_loss: {avg_loss:.4f}  avg_val_loss: {avg_val_loss:.4f}  time: {elapsed:.0f}s')\n",
        "        LOGGER.info(f'Epoch {epoch+1} - Score: {score:.4f}  Scores: {np.round(scores, decimals=4)}')\n",
        "\n",
        "        \"\"\"\n",
        "        if score > best_score:\n",
        "            best_score = score\n",
        "            LOGGER.info(f'Epoch {epoch+1} - Save Best Score: {best_score:.4f} Model')\n",
        "            torch.save({'model': model.state_dict(),\n",
        "                        'preds': preds},\n",
        "                        OUTPUT_DIR+f'{CFG.model_name}_fold{fold}_best.pth')\n",
        "        \"\"\"\n",
        "\n",
        "        if avg_val_loss < best_loss:\n",
        "            best_loss = avg_val_loss\n",
        "            LOGGER.info(f'Epoch {epoch+1} - Save Best Loss: {best_loss:.4f} Model')\n",
        "            torch.save({'model': model.state_dict(),\n",
        "                        'preds': preds},\n",
        "                        OUTPUT_DIR+f'{CFG.model_name}_fold_v1_{fold}_best.pth')\n",
        "\n",
        "    check_point = torch.load(OUTPUT_DIR+f'{CFG.model_name}_fold_v1_{fold}_best.pth')\n",
        "    for c in [f'pred_{c}' for c in CFG.target_cols]:\n",
        "        valid_folds[c] = np.nan\n",
        "    valid_folds[[f'pred_{c}' for c in CFG.target_cols]] = check_point['preds']\n",
        "\n",
        "    return valid_folds"
      ]
    },
    {
      "cell_type": "code",
      "execution_count": null,
      "metadata": {
        "id": "mV6XKZy1Hpq_"
      },
      "outputs": [],
      "source": [
        "# ====================================================\n",
        "# main\n",
        "# ====================================================\n",
        "def main():\n",
        "\n",
        "    \"\"\"\n",
        "    Prepare: 1.train  2.folds\n",
        "    \"\"\"\n",
        "\n",
        "    def get_result(result_df):\n",
        "        preds = result_df[[f'pred_{c}' for c in CFG.target_cols]].values\n",
        "        labels = result_df[CFG.target_cols].values\n",
        "        score, scores = get_score(labels, preds)\n",
        "        LOGGER.info(f'Score: {score:<.4f}  Scores: {np.round(scores, decimals=4)}')\n",
        "\n",
        "    if CFG.train:\n",
        "        # train\n",
        "        oof_df = pd.DataFrame()\n",
        "        i = 0\n",
        "        for fold in range(CFG.n_fold):\n",
        "            if fold in CFG.trn_fold:\n",
        "                _oof_df = train_loop(folds, fold)\n",
        "                oof_df = pd.concat([oof_df, _oof_df])\n",
        "                LOGGER.info(f\"========== fold: {fold} result ==========\")\n",
        "                get_result(_oof_df)\n",
        "            i = i + 1\n",
        "            oof_df.to_csv(OUTPUT_DIR+'oof_df'+str(i)+'.csv', index=False)\n",
        "\n",
        "        # CV result\n",
        "        LOGGER.info(f\"========== CV ==========\")\n",
        "        get_result(oof_df)\n",
        "        # save result\n",
        "        oof_df.to_csv(OUTPUT_DIR+'v1_oof_df.csv', index=False)"
      ]
    },
    {
      "cell_type": "code",
      "execution_count": null,
      "metadata": {
        "colab": {
          "base_uri": "https://localhost:8080/"
        },
        "id": "BifHRr0nHsvj",
        "outputId": "174cb85e-c0c7-4a68-9ca0-1ba2f1567c31"
      },
      "outputs": [
        {
          "output_type": "stream",
          "name": "stderr",
          "text": [
            "========== fold: 0 training ==========\n",
            "INFO:__main__:========== fold: 0 training ==========\n",
            "Downloading: \"https://github.com/rwightman/pytorch-image-models/releases/download/v0.1-effv2-weights/tf_efficientnetv2_xl_in21k-fd7e8abf.pth\" to /root/.cache/torch/hub/checkpoints/tf_efficientnetv2_xl_in21k-fd7e8abf.pth\n"
          ]
        },
        {
          "output_type": "stream",
          "name": "stdout",
          "text": [
            "Epoch: [1][0/166] Data 20.038 (20.038) Elapsed 0m 22s (remain 61m 43s) Loss: 5.3005(5.3005) Grad: 2349952.7500  \n",
            "Epoch: [1][100/166] Data 0.919 (1.130) Elapsed 2m 24s (remain 1m 32s) Loss: 5.6868(7.8634) Grad: 2041232.1250  \n",
            "Epoch: [1][165/166] Data 0.000 (1.045) Elapsed 3m 41s (remain 0m 0s) Loss: 5.4720(6.6217) Grad: 1452063.7500  \n",
            "EVAL: [0/84] Data 1.441 (1.441) Elapsed 0m 1s (remain 2m 8s) Loss: 6524.6104(6524.6104) \n"
          ]
        },
        {
          "output_type": "stream",
          "name": "stderr",
          "text": [
            "Epoch 1 - avg_train_loss: 6.6217  avg_val_loss: 88.1294  time: 319s\n",
            "INFO:__main__:Epoch 1 - avg_train_loss: 6.6217  avg_val_loss: 88.1294  time: 319s\n",
            "Epoch 1 - Score: 715.7103  Scores: [715.7103]\n",
            "INFO:__main__:Epoch 1 - Score: 715.7103  Scores: [715.7103]\n",
            "Epoch 1 - Save Best Loss: 88.1294 Model\n",
            "INFO:__main__:Epoch 1 - Save Best Loss: 88.1294 Model\n"
          ]
        },
        {
          "output_type": "stream",
          "name": "stdout",
          "text": [
            "EVAL: [83/84] Data 2.057 (1.077) Elapsed 1m 37s (remain 0m 0s) Loss: 2.8432(88.1294) \n",
            "Epoch: [2][0/166] Data 0.652 (0.652) Elapsed 0m 1s (remain 2m 46s) Loss: 4.2089(4.2089) Grad: 1457655.0000  \n",
            "Epoch: [2][100/166] Data 0.000 (0.007) Elapsed 0m 29s (remain 0m 18s) Loss: 9.5093(3.9282) Grad: 2151872.7500  \n",
            "Epoch: [2][165/166] Data 0.000 (0.004) Elapsed 0m 47s (remain 0m 0s) Loss: 3.9112(3.7484) Grad: 1980993.7500  \n",
            "EVAL: [0/84] Data 0.304 (0.304) Elapsed 0m 0s (remain 0m 34s) Loss: 1218.4224(1218.4224) \n"
          ]
        },
        {
          "output_type": "stream",
          "name": "stderr",
          "text": [
            "Epoch 2 - avg_train_loss: 3.7484  avg_val_loss: 23.8599  time: 58s\n",
            "INFO:__main__:Epoch 2 - avg_train_loss: 3.7484  avg_val_loss: 23.8599  time: 58s\n",
            "Epoch 2 - Score: 147.0390  Scores: [147.039]\n",
            "INFO:__main__:Epoch 2 - Score: 147.0390  Scores: [147.039]\n",
            "Epoch 2 - Save Best Loss: 23.8599 Model\n",
            "INFO:__main__:Epoch 2 - Save Best Loss: 23.8599 Model\n"
          ]
        },
        {
          "output_type": "stream",
          "name": "stdout",
          "text": [
            "EVAL: [83/84] Data 0.000 (0.040) Elapsed 0m 10s (remain 0m 0s) Loss: 1.7771(23.8599) \n",
            "Epoch: [3][0/166] Data 0.972 (0.972) Elapsed 0m 1s (remain 3m 39s) Loss: 1.9137(1.9137) Grad: 1571747.6250  \n",
            "Epoch: [3][100/166] Data 0.000 (0.010) Elapsed 0m 30s (remain 0m 19s) Loss: 3.1431(3.2815) Grad: 1315723.7500  \n",
            "Epoch: [3][165/166] Data 0.000 (0.006) Elapsed 0m 48s (remain 0m 0s) Loss: 1.1773(3.1272) Grad: 1472321.7500  \n",
            "EVAL: [0/84] Data 0.289 (0.289) Elapsed 0m 0s (remain 0m 33s) Loss: 11.9057(11.9057) \n"
          ]
        },
        {
          "output_type": "stream",
          "name": "stderr",
          "text": [
            "Epoch 3 - avg_train_loss: 3.1272  avg_val_loss: 2.5340  time: 59s\n",
            "INFO:__main__:Epoch 3 - avg_train_loss: 3.1272  avg_val_loss: 2.5340  time: 59s\n",
            "Epoch 3 - Score: 3.2691  Scores: [3.2691]\n",
            "INFO:__main__:Epoch 3 - Score: 3.2691  Scores: [3.2691]\n",
            "Epoch 3 - Save Best Loss: 2.5340 Model\n",
            "INFO:__main__:Epoch 3 - Save Best Loss: 2.5340 Model\n"
          ]
        },
        {
          "output_type": "stream",
          "name": "stdout",
          "text": [
            "EVAL: [83/84] Data 0.000 (0.041) Elapsed 0m 10s (remain 0m 0s) Loss: 2.9858(2.5340) \n",
            "Epoch: [4][0/166] Data 1.108 (1.108) Elapsed 0m 1s (remain 4m 1s) Loss: 2.4778(2.4778) Grad: 2150594.0000  \n",
            "Epoch: [4][100/166] Data 0.000 (0.011) Elapsed 0m 30s (remain 0m 19s) Loss: 2.8707(2.5680) Grad: 2122977.2500  \n",
            "Epoch: [4][165/166] Data 0.000 (0.007) Elapsed 0m 48s (remain 0m 0s) Loss: 1.2529(2.4855) Grad: 918604.0000  \n",
            "EVAL: [0/84] Data 0.308 (0.308) Elapsed 0m 0s (remain 0m 35s) Loss: 1.8195(1.8195) \n"
          ]
        },
        {
          "output_type": "stream",
          "name": "stderr",
          "text": [
            "Epoch 4 - avg_train_loss: 2.4855  avg_val_loss: 2.4568  time: 59s\n",
            "INFO:__main__:Epoch 4 - avg_train_loss: 2.4855  avg_val_loss: 2.4568  time: 59s\n",
            "Epoch 4 - Score: 3.0276  Scores: [3.0276]\n",
            "INFO:__main__:Epoch 4 - Score: 3.0276  Scores: [3.0276]\n",
            "Epoch 4 - Save Best Loss: 2.4568 Model\n",
            "INFO:__main__:Epoch 4 - Save Best Loss: 2.4568 Model\n"
          ]
        },
        {
          "output_type": "stream",
          "name": "stdout",
          "text": [
            "EVAL: [83/84] Data 0.000 (0.043) Elapsed 0m 10s (remain 0m 0s) Loss: 3.7933(2.4568) \n",
            "Epoch: [5][0/166] Data 0.986 (0.986) Elapsed 0m 1s (remain 3m 39s) Loss: 1.2859(1.2859) Grad: 1720866.0000  \n",
            "Epoch: [5][100/166] Data 0.000 (0.010) Elapsed 0m 30s (remain 0m 19s) Loss: 2.3621(2.2734) Grad: 1824728.2500  \n",
            "Epoch: [5][165/166] Data 0.000 (0.006) Elapsed 0m 48s (remain 0m 0s) Loss: 5.0220(2.1554) Grad: 2378996.7500  \n",
            "EVAL: [0/84] Data 0.303 (0.303) Elapsed 0m 0s (remain 0m 34s) Loss: 1.0029(1.0029) \n"
          ]
        },
        {
          "output_type": "stream",
          "name": "stderr",
          "text": [
            "Epoch 5 - avg_train_loss: 2.1554  avg_val_loss: 2.1910  time: 60s\n",
            "INFO:__main__:Epoch 5 - avg_train_loss: 2.1554  avg_val_loss: 2.1910  time: 60s\n",
            "Epoch 5 - Score: 2.8451  Scores: [2.8451]\n",
            "INFO:__main__:Epoch 5 - Score: 2.8451  Scores: [2.8451]\n",
            "Epoch 5 - Save Best Loss: 2.1910 Model\n",
            "INFO:__main__:Epoch 5 - Save Best Loss: 2.1910 Model\n"
          ]
        },
        {
          "output_type": "stream",
          "name": "stdout",
          "text": [
            "EVAL: [83/84] Data 0.000 (0.044) Elapsed 0m 10s (remain 0m 0s) Loss: 3.0651(2.1910) \n",
            "Epoch: [6][0/166] Data 0.908 (0.908) Elapsed 0m 1s (remain 3m 27s) Loss: 2.6733(2.6733) Grad: 2116575.0000  \n",
            "Epoch: [6][100/166] Data 0.000 (0.009) Elapsed 0m 29s (remain 0m 19s) Loss: 2.5697(1.9971) Grad: 2513104.2500  \n",
            "Epoch: [6][165/166] Data 0.000 (0.006) Elapsed 0m 48s (remain 0m 0s) Loss: 2.6503(2.0209) Grad: 1962529.2500  \n",
            "EVAL: [0/84] Data 0.326 (0.326) Elapsed 0m 0s (remain 0m 37s) Loss: 1.1898(1.1898) \n"
          ]
        },
        {
          "output_type": "stream",
          "name": "stderr",
          "text": [
            "Epoch 6 - avg_train_loss: 2.0209  avg_val_loss: 2.0411  time: 59s\n",
            "INFO:__main__:Epoch 6 - avg_train_loss: 2.0209  avg_val_loss: 2.0411  time: 59s\n",
            "Epoch 6 - Score: 2.7601  Scores: [2.7601]\n",
            "INFO:__main__:Epoch 6 - Score: 2.7601  Scores: [2.7601]\n",
            "Epoch 6 - Save Best Loss: 2.0411 Model\n",
            "INFO:__main__:Epoch 6 - Save Best Loss: 2.0411 Model\n"
          ]
        },
        {
          "output_type": "stream",
          "name": "stdout",
          "text": [
            "EVAL: [83/84] Data 0.000 (0.045) Elapsed 0m 10s (remain 0m 0s) Loss: 4.6274(2.0411) \n",
            "Epoch: [7][0/166] Data 0.996 (0.996) Elapsed 0m 1s (remain 3m 40s) Loss: 0.8162(0.8162) Grad: 2266487.2500  \n",
            "Epoch: [7][100/166] Data 0.000 (0.010) Elapsed 0m 30s (remain 0m 19s) Loss: 0.9880(1.8048) Grad: 1554110.3750  \n",
            "Epoch: [7][165/166] Data 0.000 (0.006) Elapsed 0m 48s (remain 0m 0s) Loss: 0.9044(1.7213) Grad: 1149788.6250  \n",
            "EVAL: [0/84] Data 0.299 (0.299) Elapsed 0m 0s (remain 0m 34s) Loss: 1.3919(1.3919) \n"
          ]
        },
        {
          "output_type": "stream",
          "name": "stderr",
          "text": [
            "Epoch 7 - avg_train_loss: 1.7213  avg_val_loss: 1.9857  time: 59s\n",
            "INFO:__main__:Epoch 7 - avg_train_loss: 1.7213  avg_val_loss: 1.9857  time: 59s\n",
            "Epoch 7 - Score: 2.7193  Scores: [2.7193]\n",
            "INFO:__main__:Epoch 7 - Score: 2.7193  Scores: [2.7193]\n",
            "Epoch 7 - Save Best Loss: 1.9857 Model\n",
            "INFO:__main__:Epoch 7 - Save Best Loss: 1.9857 Model\n"
          ]
        },
        {
          "output_type": "stream",
          "name": "stdout",
          "text": [
            "EVAL: [83/84] Data 0.000 (0.044) Elapsed 0m 10s (remain 0m 0s) Loss: 4.1981(1.9857) \n",
            "Epoch: [8][0/166] Data 0.897 (0.897) Elapsed 0m 1s (remain 3m 25s) Loss: 0.7945(0.7945) Grad: 966281.6875  \n",
            "Epoch: [8][100/166] Data 0.000 (0.009) Elapsed 0m 30s (remain 0m 19s) Loss: 1.1735(1.6494) Grad: 1433266.3750  \n",
            "Epoch: [8][165/166] Data 0.000 (0.006) Elapsed 0m 48s (remain 0m 0s) Loss: 0.8814(1.6223) Grad: 1394264.2500  \n",
            "EVAL: [0/84] Data 0.311 (0.311) Elapsed 0m 0s (remain 0m 35s) Loss: 1.0639(1.0639) \n"
          ]
        },
        {
          "output_type": "stream",
          "name": "stderr",
          "text": [
            "Epoch 8 - avg_train_loss: 1.6223  avg_val_loss: 2.0241  time: 60s\n",
            "INFO:__main__:Epoch 8 - avg_train_loss: 1.6223  avg_val_loss: 2.0241  time: 60s\n",
            "Epoch 8 - Score: 2.7307  Scores: [2.7307]\n",
            "INFO:__main__:Epoch 8 - Score: 2.7307  Scores: [2.7307]\n"
          ]
        },
        {
          "output_type": "stream",
          "name": "stdout",
          "text": [
            "EVAL: [83/84] Data 0.000 (0.044) Elapsed 0m 10s (remain 0m 0s) Loss: 4.0067(2.0241) \n",
            "Epoch: [9][0/166] Data 0.601 (0.601) Elapsed 0m 0s (remain 2m 36s) Loss: 0.7931(0.7931) Grad: 878408.1875  \n",
            "Epoch: [9][100/166] Data 0.000 (0.007) Elapsed 0m 29s (remain 0m 19s) Loss: 1.3426(1.6365) Grad: 1096625.2500  \n",
            "Epoch: [9][165/166] Data 0.000 (0.004) Elapsed 0m 48s (remain 0m 0s) Loss: 1.4222(1.5162) Grad: 1215276.0000  \n",
            "EVAL: [0/84] Data 0.308 (0.308) Elapsed 0m 0s (remain 0m 35s) Loss: 1.0902(1.0902) \n"
          ]
        },
        {
          "output_type": "stream",
          "name": "stderr",
          "text": [
            "Epoch 9 - avg_train_loss: 1.5162  avg_val_loss: 2.0187  time: 59s\n",
            "INFO:__main__:Epoch 9 - avg_train_loss: 1.5162  avg_val_loss: 2.0187  time: 59s\n",
            "Epoch 9 - Score: 2.7385  Scores: [2.7385]\n",
            "INFO:__main__:Epoch 9 - Score: 2.7385  Scores: [2.7385]\n"
          ]
        },
        {
          "output_type": "stream",
          "name": "stdout",
          "text": [
            "EVAL: [83/84] Data 0.000 (0.044) Elapsed 0m 10s (remain 0m 0s) Loss: 4.6035(2.0187) \n",
            "Epoch: [10][0/166] Data 0.632 (0.632) Elapsed 0m 0s (remain 2m 39s) Loss: 2.4990(2.4990) Grad: 2210899.0000  \n",
            "Epoch: [10][100/166] Data 0.000 (0.007) Elapsed 0m 29s (remain 0m 19s) Loss: 1.2259(1.4742) Grad: 1386653.3750  \n",
            "Epoch: [10][165/166] Data 0.000 (0.004) Elapsed 0m 48s (remain 0m 0s) Loss: 1.7385(1.5002) Grad: 1755146.5000  \n",
            "EVAL: [0/84] Data 0.319 (0.319) Elapsed 0m 0s (remain 0m 37s) Loss: 1.2466(1.2466) \n"
          ]
        },
        {
          "output_type": "stream",
          "name": "stderr",
          "text": [
            "Epoch 10 - avg_train_loss: 1.5002  avg_val_loss: 1.9697  time: 59s\n",
            "INFO:__main__:Epoch 10 - avg_train_loss: 1.5002  avg_val_loss: 1.9697  time: 59s\n",
            "Epoch 10 - Score: 2.7010  Scores: [2.701]\n",
            "INFO:__main__:Epoch 10 - Score: 2.7010  Scores: [2.701]\n",
            "Epoch 10 - Save Best Loss: 1.9697 Model\n",
            "INFO:__main__:Epoch 10 - Save Best Loss: 1.9697 Model\n"
          ]
        },
        {
          "output_type": "stream",
          "name": "stdout",
          "text": [
            "EVAL: [83/84] Data 0.000 (0.043) Elapsed 0m 10s (remain 0m 0s) Loss: 4.5125(1.9697) \n",
            "Epoch: [11][0/166] Data 0.894 (0.894) Elapsed 0m 1s (remain 3m 27s) Loss: 1.1133(1.1133) Grad: 745152.0000  \n",
            "Epoch: [11][100/166] Data 0.000 (0.009) Elapsed 0m 30s (remain 0m 19s) Loss: 1.0433(1.4509) Grad: 2039507.2500  \n",
            "Epoch: [11][165/166] Data 0.000 (0.006) Elapsed 0m 48s (remain 0m 0s) Loss: 0.3353(1.5268) Grad: 1843776.8750  \n",
            "EVAL: [0/84] Data 0.304 (0.304) Elapsed 0m 0s (remain 0m 35s) Loss: 1.2473(1.2473) \n"
          ]
        },
        {
          "output_type": "stream",
          "name": "stderr",
          "text": [
            "Epoch 11 - avg_train_loss: 1.5268  avg_val_loss: 2.0357  time: 59s\n",
            "INFO:__main__:Epoch 11 - avg_train_loss: 1.5268  avg_val_loss: 2.0357  time: 59s\n",
            "Epoch 11 - Score: 2.7628  Scores: [2.7628]\n",
            "INFO:__main__:Epoch 11 - Score: 2.7628  Scores: [2.7628]\n"
          ]
        },
        {
          "output_type": "stream",
          "name": "stdout",
          "text": [
            "EVAL: [83/84] Data 0.000 (0.042) Elapsed 0m 10s (remain 0m 0s) Loss: 3.9350(2.0357) \n",
            "Epoch: [12][0/166] Data 0.770 (0.770) Elapsed 0m 1s (remain 3m 2s) Loss: 1.1698(1.1698) Grad: 1460158.1250  \n",
            "Epoch: [12][100/166] Data 0.000 (0.008) Elapsed 0m 29s (remain 0m 19s) Loss: 0.7920(1.5400) Grad: 1083306.7500  \n",
            "Epoch: [12][165/166] Data 0.000 (0.005) Elapsed 0m 48s (remain 0m 0s) Loss: 1.3993(1.6495) Grad: 1236593.1250  \n",
            "EVAL: [0/84] Data 0.314 (0.314) Elapsed 0m 0s (remain 0m 35s) Loss: 1.3117(1.3117) \n"
          ]
        },
        {
          "output_type": "stream",
          "name": "stderr",
          "text": [
            "Epoch 12 - avg_train_loss: 1.6495  avg_val_loss: 2.1496  time: 59s\n",
            "INFO:__main__:Epoch 12 - avg_train_loss: 1.6495  avg_val_loss: 2.1496  time: 59s\n",
            "Epoch 12 - Score: 2.7902  Scores: [2.7902]\n",
            "INFO:__main__:Epoch 12 - Score: 2.7902  Scores: [2.7902]\n"
          ]
        },
        {
          "output_type": "stream",
          "name": "stdout",
          "text": [
            "EVAL: [83/84] Data 0.000 (0.043) Elapsed 0m 10s (remain 0m 0s) Loss: 4.8742(2.1496) \n",
            "Epoch: [13][0/166] Data 0.598 (0.598) Elapsed 0m 0s (remain 2m 40s) Loss: 3.6240(3.6240) Grad: 2615989.5000  \n",
            "Epoch: [13][100/166] Data 0.000 (0.006) Elapsed 0m 29s (remain 0m 18s) Loss: 0.5927(1.8587) Grad: 914663.3750  \n",
            "Epoch: [13][165/166] Data 0.000 (0.004) Elapsed 0m 47s (remain 0m 0s) Loss: 2.0499(1.8572) Grad: 1694959.6250  \n",
            "EVAL: [0/84] Data 0.298 (0.298) Elapsed 0m 0s (remain 0m 33s) Loss: 1.4573(1.4573) \n"
          ]
        },
        {
          "output_type": "stream",
          "name": "stderr",
          "text": [
            "Epoch 13 - avg_train_loss: 1.8572  avg_val_loss: 2.0708  time: 59s\n",
            "INFO:__main__:Epoch 13 - avg_train_loss: 1.8572  avg_val_loss: 2.0708  time: 59s\n",
            "Epoch 13 - Score: 2.7602  Scores: [2.7602]\n",
            "INFO:__main__:Epoch 13 - Score: 2.7602  Scores: [2.7602]\n"
          ]
        },
        {
          "output_type": "stream",
          "name": "stdout",
          "text": [
            "EVAL: [83/84] Data 0.000 (0.044) Elapsed 0m 10s (remain 0m 0s) Loss: 4.6629(2.0708) \n",
            "Epoch: [14][0/166] Data 0.587 (0.587) Elapsed 0m 0s (remain 2m 32s) Loss: 0.9282(0.9282) Grad: 1280913.6250  \n",
            "Epoch: [14][100/166] Data 0.000 (0.006) Elapsed 0m 29s (remain 0m 18s) Loss: 1.0524(1.7174) Grad: 1978318.6250  \n",
            "Epoch: [14][165/166] Data 0.000 (0.004) Elapsed 0m 47s (remain 0m 0s) Loss: 0.8849(1.7802) Grad: 966478.1250  \n",
            "EVAL: [0/84] Data 0.308 (0.308) Elapsed 0m 0s (remain 0m 35s) Loss: 1.9025(1.9025) \n"
          ]
        },
        {
          "output_type": "stream",
          "name": "stderr",
          "text": [
            "Epoch 14 - avg_train_loss: 1.7802  avg_val_loss: 1.9804  time: 59s\n",
            "INFO:__main__:Epoch 14 - avg_train_loss: 1.7802  avg_val_loss: 1.9804  time: 59s\n",
            "Epoch 14 - Score: 2.7030  Scores: [2.703]\n",
            "INFO:__main__:Epoch 14 - Score: 2.7030  Scores: [2.703]\n"
          ]
        },
        {
          "output_type": "stream",
          "name": "stdout",
          "text": [
            "EVAL: [83/84] Data 0.000 (0.043) Elapsed 0m 10s (remain 0m 0s) Loss: 4.1927(1.9804) \n",
            "Epoch: [15][0/166] Data 0.595 (0.595) Elapsed 0m 0s (remain 2m 33s) Loss: 1.5546(1.5546) Grad: 1053481.5000  \n",
            "Epoch: [15][100/166] Data 0.000 (0.006) Elapsed 0m 29s (remain 0m 19s) Loss: 1.2760(1.7505) Grad: 934770.3750  \n",
            "Epoch: [15][165/166] Data 0.000 (0.004) Elapsed 0m 48s (remain 0m 0s) Loss: 1.8542(1.9229) Grad: 1326534.0000  \n",
            "EVAL: [0/84] Data 0.306 (0.306) Elapsed 0m 0s (remain 0m 34s) Loss: 1.2799(1.2799) \n"
          ]
        },
        {
          "output_type": "stream",
          "name": "stderr",
          "text": [
            "Epoch 15 - avg_train_loss: 1.9229  avg_val_loss: 2.1308  time: 59s\n",
            "INFO:__main__:Epoch 15 - avg_train_loss: 1.9229  avg_val_loss: 2.1308  time: 59s\n",
            "Epoch 15 - Score: 2.7878  Scores: [2.7878]\n",
            "INFO:__main__:Epoch 15 - Score: 2.7878  Scores: [2.7878]\n"
          ]
        },
        {
          "output_type": "stream",
          "name": "stdout",
          "text": [
            "EVAL: [83/84] Data 0.000 (0.045) Elapsed 0m 10s (remain 0m 0s) Loss: 3.9367(2.1308) \n",
            "Epoch: [16][0/166] Data 0.785 (0.785) Elapsed 0m 1s (remain 3m 5s) Loss: 1.4268(1.4268) Grad: 1448110.6250  \n",
            "Epoch: [16][100/166] Data 0.000 (0.008) Elapsed 0m 29s (remain 0m 19s) Loss: 2.0883(2.0075) Grad: 1682087.7500  \n",
            "Epoch: [16][165/166] Data 0.000 (0.005) Elapsed 0m 48s (remain 0m 0s) Loss: 1.5316(2.0574) Grad: 1635270.0000  \n",
            "EVAL: [0/84] Data 0.303 (0.303) Elapsed 0m 0s (remain 0m 34s) Loss: 2.1228(2.1228) \n"
          ]
        },
        {
          "output_type": "stream",
          "name": "stderr",
          "text": [
            "Epoch 16 - avg_train_loss: 2.0574  avg_val_loss: 2.2792  time: 59s\n",
            "INFO:__main__:Epoch 16 - avg_train_loss: 2.0574  avg_val_loss: 2.2792  time: 59s\n",
            "Epoch 16 - Score: 2.9818  Scores: [2.9818]\n",
            "INFO:__main__:Epoch 16 - Score: 2.9818  Scores: [2.9818]\n"
          ]
        },
        {
          "output_type": "stream",
          "name": "stdout",
          "text": [
            "EVAL: [83/84] Data 0.000 (0.044) Elapsed 0m 10s (remain 0m 0s) Loss: 3.6706(2.2792) \n",
            "Epoch: [17][0/166] Data 0.693 (0.693) Elapsed 0m 1s (remain 2m 52s) Loss: 1.8221(1.8221) Grad: 1889398.5000  \n",
            "Epoch: [17][100/166] Data 0.000 (0.007) Elapsed 0m 29s (remain 0m 19s) Loss: 1.3526(2.0097) Grad: 1264012.7500  \n",
            "Epoch: [17][165/166] Data 0.000 (0.005) Elapsed 0m 48s (remain 0m 0s) Loss: 1.6298(1.8503) Grad: 1661368.5000  \n",
            "EVAL: [0/84] Data 0.327 (0.327) Elapsed 0m 0s (remain 0m 38s) Loss: 2.3745(2.3745) \n"
          ]
        },
        {
          "output_type": "stream",
          "name": "stderr",
          "text": [
            "Epoch 17 - avg_train_loss: 1.8503  avg_val_loss: 2.6350  time: 59s\n",
            "INFO:__main__:Epoch 17 - avg_train_loss: 1.8503  avg_val_loss: 2.6350  time: 59s\n",
            "Epoch 17 - Score: 3.1636  Scores: [3.1636]\n",
            "INFO:__main__:Epoch 17 - Score: 3.1636  Scores: [3.1636]\n"
          ]
        },
        {
          "output_type": "stream",
          "name": "stdout",
          "text": [
            "EVAL: [83/84] Data 0.000 (0.043) Elapsed 0m 10s (remain 0m 0s) Loss: 3.0583(2.6350) \n",
            "Epoch: [18][0/166] Data 0.835 (0.835) Elapsed 0m 1s (remain 3m 14s) Loss: 0.8929(0.8929) Grad: 2414068.7500  \n",
            "Epoch: [18][100/166] Data 0.000 (0.009) Elapsed 0m 30s (remain 0m 19s) Loss: 1.1023(1.8703) Grad: 1187970.5000  \n",
            "Epoch: [18][165/166] Data 0.000 (0.005) Elapsed 0m 48s (remain 0m 0s) Loss: 2.1301(1.7932) Grad: 1822393.2500  \n",
            "EVAL: [0/84] Data 0.320 (0.320) Elapsed 0m 0s (remain 0m 36s) Loss: 1.4217(1.4217) \n"
          ]
        },
        {
          "output_type": "stream",
          "name": "stderr",
          "text": [
            "Epoch 18 - avg_train_loss: 1.7932  avg_val_loss: 2.2318  time: 60s\n",
            "INFO:__main__:Epoch 18 - avg_train_loss: 1.7932  avg_val_loss: 2.2318  time: 60s\n",
            "Epoch 18 - Score: 2.8570  Scores: [2.857]\n",
            "INFO:__main__:Epoch 18 - Score: 2.8570  Scores: [2.857]\n"
          ]
        },
        {
          "output_type": "stream",
          "name": "stdout",
          "text": [
            "EVAL: [83/84] Data 0.000 (0.043) Elapsed 0m 10s (remain 0m 0s) Loss: 2.0135(2.2318) \n",
            "Epoch: [19][0/166] Data 0.616 (0.616) Elapsed 0m 0s (remain 2m 36s) Loss: 3.4178(3.4178) Grad: 1862794.5000  \n",
            "Epoch: [19][100/166] Data 0.000 (0.006) Elapsed 0m 29s (remain 0m 19s) Loss: 1.3022(1.6914) Grad: 1114985.1250  \n",
            "Epoch: [19][165/166] Data 0.000 (0.004) Elapsed 0m 48s (remain 0m 0s) Loss: 1.4964(1.6376) Grad: 971197.4375  \n",
            "EVAL: [0/84] Data 0.314 (0.314) Elapsed 0m 0s (remain 0m 37s) Loss: 1.8400(1.8400) \n"
          ]
        },
        {
          "output_type": "stream",
          "name": "stderr",
          "text": [
            "Epoch 19 - avg_train_loss: 1.6376  avg_val_loss: 2.3220  time: 59s\n",
            "INFO:__main__:Epoch 19 - avg_train_loss: 1.6376  avg_val_loss: 2.3220  time: 59s\n",
            "Epoch 19 - Score: 2.9096  Scores: [2.9096]\n",
            "INFO:__main__:Epoch 19 - Score: 2.9096  Scores: [2.9096]\n"
          ]
        },
        {
          "output_type": "stream",
          "name": "stdout",
          "text": [
            "EVAL: [83/84] Data 0.000 (0.043) Elapsed 0m 10s (remain 0m 0s) Loss: 3.5188(2.3220) \n",
            "Epoch: [20][0/166] Data 0.614 (0.614) Elapsed 0m 0s (remain 2m 36s) Loss: 0.6008(0.6008) Grad: 820726.8125  \n",
            "Epoch: [20][100/166] Data 0.000 (0.006) Elapsed 0m 29s (remain 0m 19s) Loss: 1.4148(1.4458) Grad: 2164201.2500  \n",
            "Epoch: [20][165/166] Data 0.000 (0.004) Elapsed 0m 48s (remain 0m 0s) Loss: 0.9283(1.4891) Grad: 1161713.1250  \n",
            "EVAL: [0/84] Data 0.315 (0.315) Elapsed 0m 0s (remain 0m 36s) Loss: 1.6759(1.6759) \n"
          ]
        },
        {
          "output_type": "stream",
          "name": "stderr",
          "text": [
            "Epoch 20 - avg_train_loss: 1.4891  avg_val_loss: 2.1593  time: 59s\n",
            "INFO:__main__:Epoch 20 - avg_train_loss: 1.4891  avg_val_loss: 2.1593  time: 59s\n",
            "Epoch 20 - Score: 2.7889  Scores: [2.7889]\n",
            "INFO:__main__:Epoch 20 - Score: 2.7889  Scores: [2.7889]\n"
          ]
        },
        {
          "output_type": "stream",
          "name": "stdout",
          "text": [
            "EVAL: [83/84] Data 0.000 (0.042) Elapsed 0m 10s (remain 0m 0s) Loss: 4.1525(2.1593) \n",
            "Epoch: [21][0/166] Data 0.611 (0.611) Elapsed 0m 0s (remain 2m 36s) Loss: 2.8193(2.8193) Grad: 2129218.5000  \n",
            "Epoch: [21][100/166] Data 0.000 (0.006) Elapsed 0m 29s (remain 0m 19s) Loss: 0.2286(1.1670) Grad: 1597456.3750  \n",
            "Epoch: [21][165/166] Data 0.000 (0.004) Elapsed 0m 48s (remain 0m 0s) Loss: 0.5573(1.2207) Grad: 675549.0000  \n",
            "EVAL: [0/84] Data 0.313 (0.313) Elapsed 0m 0s (remain 0m 35s) Loss: 1.4865(1.4865) \n"
          ]
        },
        {
          "output_type": "stream",
          "name": "stderr",
          "text": [
            "Epoch 21 - avg_train_loss: 1.2207  avg_val_loss: 2.1111  time: 59s\n",
            "INFO:__main__:Epoch 21 - avg_train_loss: 1.2207  avg_val_loss: 2.1111  time: 59s\n",
            "Epoch 21 - Score: 2.7657  Scores: [2.7657]\n",
            "INFO:__main__:Epoch 21 - Score: 2.7657  Scores: [2.7657]\n"
          ]
        },
        {
          "output_type": "stream",
          "name": "stdout",
          "text": [
            "EVAL: [83/84] Data 0.000 (0.043) Elapsed 0m 10s (remain 0m 0s) Loss: 3.4624(2.1111) \n",
            "Epoch: [22][0/166] Data 0.726 (0.726) Elapsed 0m 1s (remain 2m 53s) Loss: 0.4433(0.4433) Grad: 1460040.0000  \n",
            "Epoch: [22][100/166] Data 0.000 (0.008) Elapsed 0m 29s (remain 0m 19s) Loss: 0.7872(1.0800) Grad: 2317445.0000  \n",
            "Epoch: [22][165/166] Data 0.000 (0.005) Elapsed 0m 48s (remain 0m 0s) Loss: 0.8644(1.1735) Grad: 1861992.0000  \n",
            "EVAL: [0/84] Data 0.327 (0.327) Elapsed 0m 0s (remain 0m 38s) Loss: 1.6468(1.6468) \n"
          ]
        },
        {
          "output_type": "stream",
          "name": "stderr",
          "text": [
            "Epoch 22 - avg_train_loss: 1.1735  avg_val_loss: 2.0409  time: 59s\n",
            "INFO:__main__:Epoch 22 - avg_train_loss: 1.1735  avg_val_loss: 2.0409  time: 59s\n",
            "Epoch 22 - Score: 2.7278  Scores: [2.7278]\n",
            "INFO:__main__:Epoch 22 - Score: 2.7278  Scores: [2.7278]\n"
          ]
        },
        {
          "output_type": "stream",
          "name": "stdout",
          "text": [
            "EVAL: [83/84] Data 0.000 (0.040) Elapsed 0m 10s (remain 0m 0s) Loss: 3.7851(2.0409) \n",
            "Epoch: [23][0/166] Data 0.763 (0.763) Elapsed 0m 1s (remain 3m 2s) Loss: 0.7805(0.7805) Grad: 993923.9375  \n",
            "Epoch: [23][100/166] Data 0.000 (0.008) Elapsed 0m 29s (remain 0m 19s) Loss: 1.3902(1.0832) Grad: 1104820.5000  \n",
            "Epoch: [23][165/166] Data 0.000 (0.005) Elapsed 0m 48s (remain 0m 0s) Loss: 3.1506(1.0177) Grad: 945522.8125  \n",
            "EVAL: [0/84] Data 0.309 (0.309) Elapsed 0m 0s (remain 0m 35s) Loss: 11.2932(11.2932) \n"
          ]
        },
        {
          "output_type": "stream",
          "name": "stderr",
          "text": [
            "Epoch 23 - avg_train_loss: 1.0177  avg_val_loss: 2.0334  time: 59s\n",
            "INFO:__main__:Epoch 23 - avg_train_loss: 1.0177  avg_val_loss: 2.0334  time: 59s\n",
            "Epoch 23 - Score: 2.9237  Scores: [2.9237]\n",
            "INFO:__main__:Epoch 23 - Score: 2.9237  Scores: [2.9237]\n"
          ]
        },
        {
          "output_type": "stream",
          "name": "stdout",
          "text": [
            "EVAL: [83/84] Data 0.000 (0.042) Elapsed 0m 10s (remain 0m 0s) Loss: 4.0119(2.0334) \n",
            "Epoch: [24][0/166] Data 0.546 (0.546) Elapsed 0m 0s (remain 2m 25s) Loss: 0.4095(0.4095) Grad: 421292.8125  \n",
            "Epoch: [24][100/166] Data 0.000 (0.006) Elapsed 0m 29s (remain 0m 19s) Loss: 1.2536(1.0295) Grad: 1013425.8125  \n",
            "Epoch: [24][165/166] Data 0.000 (0.004) Elapsed 0m 48s (remain 0m 0s) Loss: 0.4554(0.9085) Grad: 1678650.7500  \n",
            "EVAL: [0/84] Data 0.320 (0.320) Elapsed 0m 0s (remain 0m 36s) Loss: 12.0407(12.0407) \n"
          ]
        },
        {
          "output_type": "stream",
          "name": "stderr",
          "text": [
            "Epoch 24 - avg_train_loss: 0.9085  avg_val_loss: 2.0304  time: 59s\n",
            "INFO:__main__:Epoch 24 - avg_train_loss: 0.9085  avg_val_loss: 2.0304  time: 59s\n",
            "Epoch 24 - Score: 2.9430  Scores: [2.943]\n",
            "INFO:__main__:Epoch 24 - Score: 2.9430  Scores: [2.943]\n"
          ]
        },
        {
          "output_type": "stream",
          "name": "stdout",
          "text": [
            "EVAL: [83/84] Data 0.000 (0.043) Elapsed 0m 10s (remain 0m 0s) Loss: 3.6638(2.0304) \n",
            "Epoch: [25][0/166] Data 0.719 (0.719) Elapsed 0m 1s (remain 2m 56s) Loss: 0.1861(0.1861) Grad: 867740.1875  \n",
            "Epoch: [25][100/166] Data 0.000 (0.007) Elapsed 0m 29s (remain 0m 19s) Loss: 0.6013(0.8810) Grad: 705874.8750  \n",
            "Epoch: [25][165/166] Data 0.000 (0.005) Elapsed 0m 48s (remain 0m 0s) Loss: 0.5726(0.9039) Grad: 953692.5625  \n",
            "EVAL: [0/84] Data 0.315 (0.315) Elapsed 0m 0s (remain 0m 35s) Loss: 1.7861(1.7861) \n"
          ]
        },
        {
          "output_type": "stream",
          "name": "stderr",
          "text": [
            "Epoch 25 - avg_train_loss: 0.9039  avg_val_loss: 1.9038  time: 59s\n",
            "INFO:__main__:Epoch 25 - avg_train_loss: 0.9039  avg_val_loss: 1.9038  time: 59s\n",
            "Epoch 25 - Score: 2.6363  Scores: [2.6363]\n",
            "INFO:__main__:Epoch 25 - Score: 2.6363  Scores: [2.6363]\n",
            "Epoch 25 - Save Best Loss: 1.9038 Model\n",
            "INFO:__main__:Epoch 25 - Save Best Loss: 1.9038 Model\n"
          ]
        },
        {
          "output_type": "stream",
          "name": "stdout",
          "text": [
            "EVAL: [83/84] Data 0.000 (0.043) Elapsed 0m 10s (remain 0m 0s) Loss: 3.7957(1.9038) \n"
          ]
        },
        {
          "output_type": "stream",
          "name": "stderr",
          "text": [
            "========== fold: 0 result ==========\n",
            "INFO:__main__:========== fold: 0 result ==========\n",
            "Score: 2.6363  Scores: [2.6363]\n",
            "INFO:__main__:Score: 2.6363  Scores: [2.6363]\n",
            "========== fold: 1 training ==========\n",
            "INFO:__main__:========== fold: 1 training ==========\n"
          ]
        },
        {
          "output_type": "stream",
          "name": "stdout",
          "text": [
            "Epoch: [1][0/166] Data 0.620 (0.620) Elapsed 0m 1s (remain 2m 50s) Loss: 14.9765(14.9765) Grad: 1147198.2500  \n",
            "Epoch: [1][100/166] Data 0.000 (0.006) Elapsed 0m 30s (remain 0m 19s) Loss: 7.7347(7.5097) Grad: 2243872.0000  \n",
            "Epoch: [1][165/166] Data 0.000 (0.004) Elapsed 0m 48s (remain 0m 0s) Loss: 3.4543(6.7915) Grad: 1154729.2500  \n",
            "EVAL: [0/84] Data 0.366 (0.366) Elapsed 0m 0s (remain 0m 40s) Loss: 3.4265(3.4265) \n"
          ]
        },
        {
          "output_type": "stream",
          "name": "stderr",
          "text": [
            "Epoch 1 - avg_train_loss: 6.7915  avg_val_loss: 35.8008  time: 60s\n",
            "INFO:__main__:Epoch 1 - avg_train_loss: 6.7915  avg_val_loss: 35.8008  time: 60s\n",
            "Epoch 1 - Score: 234.2833  Scores: [234.2833]\n",
            "INFO:__main__:Epoch 1 - Score: 234.2833  Scores: [234.2833]\n",
            "Epoch 1 - Save Best Loss: 35.8008 Model\n",
            "INFO:__main__:Epoch 1 - Save Best Loss: 35.8008 Model\n"
          ]
        },
        {
          "output_type": "stream",
          "name": "stdout",
          "text": [
            "EVAL: [83/84] Data 0.000 (0.041) Elapsed 0m 10s (remain 0m 0s) Loss: 0.7478(35.8008) \n",
            "Epoch: [2][0/166] Data 0.636 (0.636) Elapsed 0m 0s (remain 2m 44s) Loss: 3.3483(3.3483) Grad: 2013866.5000  \n",
            "Epoch: [2][100/166] Data 0.000 (0.007) Elapsed 0m 30s (remain 0m 19s) Loss: 3.6478(4.7581) Grad: 2327529.7500  \n",
            "Epoch: [2][165/166] Data 0.000 (0.004) Elapsed 0m 48s (remain 0m 0s) Loss: 2.8553(4.3737) Grad: 2188051.5000  \n",
            "EVAL: [0/84] Data 0.371 (0.371) Elapsed 0m 0s (remain 0m 41s) Loss: 4.3408(4.3408) \n"
          ]
        },
        {
          "output_type": "stream",
          "name": "stderr",
          "text": [
            "Epoch 2 - avg_train_loss: 4.3737  avg_val_loss: 15.8614  time: 59s\n",
            "INFO:__main__:Epoch 2 - avg_train_loss: 4.3737  avg_val_loss: 15.8614  time: 59s\n",
            "Epoch 2 - Score: 94.2579  Scores: [94.2579]\n",
            "INFO:__main__:Epoch 2 - Score: 94.2579  Scores: [94.2579]\n",
            "Epoch 2 - Save Best Loss: 15.8614 Model\n",
            "INFO:__main__:Epoch 2 - Save Best Loss: 15.8614 Model\n"
          ]
        },
        {
          "output_type": "stream",
          "name": "stdout",
          "text": [
            "EVAL: [83/84] Data 0.000 (0.040) Elapsed 0m 10s (remain 0m 0s) Loss: 1.6454(15.8614) \n",
            "Epoch: [3][0/166] Data 1.026 (1.026) Elapsed 0m 1s (remain 3m 48s) Loss: 3.1238(3.1238) Grad: 1598993.2500  \n",
            "Epoch: [3][100/166] Data 0.000 (0.011) Elapsed 0m 30s (remain 0m 19s) Loss: 1.6903(2.9975) Grad: 1452365.0000  \n",
            "Epoch: [3][165/166] Data 0.000 (0.007) Elapsed 0m 49s (remain 0m 0s) Loss: 4.3853(3.1700) Grad: 2036693.6250  \n",
            "EVAL: [0/84] Data 0.361 (0.361) Elapsed 0m 0s (remain 0m 39s) Loss: 2.5272(2.5272) \n"
          ]
        },
        {
          "output_type": "stream",
          "name": "stderr",
          "text": [
            "Epoch 3 - avg_train_loss: 3.1700  avg_val_loss: 5.1141  time: 60s\n",
            "INFO:__main__:Epoch 3 - avg_train_loss: 3.1700  avg_val_loss: 5.1141  time: 60s\n",
            "Epoch 3 - Score: 15.9044  Scores: [15.9044]\n",
            "INFO:__main__:Epoch 3 - Score: 15.9044  Scores: [15.9044]\n",
            "Epoch 3 - Save Best Loss: 5.1141 Model\n",
            "INFO:__main__:Epoch 3 - Save Best Loss: 5.1141 Model\n"
          ]
        },
        {
          "output_type": "stream",
          "name": "stdout",
          "text": [
            "EVAL: [83/84] Data 0.000 (0.039) Elapsed 0m 10s (remain 0m 0s) Loss: 1.9462(5.1141) \n",
            "Epoch: [4][0/166] Data 0.921 (0.921) Elapsed 0m 1s (remain 3m 29s) Loss: 1.5394(1.5394) Grad: 1084228.7500  \n",
            "Epoch: [4][100/166] Data 0.000 (0.009) Elapsed 0m 30s (remain 0m 19s) Loss: 7.9270(2.7339) Grad: 2479012.5000  \n",
            "Epoch: [4][165/166] Data 0.000 (0.006) Elapsed 0m 49s (remain 0m 0s) Loss: 2.1015(2.5267) Grad: 1294063.5000  \n",
            "EVAL: [0/84] Data 0.371 (0.371) Elapsed 0m 0s (remain 0m 39s) Loss: 2.4363(2.4363) \n"
          ]
        },
        {
          "output_type": "stream",
          "name": "stderr",
          "text": [
            "Epoch 4 - avg_train_loss: 2.5267  avg_val_loss: 4.1858  time: 60s\n",
            "INFO:__main__:Epoch 4 - avg_train_loss: 2.5267  avg_val_loss: 4.1858  time: 60s\n",
            "Epoch 4 - Score: 10.1010  Scores: [10.101]\n",
            "INFO:__main__:Epoch 4 - Score: 10.1010  Scores: [10.101]\n",
            "Epoch 4 - Save Best Loss: 4.1858 Model\n",
            "INFO:__main__:Epoch 4 - Save Best Loss: 4.1858 Model\n"
          ]
        },
        {
          "output_type": "stream",
          "name": "stdout",
          "text": [
            "EVAL: [83/84] Data 0.000 (0.039) Elapsed 0m 10s (remain 0m 0s) Loss: 0.1121(4.1858) \n",
            "Epoch: [5][0/166] Data 0.949 (0.949) Elapsed 0m 1s (remain 3m 35s) Loss: 3.2219(3.2219) Grad: 2118610.0000  \n",
            "Epoch: [5][100/166] Data 0.000 (0.012) Elapsed 0m 30s (remain 0m 19s) Loss: 4.2606(2.3585) Grad: 1385190.3750  \n",
            "Epoch: [5][165/166] Data 0.000 (0.007) Elapsed 0m 49s (remain 0m 0s) Loss: 3.8716(2.4183) Grad: 2904607.7500  \n",
            "EVAL: [0/84] Data 0.378 (0.378) Elapsed 0m 0s (remain 0m 40s) Loss: 3.5921(3.5921) \n"
          ]
        },
        {
          "output_type": "stream",
          "name": "stderr",
          "text": [
            "Epoch 5 - avg_train_loss: 2.4183  avg_val_loss: 13.3985  time: 60s\n",
            "INFO:__main__:Epoch 5 - avg_train_loss: 2.4183  avg_val_loss: 13.3985  time: 60s\n",
            "Epoch 5 - Score: 58.0947  Scores: [58.0947]\n",
            "INFO:__main__:Epoch 5 - Score: 58.0947  Scores: [58.0947]\n"
          ]
        },
        {
          "output_type": "stream",
          "name": "stdout",
          "text": [
            "EVAL: [83/84] Data 0.000 (0.038) Elapsed 0m 10s (remain 0m 0s) Loss: 1.2800(13.3985) \n",
            "Epoch: [6][0/166] Data 0.598 (0.598) Elapsed 0m 0s (remain 2m 35s) Loss: 1.8474(1.8474) Grad: 1414158.3750  \n",
            "Epoch: [6][100/166] Data 0.000 (0.006) Elapsed 0m 29s (remain 0m 19s) Loss: 0.8976(1.9973) Grad: 1248339.2500  \n",
            "Epoch: [6][165/166] Data 0.000 (0.004) Elapsed 0m 48s (remain 0m 0s) Loss: 2.0572(1.9827) Grad: 1362532.3750  \n",
            "EVAL: [0/84] Data 0.365 (0.365) Elapsed 0m 0s (remain 0m 39s) Loss: 1.8988(1.8988) \n"
          ]
        },
        {
          "output_type": "stream",
          "name": "stderr",
          "text": [
            "Epoch 6 - avg_train_loss: 1.9827  avg_val_loss: 6.7982  time: 59s\n",
            "INFO:__main__:Epoch 6 - avg_train_loss: 1.9827  avg_val_loss: 6.7982  time: 59s\n",
            "Epoch 6 - Score: 33.5389  Scores: [33.5389]\n",
            "INFO:__main__:Epoch 6 - Score: 33.5389  Scores: [33.5389]\n"
          ]
        },
        {
          "output_type": "stream",
          "name": "stdout",
          "text": [
            "EVAL: [83/84] Data 0.000 (0.039) Elapsed 0m 10s (remain 0m 0s) Loss: 0.7917(6.7982) \n",
            "Epoch: [7][0/166] Data 0.606 (0.606) Elapsed 0m 0s (remain 2m 35s) Loss: 1.1408(1.1408) Grad: 2304802.5000  \n",
            "Epoch: [7][100/166] Data 0.000 (0.006) Elapsed 0m 29s (remain 0m 19s) Loss: 1.5610(1.7569) Grad: 1875382.2500  \n",
            "Epoch: [7][165/166] Data 0.000 (0.004) Elapsed 0m 48s (remain 0m 0s) Loss: 3.6052(1.9492) Grad: 1376569.0000  \n",
            "EVAL: [0/84] Data 0.365 (0.365) Elapsed 0m 0s (remain 0m 40s) Loss: 1.8242(1.8242) \n"
          ]
        },
        {
          "output_type": "stream",
          "name": "stderr",
          "text": [
            "Epoch 7 - avg_train_loss: 1.9492  avg_val_loss: 1.9791  time: 59s\n",
            "INFO:__main__:Epoch 7 - avg_train_loss: 1.9492  avg_val_loss: 1.9791  time: 59s\n",
            "Epoch 7 - Score: 2.3798  Scores: [2.3798]\n",
            "INFO:__main__:Epoch 7 - Score: 2.3798  Scores: [2.3798]\n",
            "Epoch 7 - Save Best Loss: 1.9791 Model\n",
            "INFO:__main__:Epoch 7 - Save Best Loss: 1.9791 Model\n"
          ]
        },
        {
          "output_type": "stream",
          "name": "stdout",
          "text": [
            "EVAL: [83/84] Data 0.000 (0.040) Elapsed 0m 10s (remain 0m 0s) Loss: 0.7589(1.9791) \n",
            "Epoch: [8][0/166] Data 0.860 (0.860) Elapsed 0m 1s (remain 3m 21s) Loss: 1.2718(1.2718) Grad: 731810.1875  \n",
            "Epoch: [8][100/166] Data 0.000 (0.009) Elapsed 0m 30s (remain 0m 19s) Loss: 1.1422(1.8090) Grad: 1202691.5000  \n",
            "Epoch: [8][165/166] Data 0.000 (0.006) Elapsed 0m 48s (remain 0m 0s) Loss: 1.4424(1.8137) Grad: 1861824.0000  \n",
            "EVAL: [0/84] Data 0.360 (0.360) Elapsed 0m 0s (remain 0m 40s) Loss: 1.6981(1.6981) \n"
          ]
        },
        {
          "output_type": "stream",
          "name": "stderr",
          "text": [
            "Epoch 8 - avg_train_loss: 1.8137  avg_val_loss: 2.6250  time: 59s\n",
            "INFO:__main__:Epoch 8 - avg_train_loss: 1.8137  avg_val_loss: 2.6250  time: 59s\n",
            "Epoch 8 - Score: 7.2618  Scores: [7.2618]\n",
            "INFO:__main__:Epoch 8 - Score: 7.2618  Scores: [7.2618]\n"
          ]
        },
        {
          "output_type": "stream",
          "name": "stdout",
          "text": [
            "EVAL: [83/84] Data 0.000 (0.040) Elapsed 0m 10s (remain 0m 0s) Loss: 0.7216(2.6250) \n",
            "Epoch: [9][0/166] Data 0.649 (0.649) Elapsed 0m 0s (remain 2m 42s) Loss: 6.6082(6.6082) Grad: 894175.0000  \n",
            "Epoch: [9][100/166] Data 0.000 (0.007) Elapsed 0m 29s (remain 0m 19s) Loss: 0.7061(1.9482) Grad: 689047.4375  \n",
            "Epoch: [9][165/166] Data 0.000 (0.004) Elapsed 0m 48s (remain 0m 0s) Loss: 0.8350(1.8054) Grad: 1364603.3750  \n",
            "EVAL: [0/84] Data 0.365 (0.365) Elapsed 0m 0s (remain 0m 39s) Loss: 1.5330(1.5330) \n"
          ]
        },
        {
          "output_type": "stream",
          "name": "stderr",
          "text": [
            "Epoch 9 - avg_train_loss: 1.8054  avg_val_loss: 3.3156  time: 59s\n",
            "INFO:__main__:Epoch 9 - avg_train_loss: 1.8054  avg_val_loss: 3.3156  time: 59s\n",
            "Epoch 9 - Score: 13.9869  Scores: [13.9869]\n",
            "INFO:__main__:Epoch 9 - Score: 13.9869  Scores: [13.9869]\n"
          ]
        },
        {
          "output_type": "stream",
          "name": "stdout",
          "text": [
            "EVAL: [83/84] Data 0.000 (0.037) Elapsed 0m 10s (remain 0m 0s) Loss: 0.7436(3.3156) \n",
            "Epoch: [10][0/166] Data 0.611 (0.611) Elapsed 0m 0s (remain 2m 36s) Loss: 0.5148(0.5148) Grad: 1007749.1875  \n",
            "Epoch: [10][100/166] Data 0.000 (0.006) Elapsed 0m 29s (remain 0m 19s) Loss: 1.2507(1.6660) Grad: 2205096.5000  \n",
            "Epoch: [10][165/166] Data 0.000 (0.004) Elapsed 0m 48s (remain 0m 0s) Loss: 1.8974(1.6901) Grad: 1029415.2500  \n",
            "EVAL: [0/84] Data 0.366 (0.366) Elapsed 0m 0s (remain 0m 41s) Loss: 1.1435(1.1435) \n"
          ]
        },
        {
          "output_type": "stream",
          "name": "stderr",
          "text": [
            "Epoch 10 - avg_train_loss: 1.6901  avg_val_loss: 2.4161  time: 59s\n",
            "INFO:__main__:Epoch 10 - avg_train_loss: 1.6901  avg_val_loss: 2.4161  time: 59s\n",
            "Epoch 10 - Score: 6.2433  Scores: [6.2433]\n",
            "INFO:__main__:Epoch 10 - Score: 6.2433  Scores: [6.2433]\n"
          ]
        },
        {
          "output_type": "stream",
          "name": "stdout",
          "text": [
            "EVAL: [83/84] Data 0.000 (0.039) Elapsed 0m 10s (remain 0m 0s) Loss: 0.1976(2.4161) \n",
            "Epoch: [11][0/166] Data 0.741 (0.741) Elapsed 0m 1s (remain 3m 0s) Loss: 1.0942(1.0942) Grad: 1225645.8750  \n",
            "Epoch: [11][100/166] Data 0.000 (0.008) Elapsed 0m 29s (remain 0m 19s) Loss: 0.9323(1.6184) Grad: 945124.2500  \n",
            "Epoch: [11][165/166] Data 0.000 (0.005) Elapsed 0m 48s (remain 0m 0s) Loss: 0.7414(1.7739) Grad: 1040948.4375  \n",
            "EVAL: [0/84] Data 0.368 (0.368) Elapsed 0m 0s (remain 0m 40s) Loss: 1.2186(1.2186) \n"
          ]
        },
        {
          "output_type": "stream",
          "name": "stderr",
          "text": [
            "Epoch 11 - avg_train_loss: 1.7739  avg_val_loss: 1.7791  time: 59s\n",
            "INFO:__main__:Epoch 11 - avg_train_loss: 1.7739  avg_val_loss: 1.7791  time: 59s\n",
            "Epoch 11 - Score: 2.1816  Scores: [2.1816]\n",
            "INFO:__main__:Epoch 11 - Score: 2.1816  Scores: [2.1816]\n",
            "Epoch 11 - Save Best Loss: 1.7791 Model\n",
            "INFO:__main__:Epoch 11 - Save Best Loss: 1.7791 Model\n"
          ]
        },
        {
          "output_type": "stream",
          "name": "stdout",
          "text": [
            "EVAL: [83/84] Data 0.000 (0.038) Elapsed 0m 10s (remain 0m 0s) Loss: 0.2782(1.7791) \n",
            "Epoch: [12][0/166] Data 2.387 (2.387) Elapsed 0m 2s (remain 7m 32s) Loss: 1.3055(1.3055) Grad: 969070.7500  \n",
            "Epoch: [12][100/166] Data 0.000 (0.024) Elapsed 0m 32s (remain 0m 20s) Loss: 4.3746(1.7703) Grad: 5618560.5000  \n",
            "Epoch: [12][165/166] Data 0.000 (0.015) Elapsed 0m 50s (remain 0m 0s) Loss: 2.1101(1.7954) Grad: 2025054.3750  \n",
            "EVAL: [0/84] Data 0.367 (0.367) Elapsed 0m 0s (remain 0m 39s) Loss: 1.3636(1.3636) \n"
          ]
        },
        {
          "output_type": "stream",
          "name": "stderr",
          "text": [
            "Epoch 12 - avg_train_loss: 1.7954  avg_val_loss: 4.8399  time: 61s\n",
            "INFO:__main__:Epoch 12 - avg_train_loss: 1.7954  avg_val_loss: 4.8399  time: 61s\n",
            "Epoch 12 - Score: 26.2837  Scores: [26.2837]\n",
            "INFO:__main__:Epoch 12 - Score: 26.2837  Scores: [26.2837]\n"
          ]
        },
        {
          "output_type": "stream",
          "name": "stdout",
          "text": [
            "EVAL: [83/84] Data 0.000 (0.041) Elapsed 0m 10s (remain 0m 0s) Loss: 0.2211(4.8399) \n",
            "Epoch: [13][0/166] Data 0.597 (0.597) Elapsed 0m 0s (remain 2m 36s) Loss: 1.0059(1.0059) Grad: 1977878.7500  \n",
            "Epoch: [13][100/166] Data 0.000 (0.006) Elapsed 0m 29s (remain 0m 19s) Loss: 2.7748(2.0449) Grad: 3162963.0000  \n",
            "Epoch: [13][165/166] Data 0.000 (0.004) Elapsed 0m 48s (remain 0m 0s) Loss: 0.9099(1.9669) Grad: 1751594.0000  \n",
            "EVAL: [0/84] Data 0.372 (0.372) Elapsed 0m 0s (remain 0m 40s) Loss: 1.4999(1.4999) \n"
          ]
        },
        {
          "output_type": "stream",
          "name": "stderr",
          "text": [
            "Epoch 13 - avg_train_loss: 1.9669  avg_val_loss: 2.7910  time: 59s\n",
            "INFO:__main__:Epoch 13 - avg_train_loss: 1.9669  avg_val_loss: 2.7910  time: 59s\n",
            "Epoch 13 - Score: 8.7769  Scores: [8.7769]\n",
            "INFO:__main__:Epoch 13 - Score: 8.7769  Scores: [8.7769]\n"
          ]
        },
        {
          "output_type": "stream",
          "name": "stdout",
          "text": [
            "EVAL: [83/84] Data 0.000 (0.039) Elapsed 0m 10s (remain 0m 0s) Loss: 0.7171(2.7910) \n",
            "Epoch: [14][0/166] Data 0.614 (0.614) Elapsed 0m 0s (remain 2m 37s) Loss: 2.9546(2.9546) Grad: 2176208.0000  \n",
            "Epoch: [14][100/166] Data 0.000 (0.006) Elapsed 0m 29s (remain 0m 19s) Loss: 1.8180(2.1836) Grad: 1454798.8750  \n",
            "Epoch: [14][165/166] Data 0.000 (0.004) Elapsed 0m 48s (remain 0m 0s) Loss: 1.8532(2.0231) Grad: 973961.3750  \n",
            "EVAL: [0/84] Data 0.372 (0.372) Elapsed 0m 0s (remain 0m 40s) Loss: 1.9444(1.9444) \n"
          ]
        },
        {
          "output_type": "stream",
          "name": "stderr",
          "text": [
            "Epoch 14 - avg_train_loss: 2.0231  avg_val_loss: 2.3320  time: 59s\n",
            "INFO:__main__:Epoch 14 - avg_train_loss: 2.0231  avg_val_loss: 2.3320  time: 59s\n",
            "Epoch 14 - Score: 3.5619  Scores: [3.5619]\n",
            "INFO:__main__:Epoch 14 - Score: 3.5619  Scores: [3.5619]\n"
          ]
        },
        {
          "output_type": "stream",
          "name": "stdout",
          "text": [
            "EVAL: [83/84] Data 0.000 (0.039) Elapsed 0m 10s (remain 0m 0s) Loss: 0.4320(2.3320) \n",
            "Epoch: [15][0/166] Data 0.574 (0.574) Elapsed 0m 0s (remain 2m 32s) Loss: 1.4551(1.4551) Grad: 1124158.6250  \n",
            "Epoch: [15][100/166] Data 0.000 (0.006) Elapsed 0m 29s (remain 0m 19s) Loss: 2.2224(1.9184) Grad: 1666692.8750  \n",
            "Epoch: [15][165/166] Data 0.000 (0.004) Elapsed 0m 48s (remain 0m 0s) Loss: 1.8740(1.9502) Grad: 1775670.1250  \n",
            "EVAL: [0/84] Data 0.364 (0.364) Elapsed 0m 0s (remain 0m 40s) Loss: 2.1579(2.1579) \n"
          ]
        },
        {
          "output_type": "stream",
          "name": "stderr",
          "text": [
            "Epoch 15 - avg_train_loss: 1.9502  avg_val_loss: 2.7725  time: 59s\n",
            "INFO:__main__:Epoch 15 - avg_train_loss: 1.9502  avg_val_loss: 2.7725  time: 59s\n",
            "Epoch 15 - Score: 6.1878  Scores: [6.1878]\n",
            "INFO:__main__:Epoch 15 - Score: 6.1878  Scores: [6.1878]\n"
          ]
        },
        {
          "output_type": "stream",
          "name": "stdout",
          "text": [
            "EVAL: [83/84] Data 0.000 (0.040) Elapsed 0m 10s (remain 0m 0s) Loss: 1.3117(2.7725) \n",
            "Epoch: [16][0/166] Data 0.611 (0.611) Elapsed 0m 0s (remain 2m 37s) Loss: 4.1939(4.1939) Grad: 2409086.0000  \n",
            "Epoch: [16][100/166] Data 0.000 (0.006) Elapsed 0m 29s (remain 0m 19s) Loss: 1.4848(2.1852) Grad: 1655398.1250  \n",
            "Epoch: [16][165/166] Data 0.000 (0.004) Elapsed 0m 48s (remain 0m 0s) Loss: 1.8569(2.0533) Grad: 1026334.2500  \n",
            "EVAL: [0/84] Data 0.376 (0.376) Elapsed 0m 0s (remain 0m 41s) Loss: 2.1465(2.1465) \n"
          ]
        },
        {
          "output_type": "stream",
          "name": "stderr",
          "text": [
            "Epoch 16 - avg_train_loss: 2.0533  avg_val_loss: 2.0842  time: 59s\n",
            "INFO:__main__:Epoch 16 - avg_train_loss: 2.0533  avg_val_loss: 2.0842  time: 59s\n",
            "Epoch 16 - Score: 2.4882  Scores: [2.4882]\n",
            "INFO:__main__:Epoch 16 - Score: 2.4882  Scores: [2.4882]\n"
          ]
        },
        {
          "output_type": "stream",
          "name": "stdout",
          "text": [
            "EVAL: [83/84] Data 0.000 (0.041) Elapsed 0m 10s (remain 0m 0s) Loss: 0.5679(2.0842) \n",
            "Epoch: [17][0/166] Data 0.728 (0.728) Elapsed 0m 1s (remain 2m 57s) Loss: 2.2790(2.2790) Grad: 2115577.2500  \n",
            "Epoch: [17][100/166] Data 0.000 (0.008) Elapsed 0m 30s (remain 0m 19s) Loss: 3.3654(1.9054) Grad: 1755048.6250  \n",
            "Epoch: [17][165/166] Data 0.000 (0.005) Elapsed 0m 49s (remain 0m 0s) Loss: 3.0877(2.0224) Grad: 2002302.2500  \n",
            "EVAL: [0/84] Data 0.366 (0.366) Elapsed 0m 0s (remain 0m 40s) Loss: 2.0861(2.0861) \n"
          ]
        },
        {
          "output_type": "stream",
          "name": "stderr",
          "text": [
            "Epoch 17 - avg_train_loss: 2.0224  avg_val_loss: 1.9955  time: 60s\n",
            "INFO:__main__:Epoch 17 - avg_train_loss: 2.0224  avg_val_loss: 1.9955  time: 60s\n",
            "Epoch 17 - Score: 2.4011  Scores: [2.4011]\n",
            "INFO:__main__:Epoch 17 - Score: 2.4011  Scores: [2.4011]\n"
          ]
        },
        {
          "output_type": "stream",
          "name": "stdout",
          "text": [
            "EVAL: [83/84] Data 0.000 (0.040) Elapsed 0m 10s (remain 0m 0s) Loss: 0.4777(1.9955) \n",
            "Epoch: [18][0/166] Data 0.732 (0.732) Elapsed 0m 1s (remain 2m 57s) Loss: 1.6788(1.6788) Grad: 806774.1875  \n",
            "Epoch: [18][100/166] Data 0.000 (0.008) Elapsed 0m 29s (remain 0m 19s) Loss: 1.3588(2.2136) Grad: 942173.7500  \n",
            "Epoch: [18][165/166] Data 0.000 (0.005) Elapsed 0m 48s (remain 0m 0s) Loss: 2.0564(2.1158) Grad: 696262.9375  \n",
            "EVAL: [0/84] Data 0.367 (0.367) Elapsed 0m 0s (remain 0m 40s) Loss: 2.7161(2.7161) \n"
          ]
        },
        {
          "output_type": "stream",
          "name": "stderr",
          "text": [
            "Epoch 18 - avg_train_loss: 2.1158  avg_val_loss: 2.0204  time: 59s\n",
            "INFO:__main__:Epoch 18 - avg_train_loss: 2.1158  avg_val_loss: 2.0204  time: 59s\n",
            "Epoch 18 - Score: 2.4388  Scores: [2.4388]\n",
            "INFO:__main__:Epoch 18 - Score: 2.4388  Scores: [2.4388]\n"
          ]
        },
        {
          "output_type": "stream",
          "name": "stdout",
          "text": [
            "EVAL: [83/84] Data 0.000 (0.041) Elapsed 0m 10s (remain 0m 0s) Loss: 0.3831(2.0204) \n",
            "Epoch: [19][0/166] Data 0.562 (0.562) Elapsed 0m 0s (remain 2m 28s) Loss: 1.3783(1.3783) Grad: 1335250.6250  \n",
            "Epoch: [19][100/166] Data 0.000 (0.006) Elapsed 0m 30s (remain 0m 19s) Loss: 0.6771(2.0320) Grad: 1320949.0000  \n",
            "Epoch: [19][165/166] Data 0.000 (0.004) Elapsed 0m 48s (remain 0m 0s) Loss: 2.4615(2.1469) Grad: 2683630.7500  \n",
            "EVAL: [0/84] Data 0.369 (0.369) Elapsed 0m 0s (remain 0m 41s) Loss: 3.4959(3.4959) \n"
          ]
        },
        {
          "output_type": "stream",
          "name": "stderr",
          "text": [
            "Epoch 19 - avg_train_loss: 2.1469  avg_val_loss: 2.6128  time: 59s\n",
            "INFO:__main__:Epoch 19 - avg_train_loss: 2.1469  avg_val_loss: 2.6128  time: 59s\n",
            "Epoch 19 - Score: 2.9913  Scores: [2.9913]\n",
            "INFO:__main__:Epoch 19 - Score: 2.9913  Scores: [2.9913]\n"
          ]
        },
        {
          "output_type": "stream",
          "name": "stdout",
          "text": [
            "EVAL: [83/84] Data 0.000 (0.038) Elapsed 0m 10s (remain 0m 0s) Loss: 1.7459(2.6128) \n",
            "Epoch: [20][0/166] Data 0.761 (0.761) Elapsed 0m 1s (remain 3m 4s) Loss: 1.4134(1.4134) Grad: 1280589.3750  \n",
            "Epoch: [20][100/166] Data 0.000 (0.008) Elapsed 0m 30s (remain 0m 19s) Loss: 1.0535(1.8238) Grad: 1848057.1250  \n",
            "Epoch: [20][165/166] Data 0.000 (0.005) Elapsed 0m 48s (remain 0m 0s) Loss: 1.2952(1.7477) Grad: 2920270.7500  \n",
            "EVAL: [0/84] Data 0.373 (0.373) Elapsed 0m 0s (remain 0m 41s) Loss: 2.0968(2.0968) \n"
          ]
        },
        {
          "output_type": "stream",
          "name": "stderr",
          "text": [
            "Epoch 20 - avg_train_loss: 1.7477  avg_val_loss: 1.8673  time: 60s\n",
            "INFO:__main__:Epoch 20 - avg_train_loss: 1.7477  avg_val_loss: 1.8673  time: 60s\n",
            "Epoch 20 - Score: 2.3208  Scores: [2.3208]\n",
            "INFO:__main__:Epoch 20 - Score: 2.3208  Scores: [2.3208]\n"
          ]
        },
        {
          "output_type": "stream",
          "name": "stdout",
          "text": [
            "EVAL: [83/84] Data 0.000 (0.039) Elapsed 0m 10s (remain 0m 0s) Loss: 0.0784(1.8673) \n",
            "Epoch: [21][0/166] Data 0.678 (0.678) Elapsed 0m 1s (remain 2m 48s) Loss: 1.0687(1.0687) Grad: 1369802.7500  \n",
            "Epoch: [21][100/166] Data 0.000 (0.007) Elapsed 0m 29s (remain 0m 19s) Loss: 1.1127(1.4914) Grad: 1388583.7500  \n",
            "Epoch: [21][165/166] Data 0.000 (0.004) Elapsed 0m 48s (remain 0m 0s) Loss: 1.7183(1.5464) Grad: 1195798.7500  \n",
            "EVAL: [0/84] Data 0.361 (0.361) Elapsed 0m 0s (remain 1m 0s) Loss: 2.6600(2.6600) \n"
          ]
        },
        {
          "output_type": "stream",
          "name": "stderr",
          "text": [
            "Epoch 21 - avg_train_loss: 1.5464  avg_val_loss: 2.0148  time: 59s\n",
            "INFO:__main__:Epoch 21 - avg_train_loss: 1.5464  avg_val_loss: 2.0148  time: 59s\n",
            "Epoch 21 - Score: 2.4335  Scores: [2.4335]\n",
            "INFO:__main__:Epoch 21 - Score: 2.4335  Scores: [2.4335]\n"
          ]
        },
        {
          "output_type": "stream",
          "name": "stdout",
          "text": [
            "EVAL: [83/84] Data 0.000 (0.037) Elapsed 0m 10s (remain 0m 0s) Loss: 0.9813(2.0148) \n",
            "Epoch: [22][0/166] Data 0.912 (0.912) Elapsed 0m 1s (remain 3m 28s) Loss: 0.5361(0.5361) Grad: 441612.1562  \n",
            "Epoch: [22][100/166] Data 0.000 (0.009) Elapsed 0m 30s (remain 0m 19s) Loss: 1.4755(1.4307) Grad: 2559572.7500  \n",
            "Epoch: [22][165/166] Data 0.000 (0.006) Elapsed 0m 49s (remain 0m 0s) Loss: 1.4071(1.3927) Grad: 1958402.0000  \n",
            "EVAL: [0/84] Data 0.367 (0.367) Elapsed 0m 0s (remain 0m 40s) Loss: 2.0339(2.0339) \n"
          ]
        },
        {
          "output_type": "stream",
          "name": "stderr",
          "text": [
            "Epoch 22 - avg_train_loss: 1.3927  avg_val_loss: 1.7348  time: 60s\n",
            "INFO:__main__:Epoch 22 - avg_train_loss: 1.3927  avg_val_loss: 1.7348  time: 60s\n",
            "Epoch 22 - Score: 2.1572  Scores: [2.1572]\n",
            "INFO:__main__:Epoch 22 - Score: 2.1572  Scores: [2.1572]\n",
            "Epoch 22 - Save Best Loss: 1.7348 Model\n",
            "INFO:__main__:Epoch 22 - Save Best Loss: 1.7348 Model\n"
          ]
        },
        {
          "output_type": "stream",
          "name": "stdout",
          "text": [
            "EVAL: [83/84] Data 0.000 (0.038) Elapsed 0m 10s (remain 0m 0s) Loss: 1.0540(1.7348) \n",
            "Epoch: [23][0/166] Data 0.939 (0.939) Elapsed 0m 1s (remain 3m 36s) Loss: 1.6155(1.6155) Grad: 1209853.0000  \n",
            "Epoch: [23][100/166] Data 0.000 (0.010) Elapsed 0m 30s (remain 0m 19s) Loss: 0.9396(1.2735) Grad: 1997383.1250  \n",
            "Epoch: [23][165/166] Data 0.000 (0.006) Elapsed 0m 49s (remain 0m 0s) Loss: 0.2029(1.3643) Grad: 1620407.6250  \n",
            "EVAL: [0/84] Data 0.366 (0.366) Elapsed 0m 0s (remain 0m 40s) Loss: 2.2375(2.2375) \n"
          ]
        },
        {
          "output_type": "stream",
          "name": "stderr",
          "text": [
            "Epoch 23 - avg_train_loss: 1.3643  avg_val_loss: 1.7477  time: 60s\n",
            "INFO:__main__:Epoch 23 - avg_train_loss: 1.3643  avg_val_loss: 1.7477  time: 60s\n",
            "Epoch 23 - Score: 2.1799  Scores: [2.1799]\n",
            "INFO:__main__:Epoch 23 - Score: 2.1799  Scores: [2.1799]\n"
          ]
        },
        {
          "output_type": "stream",
          "name": "stdout",
          "text": [
            "EVAL: [83/84] Data 0.000 (0.040) Elapsed 0m 10s (remain 0m 0s) Loss: 1.2338(1.7477) \n",
            "Epoch: [24][0/166] Data 0.666 (0.666) Elapsed 0m 1s (remain 2m 45s) Loss: 0.9355(0.9355) Grad: 1946948.1250  \n",
            "Epoch: [24][100/166] Data 0.000 (0.007) Elapsed 0m 30s (remain 0m 19s) Loss: 1.0200(1.2062) Grad: 720138.6875  \n",
            "Epoch: [24][165/166] Data 0.000 (0.004) Elapsed 0m 48s (remain 0m 0s) Loss: 0.8302(1.1790) Grad: 847117.6250  \n",
            "EVAL: [0/84] Data 0.362 (0.362) Elapsed 0m 0s (remain 0m 40s) Loss: 2.2095(2.2095) \n"
          ]
        },
        {
          "output_type": "stream",
          "name": "stderr",
          "text": [
            "Epoch 24 - avg_train_loss: 1.1790  avg_val_loss: 1.7203  time: 59s\n",
            "INFO:__main__:Epoch 24 - avg_train_loss: 1.1790  avg_val_loss: 1.7203  time: 59s\n",
            "Epoch 24 - Score: 2.1565  Scores: [2.1565]\n",
            "INFO:__main__:Epoch 24 - Score: 2.1565  Scores: [2.1565]\n",
            "Epoch 24 - Save Best Loss: 1.7203 Model\n",
            "INFO:__main__:Epoch 24 - Save Best Loss: 1.7203 Model\n"
          ]
        },
        {
          "output_type": "stream",
          "name": "stdout",
          "text": [
            "EVAL: [83/84] Data 0.000 (0.038) Elapsed 0m 10s (remain 0m 0s) Loss: 0.9634(1.7203) \n",
            "Epoch: [25][0/166] Data 0.919 (0.919) Elapsed 0m 1s (remain 3m 28s) Loss: 0.8344(0.8344) Grad: 1496830.8750  \n",
            "Epoch: [25][100/166] Data 0.000 (0.009) Elapsed 0m 30s (remain 0m 19s) Loss: 1.0883(1.1010) Grad: 1596204.8750  \n",
            "Epoch: [25][165/166] Data 0.000 (0.006) Elapsed 0m 49s (remain 0m 0s) Loss: 0.5713(1.1573) Grad: 848511.5000  \n",
            "EVAL: [0/84] Data 0.364 (0.364) Elapsed 0m 0s (remain 0m 40s) Loss: 2.1894(2.1894) \n"
          ]
        },
        {
          "output_type": "stream",
          "name": "stderr",
          "text": [
            "Epoch 25 - avg_train_loss: 1.1573  avg_val_loss: 1.7645  time: 60s\n",
            "INFO:__main__:Epoch 25 - avg_train_loss: 1.1573  avg_val_loss: 1.7645  time: 60s\n",
            "Epoch 25 - Score: 2.1860  Scores: [2.186]\n",
            "INFO:__main__:Epoch 25 - Score: 2.1860  Scores: [2.186]\n"
          ]
        },
        {
          "output_type": "stream",
          "name": "stdout",
          "text": [
            "EVAL: [83/84] Data 0.000 (0.039) Elapsed 0m 10s (remain 0m 0s) Loss: 1.1206(1.7645) \n"
          ]
        },
        {
          "output_type": "stream",
          "name": "stderr",
          "text": [
            "========== fold: 1 result ==========\n",
            "INFO:__main__:========== fold: 1 result ==========\n",
            "Score: 2.1565  Scores: [2.1565]\n",
            "INFO:__main__:Score: 2.1565  Scores: [2.1565]\n",
            "========== fold: 2 training ==========\n",
            "INFO:__main__:========== fold: 2 training ==========\n"
          ]
        },
        {
          "output_type": "stream",
          "name": "stdout",
          "text": [
            "Epoch: [1][0/166] Data 0.580 (0.580) Elapsed 0m 0s (remain 2m 43s) Loss: 18.3432(18.3432) Grad: 1149299.0000  \n",
            "Epoch: [1][100/166] Data 0.000 (0.006) Elapsed 0m 29s (remain 0m 19s) Loss: 5.6904(7.5092) Grad: 2130325.0000  \n",
            "Epoch: [1][165/166] Data 0.000 (0.004) Elapsed 0m 48s (remain 0m 0s) Loss: 1.3101(6.2625) Grad: 886901.8125  \n",
            "EVAL: [0/84] Data 0.338 (0.338) Elapsed 0m 0s (remain 0m 37s) Loss: 2.9412(2.9412) \n"
          ]
        },
        {
          "output_type": "stream",
          "name": "stderr",
          "text": [
            "Epoch 1 - avg_train_loss: 6.2625  avg_val_loss: 43.1977  time: 59s\n",
            "INFO:__main__:Epoch 1 - avg_train_loss: 6.2625  avg_val_loss: 43.1977  time: 59s\n",
            "Epoch 1 - Score: 274.7867  Scores: [274.7867]\n",
            "INFO:__main__:Epoch 1 - Score: 274.7867  Scores: [274.7867]\n",
            "Epoch 1 - Save Best Loss: 43.1977 Model\n",
            "INFO:__main__:Epoch 1 - Save Best Loss: 43.1977 Model\n"
          ]
        },
        {
          "output_type": "stream",
          "name": "stdout",
          "text": [
            "EVAL: [83/84] Data 0.000 (0.040) Elapsed 0m 10s (remain 0m 0s) Loss: 6.5468(43.1977) \n",
            "Epoch: [2][0/166] Data 0.757 (0.757) Elapsed 0m 1s (remain 3m 4s) Loss: 5.2102(5.2102) Grad: 2707663.2500  \n",
            "Epoch: [2][100/166] Data 0.000 (0.008) Elapsed 0m 30s (remain 0m 19s) Loss: 1.8666(4.2472) Grad: 1699099.2500  \n",
            "Epoch: [2][165/166] Data 0.000 (0.005) Elapsed 0m 49s (remain 0m 0s) Loss: 3.0551(3.8734) Grad: 2373726.2500  \n",
            "EVAL: [0/84] Data 0.341 (0.341) Elapsed 0m 0s (remain 0m 37s) Loss: 1.5775(1.5775) \n"
          ]
        },
        {
          "output_type": "stream",
          "name": "stderr",
          "text": [
            "Epoch 2 - avg_train_loss: 3.8734  avg_val_loss: 62.9145  time: 60s\n",
            "INFO:__main__:Epoch 2 - avg_train_loss: 3.8734  avg_val_loss: 62.9145  time: 60s\n",
            "Epoch 2 - Score: 334.6296  Scores: [334.6296]\n",
            "INFO:__main__:Epoch 2 - Score: 334.6296  Scores: [334.6296]\n"
          ]
        },
        {
          "output_type": "stream",
          "name": "stdout",
          "text": [
            "EVAL: [83/84] Data 0.000 (0.041) Elapsed 0m 10s (remain 0m 0s) Loss: 0.9753(62.9145) \n",
            "Epoch: [3][0/166] Data 0.767 (0.767) Elapsed 0m 1s (remain 3m 0s) Loss: 1.6248(1.6248) Grad: 1513458.6250  \n",
            "Epoch: [3][100/166] Data 0.000 (0.008) Elapsed 0m 29s (remain 0m 19s) Loss: 2.3291(2.9975) Grad: 1430494.2500  \n",
            "Epoch: [3][165/166] Data 0.000 (0.005) Elapsed 0m 48s (remain 0m 0s) Loss: 1.8336(2.9415) Grad: 802978.8750  \n",
            "EVAL: [0/84] Data 0.338 (0.338) Elapsed 0m 0s (remain 0m 37s) Loss: 1.3211(1.3211) \n"
          ]
        },
        {
          "output_type": "stream",
          "name": "stderr",
          "text": [
            "Epoch 3 - avg_train_loss: 2.9415  avg_val_loss: 12.3804  time: 59s\n",
            "INFO:__main__:Epoch 3 - avg_train_loss: 2.9415  avg_val_loss: 12.3804  time: 59s\n",
            "Epoch 3 - Score: 70.4480  Scores: [70.448]\n",
            "INFO:__main__:Epoch 3 - Score: 70.4480  Scores: [70.448]\n",
            "Epoch 3 - Save Best Loss: 12.3804 Model\n",
            "INFO:__main__:Epoch 3 - Save Best Loss: 12.3804 Model\n"
          ]
        },
        {
          "output_type": "stream",
          "name": "stdout",
          "text": [
            "EVAL: [83/84] Data 0.000 (0.041) Elapsed 0m 10s (remain 0m 0s) Loss: 3.0088(12.3804) \n",
            "Epoch: [4][0/166] Data 0.944 (0.944) Elapsed 0m 1s (remain 3m 35s) Loss: 2.9997(2.9997) Grad: 2369182.0000  \n",
            "Epoch: [4][100/166] Data 0.000 (0.010) Elapsed 0m 30s (remain 0m 19s) Loss: 6.3256(2.9279) Grad: 1170737.2500  \n",
            "Epoch: [4][165/166] Data 0.000 (0.006) Elapsed 0m 48s (remain 0m 0s) Loss: 4.2015(2.8236) Grad: 1737087.2500  \n",
            "EVAL: [0/84] Data 0.335 (0.335) Elapsed 0m 0s (remain 0m 37s) Loss: 1.6935(1.6935) \n"
          ]
        },
        {
          "output_type": "stream",
          "name": "stderr",
          "text": [
            "Epoch 4 - avg_train_loss: 2.8236  avg_val_loss: 12.8585  time: 60s\n",
            "INFO:__main__:Epoch 4 - avg_train_loss: 2.8236  avg_val_loss: 12.8585  time: 60s\n",
            "Epoch 4 - Score: 83.5536  Scores: [83.5536]\n",
            "INFO:__main__:Epoch 4 - Score: 83.5536  Scores: [83.5536]\n"
          ]
        },
        {
          "output_type": "stream",
          "name": "stdout",
          "text": [
            "EVAL: [83/84] Data 0.000 (0.043) Elapsed 0m 10s (remain 0m 0s) Loss: 4.6123(12.8585) \n",
            "Epoch: [5][0/166] Data 0.615 (0.615) Elapsed 0m 0s (remain 2m 38s) Loss: 2.6568(2.6568) Grad: 1749097.6250  \n",
            "Epoch: [5][100/166] Data 0.000 (0.006) Elapsed 0m 29s (remain 0m 19s) Loss: 2.0164(2.5608) Grad: 2528625.2500  \n",
            "Epoch: [5][165/166] Data 0.000 (0.004) Elapsed 0m 48s (remain 0m 0s) Loss: 2.0748(2.4439) Grad: 1077323.6250  \n",
            "EVAL: [0/84] Data 0.345 (0.345) Elapsed 0m 0s (remain 0m 38s) Loss: 1.5104(1.5104) \n"
          ]
        },
        {
          "output_type": "stream",
          "name": "stderr",
          "text": [
            "Epoch 5 - avg_train_loss: 2.4439  avg_val_loss: 10.7330  time: 59s\n",
            "INFO:__main__:Epoch 5 - avg_train_loss: 2.4439  avg_val_loss: 10.7330  time: 59s\n",
            "Epoch 5 - Score: 61.6339  Scores: [61.6339]\n",
            "INFO:__main__:Epoch 5 - Score: 61.6339  Scores: [61.6339]\n",
            "Epoch 5 - Save Best Loss: 10.7330 Model\n",
            "INFO:__main__:Epoch 5 - Save Best Loss: 10.7330 Model\n"
          ]
        },
        {
          "output_type": "stream",
          "name": "stdout",
          "text": [
            "EVAL: [83/84] Data 0.000 (0.040) Elapsed 0m 10s (remain 0m 0s) Loss: 5.7837(10.7330) \n",
            "Epoch: [6][0/166] Data 1.132 (1.132) Elapsed 0m 1s (remain 4m 5s) Loss: 2.2985(2.2985) Grad: 1322360.7500  \n",
            "Epoch: [6][100/166] Data 0.000 (0.012) Elapsed 0m 30s (remain 0m 19s) Loss: 5.5206(2.1082) Grad: 2174058.0000  \n",
            "Epoch: [6][165/166] Data 0.000 (0.007) Elapsed 0m 49s (remain 0m 0s) Loss: 0.5201(2.1120) Grad: 786111.8750  \n",
            "EVAL: [0/84] Data 0.352 (0.352) Elapsed 0m 0s (remain 0m 39s) Loss: 1.8836(1.8836) \n"
          ]
        },
        {
          "output_type": "stream",
          "name": "stderr",
          "text": [
            "Epoch 6 - avg_train_loss: 2.1120  avg_val_loss: 83.0110  time: 60s\n",
            "INFO:__main__:Epoch 6 - avg_train_loss: 2.1120  avg_val_loss: 83.0110  time: 60s\n",
            "Epoch 6 - Score: 491.3316  Scores: [491.3316]\n",
            "INFO:__main__:Epoch 6 - Score: 491.3316  Scores: [491.3316]\n"
          ]
        },
        {
          "output_type": "stream",
          "name": "stdout",
          "text": [
            "EVAL: [83/84] Data 0.000 (0.043) Elapsed 0m 10s (remain 0m 0s) Loss: 4.4949(83.0110) \n",
            "Epoch: [7][0/166] Data 0.583 (0.583) Elapsed 0m 0s (remain 2m 33s) Loss: 1.2596(1.2596) Grad: 2053598.2500  \n",
            "Epoch: [7][100/166] Data 0.000 (0.006) Elapsed 0m 29s (remain 0m 19s) Loss: 1.1897(1.9200) Grad: 1457886.7500  \n",
            "Epoch: [7][165/166] Data 0.000 (0.004) Elapsed 0m 48s (remain 0m 0s) Loss: 1.5252(1.8508) Grad: 1793087.0000  \n",
            "EVAL: [0/84] Data 0.341 (0.341) Elapsed 0m 0s (remain 0m 37s) Loss: 1.1931(1.1931) \n"
          ]
        },
        {
          "output_type": "stream",
          "name": "stderr",
          "text": [
            "Epoch 7 - avg_train_loss: 1.8508  avg_val_loss: 76.6513  time: 59s\n",
            "INFO:__main__:Epoch 7 - avg_train_loss: 1.8508  avg_val_loss: 76.6513  time: 59s\n",
            "Epoch 7 - Score: 483.9277  Scores: [483.9277]\n",
            "INFO:__main__:Epoch 7 - Score: 483.9277  Scores: [483.9277]\n"
          ]
        },
        {
          "output_type": "stream",
          "name": "stdout",
          "text": [
            "EVAL: [83/84] Data 0.000 (0.042) Elapsed 0m 10s (remain 0m 0s) Loss: 3.7590(76.6513) \n",
            "Epoch: [8][0/166] Data 0.757 (0.757) Elapsed 0m 1s (remain 3m 2s) Loss: 1.5897(1.5897) Grad: 1676874.1250  \n",
            "Epoch: [8][100/166] Data 0.000 (0.008) Elapsed 0m 29s (remain 0m 19s) Loss: 1.5368(1.8090) Grad: 1294738.0000  \n",
            "Epoch: [8][165/166] Data 0.000 (0.005) Elapsed 0m 48s (remain 0m 0s) Loss: 0.8401(1.7114) Grad: 1981014.1250  \n",
            "EVAL: [0/84] Data 0.343 (0.343) Elapsed 0m 0s (remain 0m 37s) Loss: 1.0373(1.0373) \n"
          ]
        },
        {
          "output_type": "stream",
          "name": "stderr",
          "text": [
            "Epoch 8 - avg_train_loss: 1.7114  avg_val_loss: 40.9407  time: 60s\n",
            "INFO:__main__:Epoch 8 - avg_train_loss: 1.7114  avg_val_loss: 40.9407  time: 60s\n",
            "Epoch 8 - Score: 248.8326  Scores: [248.8326]\n",
            "INFO:__main__:Epoch 8 - Score: 248.8326  Scores: [248.8326]\n"
          ]
        },
        {
          "output_type": "stream",
          "name": "stdout",
          "text": [
            "EVAL: [83/84] Data 0.000 (0.042) Elapsed 0m 10s (remain 0m 0s) Loss: 3.2420(40.9407) \n",
            "Epoch: [9][0/166] Data 0.626 (0.626) Elapsed 0m 0s (remain 2m 39s) Loss: 0.7585(0.7585) Grad: 1376564.7500  \n",
            "Epoch: [9][100/166] Data 0.000 (0.007) Elapsed 0m 29s (remain 0m 19s) Loss: 0.6249(1.4173) Grad: 686666.3750  \n",
            "Epoch: [9][165/166] Data 0.000 (0.004) Elapsed 0m 48s (remain 0m 0s) Loss: 2.0714(1.7001) Grad: 2015644.5000  \n",
            "EVAL: [0/84] Data 0.333 (0.333) Elapsed 0m 0s (remain 0m 37s) Loss: 1.1815(1.1815) \n"
          ]
        },
        {
          "output_type": "stream",
          "name": "stderr",
          "text": [
            "Epoch 9 - avg_train_loss: 1.7001  avg_val_loss: 22.6212  time: 60s\n",
            "INFO:__main__:Epoch 9 - avg_train_loss: 1.7001  avg_val_loss: 22.6212  time: 60s\n",
            "Epoch 9 - Score: 162.1828  Scores: [162.1828]\n",
            "INFO:__main__:Epoch 9 - Score: 162.1828  Scores: [162.1828]\n"
          ]
        },
        {
          "output_type": "stream",
          "name": "stdout",
          "text": [
            "EVAL: [83/84] Data 0.000 (0.041) Elapsed 0m 11s (remain 0m 0s) Loss: 3.8852(22.6212) \n",
            "Epoch: [10][0/166] Data 0.750 (0.750) Elapsed 0m 1s (remain 3m 4s) Loss: 0.6529(0.6529) Grad: 852738.8125  \n",
            "Epoch: [10][100/166] Data 0.000 (0.008) Elapsed 0m 30s (remain 0m 19s) Loss: 1.1611(1.6806) Grad: 665354.3125  \n",
            "Epoch: [10][165/166] Data 0.000 (0.005) Elapsed 0m 48s (remain 0m 0s) Loss: 0.8422(1.7084) Grad: 1007401.7500  \n",
            "EVAL: [0/84] Data 0.348 (0.348) Elapsed 0m 0s (remain 0m 38s) Loss: 1.2210(1.2210) \n"
          ]
        },
        {
          "output_type": "stream",
          "name": "stderr",
          "text": [
            "Epoch 10 - avg_train_loss: 1.7084  avg_val_loss: 75.4582  time: 60s\n",
            "INFO:__main__:Epoch 10 - avg_train_loss: 1.7084  avg_val_loss: 75.4582  time: 60s\n",
            "Epoch 10 - Score: 480.6713  Scores: [480.6713]\n",
            "INFO:__main__:Epoch 10 - Score: 480.6713  Scores: [480.6713]\n"
          ]
        },
        {
          "output_type": "stream",
          "name": "stdout",
          "text": [
            "EVAL: [83/84] Data 0.000 (0.041) Elapsed 0m 10s (remain 0m 0s) Loss: 3.2225(75.4582) \n",
            "Epoch: [11][0/166] Data 0.639 (0.639) Elapsed 0m 0s (remain 2m 40s) Loss: 1.3926(1.3926) Grad: 2025458.8750  \n",
            "Epoch: [11][100/166] Data 0.000 (0.007) Elapsed 0m 29s (remain 0m 19s) Loss: 0.4241(1.6738) Grad: 2415326.7500  \n",
            "Epoch: [11][165/166] Data 0.000 (0.004) Elapsed 0m 48s (remain 0m 0s) Loss: 0.7600(1.7173) Grad: 826223.0000  \n",
            "EVAL: [0/84] Data 0.350 (0.350) Elapsed 0m 0s (remain 0m 38s) Loss: 1.2185(1.2185) \n"
          ]
        },
        {
          "output_type": "stream",
          "name": "stderr",
          "text": [
            "Epoch 11 - avg_train_loss: 1.7173  avg_val_loss: 81.8178  time: 59s\n",
            "INFO:__main__:Epoch 11 - avg_train_loss: 1.7173  avg_val_loss: 81.8178  time: 59s\n",
            "Epoch 11 - Score: 568.5754  Scores: [568.5754]\n",
            "INFO:__main__:Epoch 11 - Score: 568.5754  Scores: [568.5754]\n"
          ]
        },
        {
          "output_type": "stream",
          "name": "stdout",
          "text": [
            "EVAL: [83/84] Data 0.000 (0.037) Elapsed 0m 10s (remain 0m 0s) Loss: 3.2485(81.8178) \n",
            "Epoch: [12][0/166] Data 0.632 (0.632) Elapsed 0m 0s (remain 2m 43s) Loss: 1.3268(1.3268) Grad: 971657.4375  \n",
            "Epoch: [12][100/166] Data 0.000 (0.007) Elapsed 0m 29s (remain 0m 19s) Loss: 1.4203(1.7529) Grad: 1406771.8750  \n",
            "Epoch: [12][165/166] Data 0.000 (0.004) Elapsed 0m 48s (remain 0m 0s) Loss: 1.5749(1.8033) Grad: 1223693.8750  \n",
            "EVAL: [0/84] Data 0.342 (0.342) Elapsed 0m 0s (remain 0m 37s) Loss: 0.4524(0.4524) \n"
          ]
        },
        {
          "output_type": "stream",
          "name": "stderr",
          "text": [
            "Epoch 12 - avg_train_loss: 1.8033  avg_val_loss: 70.7062  time: 60s\n",
            "INFO:__main__:Epoch 12 - avg_train_loss: 1.8033  avg_val_loss: 70.7062  time: 60s\n",
            "Epoch 12 - Score: 403.3815  Scores: [403.3815]\n",
            "INFO:__main__:Epoch 12 - Score: 403.3815  Scores: [403.3815]\n"
          ]
        },
        {
          "output_type": "stream",
          "name": "stdout",
          "text": [
            "EVAL: [83/84] Data 0.000 (0.042) Elapsed 0m 10s (remain 0m 0s) Loss: 2.8127(70.7062) \n",
            "Epoch: [13][0/166] Data 0.549 (0.549) Elapsed 0m 0s (remain 2m 31s) Loss: 3.7476(3.7476) Grad: 2827927.7500  \n",
            "Epoch: [13][100/166] Data 0.000 (0.006) Elapsed 0m 30s (remain 0m 19s) Loss: 0.5898(1.7261) Grad: 1424379.5000  \n",
            "Epoch: [13][165/166] Data 0.000 (0.004) Elapsed 0m 48s (remain 0m 0s) Loss: 1.3755(1.8020) Grad: 734712.6250  \n",
            "EVAL: [0/84] Data 0.348 (0.348) Elapsed 0m 0s (remain 0m 38s) Loss: 0.5647(0.5647) \n"
          ]
        },
        {
          "output_type": "stream",
          "name": "stderr",
          "text": [
            "Epoch 13 - avg_train_loss: 1.8020  avg_val_loss: 44.8474  time: 60s\n",
            "INFO:__main__:Epoch 13 - avg_train_loss: 1.8020  avg_val_loss: 44.8474  time: 60s\n",
            "Epoch 13 - Score: 307.0757  Scores: [307.0757]\n",
            "INFO:__main__:Epoch 13 - Score: 307.0757  Scores: [307.0757]\n"
          ]
        },
        {
          "output_type": "stream",
          "name": "stdout",
          "text": [
            "EVAL: [83/84] Data 0.000 (0.041) Elapsed 0m 10s (remain 0m 0s) Loss: 3.7257(44.8474) \n",
            "Epoch: [14][0/166] Data 0.627 (0.627) Elapsed 0m 0s (remain 2m 41s) Loss: 1.0679(1.0679) Grad: 1406823.8750  \n",
            "Epoch: [14][100/166] Data 0.000 (0.007) Elapsed 0m 29s (remain 0m 19s) Loss: 2.0007(2.0385) Grad: 2775189.7500  \n",
            "Epoch: [14][165/166] Data 0.000 (0.004) Elapsed 0m 48s (remain 0m 0s) Loss: 1.8622(2.0403) Grad: 1265954.8750  \n",
            "EVAL: [0/84] Data 0.338 (0.338) Elapsed 0m 0s (remain 0m 37s) Loss: 1.4338(1.4338) \n"
          ]
        },
        {
          "output_type": "stream",
          "name": "stderr",
          "text": [
            "Epoch 14 - avg_train_loss: 2.0403  avg_val_loss: 12.4451  time: 60s\n",
            "INFO:__main__:Epoch 14 - avg_train_loss: 2.0403  avg_val_loss: 12.4451  time: 60s\n",
            "Epoch 14 - Score: 66.3064  Scores: [66.3064]\n",
            "INFO:__main__:Epoch 14 - Score: 66.3064  Scores: [66.3064]\n"
          ]
        },
        {
          "output_type": "stream",
          "name": "stdout",
          "text": [
            "EVAL: [83/84] Data 0.000 (0.041) Elapsed 0m 10s (remain 0m 0s) Loss: 4.9696(12.4451) \n",
            "Epoch: [15][0/166] Data 0.760 (0.760) Elapsed 0m 1s (remain 3m 2s) Loss: 0.6325(0.6325) Grad: 1139884.5000  \n",
            "Epoch: [15][100/166] Data 0.000 (0.008) Elapsed 0m 30s (remain 0m 19s) Loss: 1.6467(1.6155) Grad: 2270853.5000  \n",
            "Epoch: [15][165/166] Data 0.000 (0.005) Elapsed 0m 49s (remain 0m 0s) Loss: 2.1532(1.8800) Grad: 2247526.2500  \n",
            "EVAL: [0/84] Data 0.350 (0.350) Elapsed 0m 0s (remain 0m 40s) Loss: 1.9425(1.9425) \n"
          ]
        },
        {
          "output_type": "stream",
          "name": "stderr",
          "text": [
            "Epoch 15 - avg_train_loss: 1.8800  avg_val_loss: 2.5358  time: 60s\n",
            "INFO:__main__:Epoch 15 - avg_train_loss: 1.8800  avg_val_loss: 2.5358  time: 60s\n",
            "Epoch 15 - Score: 3.0677  Scores: [3.0677]\n",
            "INFO:__main__:Epoch 15 - Score: 3.0677  Scores: [3.0677]\n",
            "Epoch 15 - Save Best Loss: 2.5358 Model\n",
            "INFO:__main__:Epoch 15 - Save Best Loss: 2.5358 Model\n"
          ]
        },
        {
          "output_type": "stream",
          "name": "stdout",
          "text": [
            "EVAL: [83/84] Data 0.000 (0.041) Elapsed 0m 10s (remain 0m 0s) Loss: 4.9137(2.5358) \n",
            "Epoch: [16][0/166] Data 1.809 (1.809) Elapsed 0m 2s (remain 6m 0s) Loss: 1.1648(1.1648) Grad: 2135668.5000  \n",
            "Epoch: [16][100/166] Data 0.000 (0.018) Elapsed 0m 31s (remain 0m 19s) Loss: 5.7119(1.7355) Grad: 1848658.1250  \n",
            "Epoch: [16][165/166] Data 0.000 (0.011) Elapsed 0m 49s (remain 0m 0s) Loss: 1.8792(2.0882) Grad: 1252370.3750  \n",
            "EVAL: [0/84] Data 0.351 (0.351) Elapsed 0m 0s (remain 0m 38s) Loss: 1.9119(1.9119) \n"
          ]
        },
        {
          "output_type": "stream",
          "name": "stderr",
          "text": [
            "Epoch 16 - avg_train_loss: 2.0882  avg_val_loss: 6.6739  time: 60s\n",
            "INFO:__main__:Epoch 16 - avg_train_loss: 2.0882  avg_val_loss: 6.6739  time: 60s\n",
            "Epoch 16 - Score: 20.8564  Scores: [20.8564]\n",
            "INFO:__main__:Epoch 16 - Score: 20.8564  Scores: [20.8564]\n"
          ]
        },
        {
          "output_type": "stream",
          "name": "stdout",
          "text": [
            "EVAL: [83/84] Data 0.000 (0.042) Elapsed 0m 10s (remain 0m 0s) Loss: 6.3343(6.6739) \n",
            "Epoch: [17][0/166] Data 0.816 (0.816) Elapsed 0m 1s (remain 3m 9s) Loss: 1.9386(1.9386) Grad: 1112265.3750  \n",
            "Epoch: [17][100/166] Data 0.000 (0.008) Elapsed 0m 30s (remain 0m 19s) Loss: 1.7968(2.2922) Grad: 1079235.1250  \n",
            "Epoch: [17][165/166] Data 0.000 (0.005) Elapsed 0m 48s (remain 0m 0s) Loss: 1.4047(2.1048) Grad: 1541163.2500  \n",
            "EVAL: [0/84] Data 0.348 (0.348) Elapsed 0m 0s (remain 0m 38s) Loss: 1.5439(1.5439) \n"
          ]
        },
        {
          "output_type": "stream",
          "name": "stderr",
          "text": [
            "Epoch 17 - avg_train_loss: 2.1048  avg_val_loss: 3.3469  time: 60s\n",
            "INFO:__main__:Epoch 17 - avg_train_loss: 2.1048  avg_val_loss: 3.3469  time: 60s\n",
            "Epoch 17 - Score: 6.7128  Scores: [6.7128]\n",
            "INFO:__main__:Epoch 17 - Score: 6.7128  Scores: [6.7128]\n"
          ]
        },
        {
          "output_type": "stream",
          "name": "stdout",
          "text": [
            "EVAL: [83/84] Data 0.000 (0.041) Elapsed 0m 10s (remain 0m 0s) Loss: 6.0521(3.3469) \n",
            "Epoch: [18][0/166] Data 0.758 (0.758) Elapsed 0m 1s (remain 3m 3s) Loss: 1.4659(1.4659) Grad: 1492740.3750  \n",
            "Epoch: [18][100/166] Data 0.000 (0.008) Elapsed 0m 30s (remain 0m 19s) Loss: 1.5286(1.8909) Grad: 1095518.6250  \n",
            "Epoch: [18][165/166] Data 0.000 (0.005) Elapsed 0m 48s (remain 0m 0s) Loss: 1.0481(1.8902) Grad: 2272523.7500  \n",
            "EVAL: [0/84] Data 0.340 (0.340) Elapsed 0m 0s (remain 0m 38s) Loss: 1.1213(1.1213) \n"
          ]
        },
        {
          "output_type": "stream",
          "name": "stderr",
          "text": [
            "Epoch 18 - avg_train_loss: 1.8902  avg_val_loss: 3.1625  time: 60s\n",
            "INFO:__main__:Epoch 18 - avg_train_loss: 1.8902  avg_val_loss: 3.1625  time: 60s\n",
            "Epoch 18 - Score: 9.9997  Scores: [9.9997]\n",
            "INFO:__main__:Epoch 18 - Score: 9.9997  Scores: [9.9997]\n"
          ]
        },
        {
          "output_type": "stream",
          "name": "stdout",
          "text": [
            "EVAL: [83/84] Data 0.000 (0.041) Elapsed 0m 10s (remain 0m 0s) Loss: 3.1032(3.1625) \n",
            "Epoch: [19][0/166] Data 0.615 (0.615) Elapsed 0m 0s (remain 2m 37s) Loss: 0.5827(0.5827) Grad: 792556.6250  \n",
            "Epoch: [19][100/166] Data 0.000 (0.006) Elapsed 0m 29s (remain 0m 19s) Loss: 6.1928(1.6811) Grad: 1115917.8750  \n",
            "Epoch: [19][165/166] Data 0.000 (0.004) Elapsed 0m 48s (remain 0m 0s) Loss: 1.4557(1.7672) Grad: 1155340.2500  \n",
            "EVAL: [0/84] Data 0.357 (0.357) Elapsed 0m 0s (remain 0m 39s) Loss: 1.1186(1.1186) \n"
          ]
        },
        {
          "output_type": "stream",
          "name": "stderr",
          "text": [
            "Epoch 19 - avg_train_loss: 1.7672  avg_val_loss: 2.7095  time: 59s\n",
            "INFO:__main__:Epoch 19 - avg_train_loss: 1.7672  avg_val_loss: 2.7095  time: 59s\n",
            "Epoch 19 - Score: 4.5491  Scores: [4.5491]\n",
            "INFO:__main__:Epoch 19 - Score: 4.5491  Scores: [4.5491]\n"
          ]
        },
        {
          "output_type": "stream",
          "name": "stdout",
          "text": [
            "EVAL: [83/84] Data 0.000 (0.041) Elapsed 0m 10s (remain 0m 0s) Loss: 3.8622(2.7095) \n",
            "Epoch: [20][0/166] Data 0.615 (0.615) Elapsed 0m 0s (remain 2m 41s) Loss: 3.0955(3.0955) Grad: 2642499.2500  \n",
            "Epoch: [20][100/166] Data 0.000 (0.006) Elapsed 0m 29s (remain 0m 19s) Loss: 3.0331(1.4321) Grad: 2270669.7500  \n",
            "Epoch: [20][165/166] Data 0.000 (0.004) Elapsed 0m 48s (remain 0m 0s) Loss: 0.2877(1.6568) Grad: 599809.9375  \n",
            "EVAL: [0/84] Data 0.339 (0.339) Elapsed 0m 0s (remain 0m 38s) Loss: 0.9538(0.9538) \n"
          ]
        },
        {
          "output_type": "stream",
          "name": "stderr",
          "text": [
            "Epoch 20 - avg_train_loss: 1.6568  avg_val_loss: 2.7243  time: 60s\n",
            "INFO:__main__:Epoch 20 - avg_train_loss: 1.6568  avg_val_loss: 2.7243  time: 60s\n",
            "Epoch 20 - Score: 5.4554  Scores: [5.4554]\n",
            "INFO:__main__:Epoch 20 - Score: 5.4554  Scores: [5.4554]\n"
          ]
        },
        {
          "output_type": "stream",
          "name": "stdout",
          "text": [
            "EVAL: [83/84] Data 0.000 (0.040) Elapsed 0m 10s (remain 0m 0s) Loss: 4.6379(2.7243) \n",
            "Epoch: [21][0/166] Data 0.697 (0.697) Elapsed 0m 1s (remain 2m 50s) Loss: 1.2009(1.2009) Grad: 1327623.2500  \n",
            "Epoch: [21][100/166] Data 0.001 (0.007) Elapsed 0m 30s (remain 0m 19s) Loss: 1.0551(1.4295) Grad: 1173567.5000  \n",
            "Epoch: [21][165/166] Data 0.000 (0.005) Elapsed 0m 48s (remain 0m 0s) Loss: 8.8044(1.3892) Grad: 1477588.2500  \n",
            "EVAL: [0/84] Data 0.367 (0.367) Elapsed 0m 0s (remain 0m 40s) Loss: 1.4224(1.4224) \n"
          ]
        },
        {
          "output_type": "stream",
          "name": "stderr",
          "text": [
            "Epoch 21 - avg_train_loss: 1.3892  avg_val_loss: 2.8502  time: 60s\n",
            "INFO:__main__:Epoch 21 - avg_train_loss: 1.3892  avg_val_loss: 2.8502  time: 60s\n",
            "Epoch 21 - Score: 6.1848  Scores: [6.1848]\n",
            "INFO:__main__:Epoch 21 - Score: 6.1848  Scores: [6.1848]\n"
          ]
        },
        {
          "output_type": "stream",
          "name": "stdout",
          "text": [
            "EVAL: [83/84] Data 0.000 (0.038) Elapsed 0m 10s (remain 0m 0s) Loss: 5.1892(2.8502) \n",
            "Epoch: [22][0/166] Data 0.632 (0.632) Elapsed 0m 0s (remain 2m 42s) Loss: 1.4105(1.4105) Grad: 1567590.3750  \n",
            "Epoch: [22][100/166] Data 0.000 (0.007) Elapsed 0m 29s (remain 0m 19s) Loss: 0.8237(1.3755) Grad: 1865350.5000  \n",
            "Epoch: [22][165/166] Data 0.000 (0.004) Elapsed 0m 48s (remain 0m 0s) Loss: 0.9180(1.2661) Grad: 774933.1250  \n",
            "EVAL: [0/84] Data 0.353 (0.353) Elapsed 0m 0s (remain 0m 38s) Loss: 1.5828(1.5828) \n"
          ]
        },
        {
          "output_type": "stream",
          "name": "stderr",
          "text": [
            "Epoch 22 - avg_train_loss: 1.2661  avg_val_loss: 2.8425  time: 60s\n",
            "INFO:__main__:Epoch 22 - avg_train_loss: 1.2661  avg_val_loss: 2.8425  time: 60s\n",
            "Epoch 22 - Score: 7.3019  Scores: [7.3019]\n",
            "INFO:__main__:Epoch 22 - Score: 7.3019  Scores: [7.3019]\n"
          ]
        },
        {
          "output_type": "stream",
          "name": "stdout",
          "text": [
            "EVAL: [83/84] Data 0.000 (0.042) Elapsed 0m 10s (remain 0m 0s) Loss: 4.1788(2.8425) \n",
            "Epoch: [23][0/166] Data 0.660 (0.660) Elapsed 0m 1s (remain 2m 48s) Loss: 1.4706(1.4706) Grad: 739597.5000  \n",
            "Epoch: [23][100/166] Data 0.000 (0.007) Elapsed 0m 30s (remain 0m 19s) Loss: 0.7064(1.4142) Grad: 1223282.1250  \n",
            "Epoch: [23][165/166] Data 0.000 (0.004) Elapsed 0m 49s (remain 0m 0s) Loss: 1.8244(1.2202) Grad: 2175429.5000  \n",
            "EVAL: [0/84] Data 0.344 (0.344) Elapsed 0m 0s (remain 0m 37s) Loss: 1.5181(1.5181) \n"
          ]
        },
        {
          "output_type": "stream",
          "name": "stderr",
          "text": [
            "Epoch 23 - avg_train_loss: 1.2202  avg_val_loss: 2.9345  time: 60s\n",
            "INFO:__main__:Epoch 23 - avg_train_loss: 1.2202  avg_val_loss: 2.9345  time: 60s\n",
            "Epoch 23 - Score: 6.5310  Scores: [6.531]\n",
            "INFO:__main__:Epoch 23 - Score: 6.5310  Scores: [6.531]\n"
          ]
        },
        {
          "output_type": "stream",
          "name": "stdout",
          "text": [
            "EVAL: [83/84] Data 0.000 (0.042) Elapsed 0m 10s (remain 0m 0s) Loss: 4.7064(2.9345) \n",
            "Epoch: [24][0/166] Data 0.598 (0.598) Elapsed 0m 0s (remain 2m 35s) Loss: 0.7273(0.7273) Grad: 686594.5000  \n",
            "Epoch: [24][100/166] Data 0.000 (0.006) Elapsed 0m 30s (remain 0m 19s) Loss: 1.0564(1.0754) Grad: 1320115.3750  \n",
            "Epoch: [24][165/166] Data 0.000 (0.004) Elapsed 0m 48s (remain 0m 0s) Loss: 0.5649(1.0186) Grad: 1000298.9375  \n",
            "EVAL: [0/84] Data 0.357 (0.357) Elapsed 0m 0s (remain 0m 39s) Loss: 1.0718(1.0718) \n"
          ]
        },
        {
          "output_type": "stream",
          "name": "stderr",
          "text": [
            "Epoch 24 - avg_train_loss: 1.0186  avg_val_loss: 2.2835  time: 60s\n",
            "INFO:__main__:Epoch 24 - avg_train_loss: 1.0186  avg_val_loss: 2.2835  time: 60s\n",
            "Epoch 24 - Score: 4.4456  Scores: [4.4456]\n",
            "INFO:__main__:Epoch 24 - Score: 4.4456  Scores: [4.4456]\n",
            "Epoch 24 - Save Best Loss: 2.2835 Model\n",
            "INFO:__main__:Epoch 24 - Save Best Loss: 2.2835 Model\n"
          ]
        },
        {
          "output_type": "stream",
          "name": "stdout",
          "text": [
            "EVAL: [83/84] Data 0.000 (0.039) Elapsed 0m 10s (remain 0m 0s) Loss: 3.8690(2.2835) \n",
            "Epoch: [25][0/166] Data 1.250 (1.250) Elapsed 0m 1s (remain 4m 27s) Loss: 1.0343(1.0343) Grad: 2076966.7500  \n",
            "Epoch: [25][100/166] Data 0.000 (0.013) Elapsed 0m 30s (remain 0m 19s) Loss: 1.1340(0.8143) Grad: 1540554.2500  \n",
            "Epoch: [25][165/166] Data 0.000 (0.008) Elapsed 0m 49s (remain 0m 0s) Loss: 0.4426(0.9760) Grad: 1080068.5000  \n",
            "EVAL: [0/84] Data 0.349 (0.349) Elapsed 0m 0s (remain 0m 39s) Loss: 1.2169(1.2169) \n"
          ]
        },
        {
          "output_type": "stream",
          "name": "stderr",
          "text": [
            "Epoch 25 - avg_train_loss: 0.9760  avg_val_loss: 2.6142  time: 60s\n",
            "INFO:__main__:Epoch 25 - avg_train_loss: 0.9760  avg_val_loss: 2.6142  time: 60s\n",
            "Epoch 25 - Score: 5.5972  Scores: [5.5972]\n",
            "INFO:__main__:Epoch 25 - Score: 5.5972  Scores: [5.5972]\n"
          ]
        },
        {
          "output_type": "stream",
          "name": "stdout",
          "text": [
            "EVAL: [83/84] Data 0.000 (0.041) Elapsed 0m 10s (remain 0m 0s) Loss: 3.9942(2.6142) \n"
          ]
        },
        {
          "output_type": "stream",
          "name": "stderr",
          "text": [
            "========== fold: 2 result ==========\n",
            "INFO:__main__:========== fold: 2 result ==========\n",
            "Score: 4.4456  Scores: [4.4456]\n",
            "INFO:__main__:Score: 4.4456  Scores: [4.4456]\n",
            "========== CV ==========\n",
            "INFO:__main__:========== CV ==========\n",
            "Score: 3.2331  Scores: [3.2331]\n",
            "INFO:__main__:Score: 3.2331  Scores: [3.2331]\n"
          ]
        }
      ],
      "source": [
        "if __name__ == '__main__':\n",
        "    main()"
      ]
    },
    {
      "cell_type": "markdown",
      "metadata": {
        "id": "fRCxzf90majP"
      },
      "source": [
        "# Inference"
      ]
    },
    {
      "cell_type": "code",
      "execution_count": null,
      "metadata": {
        "id": "TNg3ziVGme-E"
      },
      "outputs": [],
      "source": [
        "# ====================================================\n",
        "# Dataset\n",
        "# ====================================================\n",
        "class TestDataset(Dataset):\n",
        "    def __init__(self, df, transform=None):\n",
        "        self.df = df\n",
        "        self.file_names = df['ImageId'].values\n",
        "        self.transform = transform\n",
        "\n",
        "    def __len__(self):\n",
        "        return len(self.df)\n",
        "\n",
        "    def __getitem__(self, idx):\n",
        "        file_name = self.file_names[idx]\n",
        "        file_path = f'{TRAIN_PATH}/{file_name}'\n",
        "        image = cv2.imread(file_path)\n",
        "        image = cv2.cvtColor(image, cv2.COLOR_BGR2RGB)\n",
        "        if self.transform:\n",
        "            augmented = self.transform(image=image)\n",
        "            image = augmented['image']\n",
        "\n",
        "        image = torch.tensor(image, dtype=torch.float32)\n",
        "\n",
        "        return image"
      ]
    },
    {
      "cell_type": "code",
      "execution_count": null,
      "metadata": {
        "colab": {
          "background_save": true
        },
        "id": "YhESno_HnwiX"
      },
      "outputs": [],
      "source": [
        "test_dataset = TestDataset(test, transform=get_transforms(data='valid'))\n",
        "\n",
        "for i in range(5):\n",
        "    image = test_dataset[i]\n",
        "    plt.imshow(image[0])\n",
        "    plt.show()\n",
        "    plt.imshow(image[0].flip(-1))\n",
        "    plt.show()"
      ]
    },
    {
      "cell_type": "code",
      "execution_count": null,
      "metadata": {
        "id": "w9qiMrZAoAhR"
      },
      "outputs": [],
      "source": [
        "def inference(models, test_loader, device):\n",
        "    tk0 = tqdm(enumerate(test_loader), total=len(test_loader))\n",
        "    preds = []\n",
        "    for i, (images) in tk0:\n",
        "        images = images.to(device)\n",
        "        avg_preds = []\n",
        "        for model in models:\n",
        "            with torch.no_grad():\n",
        "                y_preds1 = model(images)\n",
        "                #y_preds2 = model(images.flip(-1))\n",
        "            y_preds = (y_preds1.to('cpu').numpy())\n",
        "            #y_preds = (y_preds1.to('cpu').numpy() + y_preds2.to('cpu').numpy()) /2\n",
        "\n",
        "            avg_preds.append(y_preds)\n",
        "        avg_preds = np.mean(avg_preds, axis=0)\n",
        "        preds.append(avg_preds)\n",
        "    preds = np.concatenate(preds)\n",
        "    return preds"
      ]
    },
    {
      "cell_type": "code",
      "execution_count": null,
      "metadata": {
        "id": "KFhm_tlQRMsW",
        "colab": {
          "base_uri": "https://localhost:8080/",
          "height": 81,
          "referenced_widgets": [
            "0702212ed6a44edab28e4405ded056aa",
            "9b0235d6c3e54ef7939bcd991bb2ccac",
            "ab4f0be129664432baf625a2369ca7d4",
            "d20b447ef24d4b8a85352df31f52944f",
            "c5f43a26cbe4472ab0efe06b5c71e5b2",
            "0a58f30f101540f1891332f3c5e7ae68",
            "b8abf8e3a310405b878f36c083ae4d72",
            "ae177ec7719b4b3d8f475ad19eec39bc",
            "558fbeca934d4ddc8f83a36ac8ed418b",
            "ea5ce55319e444eeb7d6a338d93278c9",
            "20d6b17f6a74424a9be2f3d561b492a5",
            "0e3d3c09e81247509eaf3e8f62abfbca",
            "dd064ba495e14463bc7c7c5a6e909612",
            "b8e1520bba70491fb7e9a3244b5cbc17",
            "407bb4cec4c544ddb72bb3c725472f4d",
            "4acb8f23349c4798b7ba9b5cd2dc4a21",
            "4640e869e5df4715bd92ffe590a7f8d2",
            "84c237981b0f4afd94a29d1c2412bcbb",
            "3dba511bd01a47af9417738bc159c3c9",
            "caac035bb28d47329a45fdd47fd4c01b",
            "86cd292b9ea44f2299434dec1a2c71a5",
            "a98adf54fa3c4cf68b7f55fba9df5e96"
          ]
        },
        "outputId": "0c185a2b-f20f-42a6-a99f-bc9ed656f4cf"
      },
      "outputs": [
        {
          "output_type": "display_data",
          "data": {
            "text/plain": [
              "  0%|          | 0/108 [00:00<?, ?it/s]"
            ],
            "application/vnd.jupyter.widget-view+json": {
              "version_major": 2,
              "version_minor": 0,
              "model_id": "0702212ed6a44edab28e4405ded056aa"
            }
          },
          "metadata": {}
        },
        {
          "output_type": "display_data",
          "data": {
            "text/plain": [
              "  0%|          | 0/108 [00:00<?, ?it/s]"
            ],
            "application/vnd.jupyter.widget-view+json": {
              "version_major": 2,
              "version_minor": 0,
              "model_id": "0e3d3c09e81247509eaf3e8f62abfbca"
            }
          },
          "metadata": {}
        }
      ],
      "source": [
        "model_path = ['/content/drive/MyDrive/Digital-Africa-Plantation-Counting-Challenge/Models/tf_efficientnetv2_xl_in21k_fold_v1_0_best.pth',\n",
        "              '/content/drive/MyDrive/Digital-Africa-Plantation-Counting-Challenge/Models/tf_efficientnetv2_xl_in21k_fold_v1_1_best.pth']\n",
        "test_dataset = TestDataset(test, transform=get_transforms(data='valid'))\n",
        "test_loader = DataLoader(test_dataset, batch_size=CFG.batch_size, shuffle=False,\n",
        "                         num_workers=CFG.num_workers, pin_memory=True)\n",
        "e = 0\n",
        "model = CustomModel( model_name='tf_efficientnetv2_xl_in21k', pretrained=False)\n",
        "for i in model_path:\n",
        "  e = e + 1\n",
        "  model.load_state_dict(torch.load(i)['model'])\n",
        "  model.eval()\n",
        "  models = [model.to(device)]\n",
        "  predictions = inference(models, test_loader, device)\n",
        "  test[CFG.target_cols] = predictions\n",
        "  test[['ImageId'] + CFG.target_cols].to_csv(OUTPUT_DIR+'TFV3'+str(e)+'Submission.csv', index=False)\n"
      ]
    },
    {
      "cell_type": "code",
      "execution_count": null,
      "metadata": {
        "id": "ip4HWFLFcEkS"
      },
      "outputs": [],
      "source": [
        "ypredtest1 = pd.read_csv('/content/drive/MyDrive/Digital-Africa-Plantation-Counting-Challenge/Combine/SSSubmission (1).csv')\n",
        "ypredtest2 = pd.read_csv('/content/drive/MyDrive/Digital-Africa-Plantation-Counting-Challenge/Combine/SubmissionFold5 (1).csv')\n",
        "#ypredtest3 = pd.read_csv('/content/drive/MyDrive/Digital-Africa-Plantation-Counting-Challenge/Combine/tf_1Submission-2 (3).csv')\n",
        "#ypredtest4 = pd.read_csv('/content/drive/MyDrive/Digital-Africa-Plantation-Counting-Challenge/Combine/submissionfoldcombine-4 (1).csv')\n"
      ]
    },
    {
      "cell_type": "code",
      "source": [
        "test['Target'] =  0.5*ypredtest1.Target + 0.5*ypredtest1.Target\n",
        "#test[\"Target\"] = test[\"Target\"].apply(lambda x: round(x, 0))\n",
        "test.to_csv(OUTPUT_DIR+'FinalSubmit.csv', index=False)\n",
        "test"
      ],
      "metadata": {
        "id": "4r2Ur1-pNFBr"
      },
      "execution_count": null,
      "outputs": []
    },
    {
      "cell_type": "code",
      "source": [
        "ypredtest1 = pd.read_csv('/content/drive/MyDrive/Digital-Africa-Plantation-Counting-Challenge/Combine/FinalSubmit-9 (1).csv')\n",
        "ypredtest1['Target'] = ypredtest1['Target'].astype(int)"
      ],
      "metadata": {
        "id": "ewclmw-DB9Fz"
      },
      "execution_count": null,
      "outputs": []
    },
    {
      "cell_type": "code",
      "source": [
        "ypredtest1.to_csv('FinalSubmit.csv', index=False)\n"
      ],
      "metadata": {
        "id": "Zd05ZoU3CAjX"
      },
      "execution_count": null,
      "outputs": []
    }
  ],
  "metadata": {
    "colab": {
      "collapsed_sections": [
        "Gu1EwTSDtQYq",
        "8-1qHmDbNbpw",
        "pLjumcH_bwF9",
        "bSgtG62hMga4",
        "jUP34SuciG2b",
        "hWMF88GHMj7V",
        "sw67kFUsqBOh",
        "mbVOA_fipsAl",
        "FHghod8NgepE",
        "F3Vpsm0DpyZp",
        "M0D7tv2v8t_3",
        "IYRc1EU2EkmR",
        "bbA16zndERDK",
        "0eUGxA2V5YlB",
        "aRDl8kRsEiQx",
        "37FZQmQpEqPA",
        "Pkylccd0Evqy",
        "KAsomnh8Ez3o",
        "9fmwYzslE4L6",
        "1qM0yA1XE8IO",
        "1D90ZKO4E_Kf",
        "nFxYOBFUFDyI",
        "65A31-M_fBWv",
        "1LY3kQyhuIiY",
        "PlMPHr9HpZ3W",
        "32fkuQl3piUJ",
        "MULFOFOUpoQY",
        "JBOGCcUbG_kL",
        "AdcaCi7zrMef",
        "kwEv5zyqlOY2",
        "So_KaYkzMsEL",
        "Yo5ejszKa2_j",
        "Bsg2YgoDa7q7",
        "FyYSxok7bFoG",
        "NvKl1ozdZ6n6",
        "S81M8IQNLLz7",
        "zqRpyocQM0aS",
        "RdNWyhUMcyBN",
        "Y1idcj13cnOF",
        "-wV4TkUkdYm_",
        "HOJLu9ZNMAy3",
        "0rhJH--bAAFy",
        "nDkqFWPYWpXv",
        "AzC8eJmBWyMC",
        "Z_kBVeNtXC-P",
        "aW_eP1W3XMyV",
        "-91kG3HUXUgY",
        "05GlSfJQXft1",
        "GFHwXsGxXozT",
        "tJqRwwpWShpS",
        "xFmJ2SEzN7d8",
        "p5kXnPN6ODOM",
        "TmCnHGirbUsI",
        "lpboPV7oc9OI"
      ],
      "machine_shape": "hm",
      "provenance": [],
      "gpuType": "A100",
      "gpuClass": "premium"
    },
    "gpuClass": "premium",
    "kernelspec": {
      "display_name": "Python 3",
      "name": "python3"
    },
    "language_info": {
      "name": "python"
    },
    "widgets": {
      "application/vnd.jupyter.widget-state+json": {
        "0702212ed6a44edab28e4405ded056aa": {
          "model_module": "@jupyter-widgets/controls",
          "model_name": "HBoxModel",
          "model_module_version": "1.5.0",
          "state": {
            "_dom_classes": [],
            "_model_module": "@jupyter-widgets/controls",
            "_model_module_version": "1.5.0",
            "_model_name": "HBoxModel",
            "_view_count": null,
            "_view_module": "@jupyter-widgets/controls",
            "_view_module_version": "1.5.0",
            "_view_name": "HBoxView",
            "box_style": "",
            "children": [
              "IPY_MODEL_9b0235d6c3e54ef7939bcd991bb2ccac",
              "IPY_MODEL_ab4f0be129664432baf625a2369ca7d4",
              "IPY_MODEL_d20b447ef24d4b8a85352df31f52944f"
            ],
            "layout": "IPY_MODEL_c5f43a26cbe4472ab0efe06b5c71e5b2"
          }
        },
        "9b0235d6c3e54ef7939bcd991bb2ccac": {
          "model_module": "@jupyter-widgets/controls",
          "model_name": "HTMLModel",
          "model_module_version": "1.5.0",
          "state": {
            "_dom_classes": [],
            "_model_module": "@jupyter-widgets/controls",
            "_model_module_version": "1.5.0",
            "_model_name": "HTMLModel",
            "_view_count": null,
            "_view_module": "@jupyter-widgets/controls",
            "_view_module_version": "1.5.0",
            "_view_name": "HTMLView",
            "description": "",
            "description_tooltip": null,
            "layout": "IPY_MODEL_0a58f30f101540f1891332f3c5e7ae68",
            "placeholder": "​",
            "style": "IPY_MODEL_b8abf8e3a310405b878f36c083ae4d72",
            "value": "100%"
          }
        },
        "ab4f0be129664432baf625a2369ca7d4": {
          "model_module": "@jupyter-widgets/controls",
          "model_name": "FloatProgressModel",
          "model_module_version": "1.5.0",
          "state": {
            "_dom_classes": [],
            "_model_module": "@jupyter-widgets/controls",
            "_model_module_version": "1.5.0",
            "_model_name": "FloatProgressModel",
            "_view_count": null,
            "_view_module": "@jupyter-widgets/controls",
            "_view_module_version": "1.5.0",
            "_view_name": "ProgressView",
            "bar_style": "success",
            "description": "",
            "description_tooltip": null,
            "layout": "IPY_MODEL_ae177ec7719b4b3d8f475ad19eec39bc",
            "max": 108,
            "min": 0,
            "orientation": "horizontal",
            "style": "IPY_MODEL_558fbeca934d4ddc8f83a36ac8ed418b",
            "value": 108
          }
        },
        "d20b447ef24d4b8a85352df31f52944f": {
          "model_module": "@jupyter-widgets/controls",
          "model_name": "HTMLModel",
          "model_module_version": "1.5.0",
          "state": {
            "_dom_classes": [],
            "_model_module": "@jupyter-widgets/controls",
            "_model_module_version": "1.5.0",
            "_model_name": "HTMLModel",
            "_view_count": null,
            "_view_module": "@jupyter-widgets/controls",
            "_view_module_version": "1.5.0",
            "_view_name": "HTMLView",
            "description": "",
            "description_tooltip": null,
            "layout": "IPY_MODEL_ea5ce55319e444eeb7d6a338d93278c9",
            "placeholder": "​",
            "style": "IPY_MODEL_20d6b17f6a74424a9be2f3d561b492a5",
            "value": " 108/108 [02:16&lt;00:00,  1.66s/it]"
          }
        },
        "c5f43a26cbe4472ab0efe06b5c71e5b2": {
          "model_module": "@jupyter-widgets/base",
          "model_name": "LayoutModel",
          "model_module_version": "1.2.0",
          "state": {
            "_model_module": "@jupyter-widgets/base",
            "_model_module_version": "1.2.0",
            "_model_name": "LayoutModel",
            "_view_count": null,
            "_view_module": "@jupyter-widgets/base",
            "_view_module_version": "1.2.0",
            "_view_name": "LayoutView",
            "align_content": null,
            "align_items": null,
            "align_self": null,
            "border": null,
            "bottom": null,
            "display": null,
            "flex": null,
            "flex_flow": null,
            "grid_area": null,
            "grid_auto_columns": null,
            "grid_auto_flow": null,
            "grid_auto_rows": null,
            "grid_column": null,
            "grid_gap": null,
            "grid_row": null,
            "grid_template_areas": null,
            "grid_template_columns": null,
            "grid_template_rows": null,
            "height": null,
            "justify_content": null,
            "justify_items": null,
            "left": null,
            "margin": null,
            "max_height": null,
            "max_width": null,
            "min_height": null,
            "min_width": null,
            "object_fit": null,
            "object_position": null,
            "order": null,
            "overflow": null,
            "overflow_x": null,
            "overflow_y": null,
            "padding": null,
            "right": null,
            "top": null,
            "visibility": null,
            "width": null
          }
        },
        "0a58f30f101540f1891332f3c5e7ae68": {
          "model_module": "@jupyter-widgets/base",
          "model_name": "LayoutModel",
          "model_module_version": "1.2.0",
          "state": {
            "_model_module": "@jupyter-widgets/base",
            "_model_module_version": "1.2.0",
            "_model_name": "LayoutModel",
            "_view_count": null,
            "_view_module": "@jupyter-widgets/base",
            "_view_module_version": "1.2.0",
            "_view_name": "LayoutView",
            "align_content": null,
            "align_items": null,
            "align_self": null,
            "border": null,
            "bottom": null,
            "display": null,
            "flex": null,
            "flex_flow": null,
            "grid_area": null,
            "grid_auto_columns": null,
            "grid_auto_flow": null,
            "grid_auto_rows": null,
            "grid_column": null,
            "grid_gap": null,
            "grid_row": null,
            "grid_template_areas": null,
            "grid_template_columns": null,
            "grid_template_rows": null,
            "height": null,
            "justify_content": null,
            "justify_items": null,
            "left": null,
            "margin": null,
            "max_height": null,
            "max_width": null,
            "min_height": null,
            "min_width": null,
            "object_fit": null,
            "object_position": null,
            "order": null,
            "overflow": null,
            "overflow_x": null,
            "overflow_y": null,
            "padding": null,
            "right": null,
            "top": null,
            "visibility": null,
            "width": null
          }
        },
        "b8abf8e3a310405b878f36c083ae4d72": {
          "model_module": "@jupyter-widgets/controls",
          "model_name": "DescriptionStyleModel",
          "model_module_version": "1.5.0",
          "state": {
            "_model_module": "@jupyter-widgets/controls",
            "_model_module_version": "1.5.0",
            "_model_name": "DescriptionStyleModel",
            "_view_count": null,
            "_view_module": "@jupyter-widgets/base",
            "_view_module_version": "1.2.0",
            "_view_name": "StyleView",
            "description_width": ""
          }
        },
        "ae177ec7719b4b3d8f475ad19eec39bc": {
          "model_module": "@jupyter-widgets/base",
          "model_name": "LayoutModel",
          "model_module_version": "1.2.0",
          "state": {
            "_model_module": "@jupyter-widgets/base",
            "_model_module_version": "1.2.0",
            "_model_name": "LayoutModel",
            "_view_count": null,
            "_view_module": "@jupyter-widgets/base",
            "_view_module_version": "1.2.0",
            "_view_name": "LayoutView",
            "align_content": null,
            "align_items": null,
            "align_self": null,
            "border": null,
            "bottom": null,
            "display": null,
            "flex": null,
            "flex_flow": null,
            "grid_area": null,
            "grid_auto_columns": null,
            "grid_auto_flow": null,
            "grid_auto_rows": null,
            "grid_column": null,
            "grid_gap": null,
            "grid_row": null,
            "grid_template_areas": null,
            "grid_template_columns": null,
            "grid_template_rows": null,
            "height": null,
            "justify_content": null,
            "justify_items": null,
            "left": null,
            "margin": null,
            "max_height": null,
            "max_width": null,
            "min_height": null,
            "min_width": null,
            "object_fit": null,
            "object_position": null,
            "order": null,
            "overflow": null,
            "overflow_x": null,
            "overflow_y": null,
            "padding": null,
            "right": null,
            "top": null,
            "visibility": null,
            "width": null
          }
        },
        "558fbeca934d4ddc8f83a36ac8ed418b": {
          "model_module": "@jupyter-widgets/controls",
          "model_name": "ProgressStyleModel",
          "model_module_version": "1.5.0",
          "state": {
            "_model_module": "@jupyter-widgets/controls",
            "_model_module_version": "1.5.0",
            "_model_name": "ProgressStyleModel",
            "_view_count": null,
            "_view_module": "@jupyter-widgets/base",
            "_view_module_version": "1.2.0",
            "_view_name": "StyleView",
            "bar_color": null,
            "description_width": ""
          }
        },
        "ea5ce55319e444eeb7d6a338d93278c9": {
          "model_module": "@jupyter-widgets/base",
          "model_name": "LayoutModel",
          "model_module_version": "1.2.0",
          "state": {
            "_model_module": "@jupyter-widgets/base",
            "_model_module_version": "1.2.0",
            "_model_name": "LayoutModel",
            "_view_count": null,
            "_view_module": "@jupyter-widgets/base",
            "_view_module_version": "1.2.0",
            "_view_name": "LayoutView",
            "align_content": null,
            "align_items": null,
            "align_self": null,
            "border": null,
            "bottom": null,
            "display": null,
            "flex": null,
            "flex_flow": null,
            "grid_area": null,
            "grid_auto_columns": null,
            "grid_auto_flow": null,
            "grid_auto_rows": null,
            "grid_column": null,
            "grid_gap": null,
            "grid_row": null,
            "grid_template_areas": null,
            "grid_template_columns": null,
            "grid_template_rows": null,
            "height": null,
            "justify_content": null,
            "justify_items": null,
            "left": null,
            "margin": null,
            "max_height": null,
            "max_width": null,
            "min_height": null,
            "min_width": null,
            "object_fit": null,
            "object_position": null,
            "order": null,
            "overflow": null,
            "overflow_x": null,
            "overflow_y": null,
            "padding": null,
            "right": null,
            "top": null,
            "visibility": null,
            "width": null
          }
        },
        "20d6b17f6a74424a9be2f3d561b492a5": {
          "model_module": "@jupyter-widgets/controls",
          "model_name": "DescriptionStyleModel",
          "model_module_version": "1.5.0",
          "state": {
            "_model_module": "@jupyter-widgets/controls",
            "_model_module_version": "1.5.0",
            "_model_name": "DescriptionStyleModel",
            "_view_count": null,
            "_view_module": "@jupyter-widgets/base",
            "_view_module_version": "1.2.0",
            "_view_name": "StyleView",
            "description_width": ""
          }
        },
        "0e3d3c09e81247509eaf3e8f62abfbca": {
          "model_module": "@jupyter-widgets/controls",
          "model_name": "HBoxModel",
          "model_module_version": "1.5.0",
          "state": {
            "_dom_classes": [],
            "_model_module": "@jupyter-widgets/controls",
            "_model_module_version": "1.5.0",
            "_model_name": "HBoxModel",
            "_view_count": null,
            "_view_module": "@jupyter-widgets/controls",
            "_view_module_version": "1.5.0",
            "_view_name": "HBoxView",
            "box_style": "",
            "children": [
              "IPY_MODEL_dd064ba495e14463bc7c7c5a6e909612",
              "IPY_MODEL_b8e1520bba70491fb7e9a3244b5cbc17",
              "IPY_MODEL_407bb4cec4c544ddb72bb3c725472f4d"
            ],
            "layout": "IPY_MODEL_4acb8f23349c4798b7ba9b5cd2dc4a21"
          }
        },
        "dd064ba495e14463bc7c7c5a6e909612": {
          "model_module": "@jupyter-widgets/controls",
          "model_name": "HTMLModel",
          "model_module_version": "1.5.0",
          "state": {
            "_dom_classes": [],
            "_model_module": "@jupyter-widgets/controls",
            "_model_module_version": "1.5.0",
            "_model_name": "HTMLModel",
            "_view_count": null,
            "_view_module": "@jupyter-widgets/controls",
            "_view_module_version": "1.5.0",
            "_view_name": "HTMLView",
            "description": "",
            "description_tooltip": null,
            "layout": "IPY_MODEL_4640e869e5df4715bd92ffe590a7f8d2",
            "placeholder": "​",
            "style": "IPY_MODEL_84c237981b0f4afd94a29d1c2412bcbb",
            "value": "100%"
          }
        },
        "b8e1520bba70491fb7e9a3244b5cbc17": {
          "model_module": "@jupyter-widgets/controls",
          "model_name": "FloatProgressModel",
          "model_module_version": "1.5.0",
          "state": {
            "_dom_classes": [],
            "_model_module": "@jupyter-widgets/controls",
            "_model_module_version": "1.5.0",
            "_model_name": "FloatProgressModel",
            "_view_count": null,
            "_view_module": "@jupyter-widgets/controls",
            "_view_module_version": "1.5.0",
            "_view_name": "ProgressView",
            "bar_style": "success",
            "description": "",
            "description_tooltip": null,
            "layout": "IPY_MODEL_3dba511bd01a47af9417738bc159c3c9",
            "max": 108,
            "min": 0,
            "orientation": "horizontal",
            "style": "IPY_MODEL_caac035bb28d47329a45fdd47fd4c01b",
            "value": 108
          }
        },
        "407bb4cec4c544ddb72bb3c725472f4d": {
          "model_module": "@jupyter-widgets/controls",
          "model_name": "HTMLModel",
          "model_module_version": "1.5.0",
          "state": {
            "_dom_classes": [],
            "_model_module": "@jupyter-widgets/controls",
            "_model_module_version": "1.5.0",
            "_model_name": "HTMLModel",
            "_view_count": null,
            "_view_module": "@jupyter-widgets/controls",
            "_view_module_version": "1.5.0",
            "_view_name": "HTMLView",
            "description": "",
            "description_tooltip": null,
            "layout": "IPY_MODEL_86cd292b9ea44f2299434dec1a2c71a5",
            "placeholder": "​",
            "style": "IPY_MODEL_a98adf54fa3c4cf68b7f55fba9df5e96",
            "value": " 108/108 [00:14&lt;00:00,  8.15it/s]"
          }
        },
        "4acb8f23349c4798b7ba9b5cd2dc4a21": {
          "model_module": "@jupyter-widgets/base",
          "model_name": "LayoutModel",
          "model_module_version": "1.2.0",
          "state": {
            "_model_module": "@jupyter-widgets/base",
            "_model_module_version": "1.2.0",
            "_model_name": "LayoutModel",
            "_view_count": null,
            "_view_module": "@jupyter-widgets/base",
            "_view_module_version": "1.2.0",
            "_view_name": "LayoutView",
            "align_content": null,
            "align_items": null,
            "align_self": null,
            "border": null,
            "bottom": null,
            "display": null,
            "flex": null,
            "flex_flow": null,
            "grid_area": null,
            "grid_auto_columns": null,
            "grid_auto_flow": null,
            "grid_auto_rows": null,
            "grid_column": null,
            "grid_gap": null,
            "grid_row": null,
            "grid_template_areas": null,
            "grid_template_columns": null,
            "grid_template_rows": null,
            "height": null,
            "justify_content": null,
            "justify_items": null,
            "left": null,
            "margin": null,
            "max_height": null,
            "max_width": null,
            "min_height": null,
            "min_width": null,
            "object_fit": null,
            "object_position": null,
            "order": null,
            "overflow": null,
            "overflow_x": null,
            "overflow_y": null,
            "padding": null,
            "right": null,
            "top": null,
            "visibility": null,
            "width": null
          }
        },
        "4640e869e5df4715bd92ffe590a7f8d2": {
          "model_module": "@jupyter-widgets/base",
          "model_name": "LayoutModel",
          "model_module_version": "1.2.0",
          "state": {
            "_model_module": "@jupyter-widgets/base",
            "_model_module_version": "1.2.0",
            "_model_name": "LayoutModel",
            "_view_count": null,
            "_view_module": "@jupyter-widgets/base",
            "_view_module_version": "1.2.0",
            "_view_name": "LayoutView",
            "align_content": null,
            "align_items": null,
            "align_self": null,
            "border": null,
            "bottom": null,
            "display": null,
            "flex": null,
            "flex_flow": null,
            "grid_area": null,
            "grid_auto_columns": null,
            "grid_auto_flow": null,
            "grid_auto_rows": null,
            "grid_column": null,
            "grid_gap": null,
            "grid_row": null,
            "grid_template_areas": null,
            "grid_template_columns": null,
            "grid_template_rows": null,
            "height": null,
            "justify_content": null,
            "justify_items": null,
            "left": null,
            "margin": null,
            "max_height": null,
            "max_width": null,
            "min_height": null,
            "min_width": null,
            "object_fit": null,
            "object_position": null,
            "order": null,
            "overflow": null,
            "overflow_x": null,
            "overflow_y": null,
            "padding": null,
            "right": null,
            "top": null,
            "visibility": null,
            "width": null
          }
        },
        "84c237981b0f4afd94a29d1c2412bcbb": {
          "model_module": "@jupyter-widgets/controls",
          "model_name": "DescriptionStyleModel",
          "model_module_version": "1.5.0",
          "state": {
            "_model_module": "@jupyter-widgets/controls",
            "_model_module_version": "1.5.0",
            "_model_name": "DescriptionStyleModel",
            "_view_count": null,
            "_view_module": "@jupyter-widgets/base",
            "_view_module_version": "1.2.0",
            "_view_name": "StyleView",
            "description_width": ""
          }
        },
        "3dba511bd01a47af9417738bc159c3c9": {
          "model_module": "@jupyter-widgets/base",
          "model_name": "LayoutModel",
          "model_module_version": "1.2.0",
          "state": {
            "_model_module": "@jupyter-widgets/base",
            "_model_module_version": "1.2.0",
            "_model_name": "LayoutModel",
            "_view_count": null,
            "_view_module": "@jupyter-widgets/base",
            "_view_module_version": "1.2.0",
            "_view_name": "LayoutView",
            "align_content": null,
            "align_items": null,
            "align_self": null,
            "border": null,
            "bottom": null,
            "display": null,
            "flex": null,
            "flex_flow": null,
            "grid_area": null,
            "grid_auto_columns": null,
            "grid_auto_flow": null,
            "grid_auto_rows": null,
            "grid_column": null,
            "grid_gap": null,
            "grid_row": null,
            "grid_template_areas": null,
            "grid_template_columns": null,
            "grid_template_rows": null,
            "height": null,
            "justify_content": null,
            "justify_items": null,
            "left": null,
            "margin": null,
            "max_height": null,
            "max_width": null,
            "min_height": null,
            "min_width": null,
            "object_fit": null,
            "object_position": null,
            "order": null,
            "overflow": null,
            "overflow_x": null,
            "overflow_y": null,
            "padding": null,
            "right": null,
            "top": null,
            "visibility": null,
            "width": null
          }
        },
        "caac035bb28d47329a45fdd47fd4c01b": {
          "model_module": "@jupyter-widgets/controls",
          "model_name": "ProgressStyleModel",
          "model_module_version": "1.5.0",
          "state": {
            "_model_module": "@jupyter-widgets/controls",
            "_model_module_version": "1.5.0",
            "_model_name": "ProgressStyleModel",
            "_view_count": null,
            "_view_module": "@jupyter-widgets/base",
            "_view_module_version": "1.2.0",
            "_view_name": "StyleView",
            "bar_color": null,
            "description_width": ""
          }
        },
        "86cd292b9ea44f2299434dec1a2c71a5": {
          "model_module": "@jupyter-widgets/base",
          "model_name": "LayoutModel",
          "model_module_version": "1.2.0",
          "state": {
            "_model_module": "@jupyter-widgets/base",
            "_model_module_version": "1.2.0",
            "_model_name": "LayoutModel",
            "_view_count": null,
            "_view_module": "@jupyter-widgets/base",
            "_view_module_version": "1.2.0",
            "_view_name": "LayoutView",
            "align_content": null,
            "align_items": null,
            "align_self": null,
            "border": null,
            "bottom": null,
            "display": null,
            "flex": null,
            "flex_flow": null,
            "grid_area": null,
            "grid_auto_columns": null,
            "grid_auto_flow": null,
            "grid_auto_rows": null,
            "grid_column": null,
            "grid_gap": null,
            "grid_row": null,
            "grid_template_areas": null,
            "grid_template_columns": null,
            "grid_template_rows": null,
            "height": null,
            "justify_content": null,
            "justify_items": null,
            "left": null,
            "margin": null,
            "max_height": null,
            "max_width": null,
            "min_height": null,
            "min_width": null,
            "object_fit": null,
            "object_position": null,
            "order": null,
            "overflow": null,
            "overflow_x": null,
            "overflow_y": null,
            "padding": null,
            "right": null,
            "top": null,
            "visibility": null,
            "width": null
          }
        },
        "a98adf54fa3c4cf68b7f55fba9df5e96": {
          "model_module": "@jupyter-widgets/controls",
          "model_name": "DescriptionStyleModel",
          "model_module_version": "1.5.0",
          "state": {
            "_model_module": "@jupyter-widgets/controls",
            "_model_module_version": "1.5.0",
            "_model_name": "DescriptionStyleModel",
            "_view_count": null,
            "_view_module": "@jupyter-widgets/base",
            "_view_module_version": "1.2.0",
            "_view_name": "StyleView",
            "description_width": ""
          }
        }
      }
    }
  },
  "nbformat": 4,
  "nbformat_minor": 0
}